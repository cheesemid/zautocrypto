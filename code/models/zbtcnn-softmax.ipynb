{
 "cells": [
  {
   "cell_type": "code",
   "execution_count": 1,
   "source": [
    "import os\r\n",
    "import sys\r\n",
    "import random\r\n",
    "import time\r\n",
    "from collections import deque\r\n",
    "import pandas as pd\r\n",
    "import numpy as np\r\n",
    "import tensorflow as tf\r\n",
    "from sklearn import preprocessing\r\n",
    "from tensorflow.keras.models import Sequential\r\n",
    "from tensorflow.keras.layers import Dense, Dropout, LSTM, BatchNormalization, Activation, Flatten, MaxPooling2D, Conv2D\r\n",
    "from tensorflow.keras.callbacks import ModelCheckpoint, TensorBoard\r\n",
    "from tensorflow.keras import optimizers\r\n",
    "from tensorflow.keras import utils\r\n",
    "\r\n",
    "# Check GPU\r\n",
    "print(\"Num GPUs Available: \", len(tf.config.list_physical_devices('GPU')))\r\n",
    "# tf.config.list_physical_devices()"
   ],
   "outputs": [
    {
     "output_type": "stream",
     "name": "stdout",
     "text": [
      "Num GPUs Available:  1\n"
     ]
    }
   ],
   "metadata": {}
  },
  {
   "cell_type": "code",
   "execution_count": 2,
   "source": [
    "SEQ_LEN = 24 #hours\r\n",
    "FUTURE_PERIOD_PREDICT = 3 #hours\r\n",
    "\r\n",
    "# Change time format on csv read\r\n",
    "do_time_fix = False\r\n",
    "\r\n",
    "# Model parameters\r\n",
    "EPOCHS = 10\r\n",
    "BATCH_SIZE = 64\r\n",
    "NAME = f\"e{EPOCHS}-b{BATCH_SIZE}-s{SEQ_LEN}-fpp{FUTURE_PERIOD_PREDICT}-{int(time.time())}\""
   ],
   "outputs": [],
   "metadata": {}
  },
  {
   "cell_type": "code",
   "execution_count": 3,
   "source": [
    "## Import data\r\n",
    "# csv_file = \"BTCUSDT-1h-data.csv\"\r\n",
    "csv_file = \"output.csv\"\r\n",
    "\r\n",
    "data = pd.read_csv(csv_file, skiprows=[0], names=[\"timestamp\",\"open\",\"high\",\"low\",\"close\",\"volume\",\"close_time\",\"quote_av\",\"trades\",\"tb_base_av\",\"tb_quote_av\",\"ignore\"])\r\n",
    "\r\n",
    "if do_time_fix:\r\n",
    "    for i in range(len(data[\"timestamp\"])):\r\n",
    "        t = data[\"timestamp\"][i].split(\".\")[0]\r\n",
    "\r\n",
    "\r\n",
    "        # 2017-08-17 04:00:00.000\r\n",
    "        tstruct = time.strptime(t, \"%Y-%m-%d %H:%M:%S\")\r\n",
    "        epoch_sec = int(time.mktime(tstruct))\r\n",
    "\r\n",
    "        data[\"timestamp\"][i] = epoch_sec\r\n",
    "\r\n",
    "    data.to_csv(f\"{csv_file.split('.')[0]}-formatted.csv\")\r\n",
    "\r\n",
    "data.set_index(\"timestamp\", inplace=True)\r\n",
    "\r\n",
    "data.head()"
   ],
   "outputs": [
    {
     "output_type": "execute_result",
     "data": {
      "text/html": [
       "<div>\n",
       "<style scoped>\n",
       "    .dataframe tbody tr th:only-of-type {\n",
       "        vertical-align: middle;\n",
       "    }\n",
       "\n",
       "    .dataframe tbody tr th {\n",
       "        vertical-align: top;\n",
       "    }\n",
       "\n",
       "    .dataframe thead th {\n",
       "        text-align: right;\n",
       "    }\n",
       "</style>\n",
       "<table border=\"1\" class=\"dataframe\">\n",
       "  <thead>\n",
       "    <tr style=\"text-align: right;\">\n",
       "      <th></th>\n",
       "      <th>open</th>\n",
       "      <th>high</th>\n",
       "      <th>low</th>\n",
       "      <th>close</th>\n",
       "      <th>volume</th>\n",
       "      <th>close_time</th>\n",
       "      <th>quote_av</th>\n",
       "      <th>trades</th>\n",
       "      <th>tb_base_av</th>\n",
       "      <th>tb_quote_av</th>\n",
       "      <th>ignore</th>\n",
       "    </tr>\n",
       "    <tr>\n",
       "      <th>timestamp</th>\n",
       "      <th></th>\n",
       "      <th></th>\n",
       "      <th></th>\n",
       "      <th></th>\n",
       "      <th></th>\n",
       "      <th></th>\n",
       "      <th></th>\n",
       "      <th></th>\n",
       "      <th></th>\n",
       "      <th></th>\n",
       "      <th></th>\n",
       "    </tr>\n",
       "  </thead>\n",
       "  <tbody>\n",
       "    <tr>\n",
       "      <th>1502956800</th>\n",
       "      <td>4261.48</td>\n",
       "      <td>4313.62</td>\n",
       "      <td>4261.32</td>\n",
       "      <td>4308.83</td>\n",
       "      <td>47.181009</td>\n",
       "      <td>1502945999999</td>\n",
       "      <td>202366.138393</td>\n",
       "      <td>171</td>\n",
       "      <td>35.160503</td>\n",
       "      <td>150952.477943</td>\n",
       "      <td>7887.635513</td>\n",
       "    </tr>\n",
       "    <tr>\n",
       "      <th>1502960400</th>\n",
       "      <td>4308.83</td>\n",
       "      <td>4328.69</td>\n",
       "      <td>4291.37</td>\n",
       "      <td>4315.32</td>\n",
       "      <td>23.234916</td>\n",
       "      <td>1502949599999</td>\n",
       "      <td>100304.823567</td>\n",
       "      <td>102</td>\n",
       "      <td>21.448071</td>\n",
       "      <td>92608.279728</td>\n",
       "      <td>8039.262402</td>\n",
       "    </tr>\n",
       "    <tr>\n",
       "      <th>1502964000</th>\n",
       "      <td>4330.29</td>\n",
       "      <td>4345.45</td>\n",
       "      <td>4309.37</td>\n",
       "      <td>4324.35</td>\n",
       "      <td>7.229691</td>\n",
       "      <td>1502953199999</td>\n",
       "      <td>31282.312670</td>\n",
       "      <td>36</td>\n",
       "      <td>4.802861</td>\n",
       "      <td>20795.317224</td>\n",
       "      <td>8041.760498</td>\n",
       "    </tr>\n",
       "    <tr>\n",
       "      <th>1502967600</th>\n",
       "      <td>4316.62</td>\n",
       "      <td>4349.99</td>\n",
       "      <td>4287.41</td>\n",
       "      <td>4349.99</td>\n",
       "      <td>4.443249</td>\n",
       "      <td>1502956799999</td>\n",
       "      <td>19241.058300</td>\n",
       "      <td>25</td>\n",
       "      <td>2.602292</td>\n",
       "      <td>11291.347015</td>\n",
       "      <td>8048.127886</td>\n",
       "    </tr>\n",
       "    <tr>\n",
       "      <th>1502971200</th>\n",
       "      <td>4333.32</td>\n",
       "      <td>4377.85</td>\n",
       "      <td>4333.32</td>\n",
       "      <td>4360.69</td>\n",
       "      <td>0.972807</td>\n",
       "      <td>1502960399999</td>\n",
       "      <td>4239.503586</td>\n",
       "      <td>28</td>\n",
       "      <td>0.814655</td>\n",
       "      <td>3552.746817</td>\n",
       "      <td>8018.036500</td>\n",
       "    </tr>\n",
       "  </tbody>\n",
       "</table>\n",
       "</div>"
      ],
      "text/plain": [
       "               open     high      low    close     volume     close_time  \\\n",
       "timestamp                                                                  \n",
       "1502956800  4261.48  4313.62  4261.32  4308.83  47.181009  1502945999999   \n",
       "1502960400  4308.83  4328.69  4291.37  4315.32  23.234916  1502949599999   \n",
       "1502964000  4330.29  4345.45  4309.37  4324.35   7.229691  1502953199999   \n",
       "1502967600  4316.62  4349.99  4287.41  4349.99   4.443249  1502956799999   \n",
       "1502971200  4333.32  4377.85  4333.32  4360.69   0.972807  1502960399999   \n",
       "\n",
       "                 quote_av  trades  tb_base_av    tb_quote_av       ignore  \n",
       "timestamp                                                                  \n",
       "1502956800  202366.138393     171   35.160503  150952.477943  7887.635513  \n",
       "1502960400  100304.823567     102   21.448071   92608.279728  8039.262402  \n",
       "1502964000   31282.312670      36    4.802861   20795.317224  8041.760498  \n",
       "1502967600   19241.058300      25    2.602292   11291.347015  8048.127886  \n",
       "1502971200    4239.503586      28    0.814655    3552.746817  8018.036500  "
      ]
     },
     "metadata": {},
     "execution_count": 3
    }
   ],
   "metadata": {}
  },
  {
   "cell_type": "code",
   "execution_count": 4,
   "source": [
    "## Formatting data\r\n",
    "try:\r\n",
    "    data = data.drop([\"trades\", \"quote_av\", \"tb_base_av\", \"tb_quote_av\", \"ignore\", \"close_time\"], 1)\r\n",
    "except:\r\n",
    "    pass\r\n",
    "\r\n",
    "def classify(current, future):\r\n",
    "    if float(future) > float(current):\r\n",
    "        return 1\r\n",
    "    return 0\r\n",
    "\r\n",
    "\r\n",
    "data[\"future\"] = data[\"close\"].shift(-FUTURE_PERIOD_PREDICT)\r\n",
    "\r\n",
    "# Cut off NaNs\r\n",
    "# data = data[:-FUTURE_PERIOD_PREDICT]\r\n",
    "data.dropna(inplace=True)\r\n",
    "\r\n",
    "data[\"target\"] = list(map(classify, data[\"close\"], data[\"future\"]))\r\n",
    "# data[[\"close\", \"future\", \"target\"]].tail()\r\n",
    "data = data.drop(\"future\", 1)\r\n",
    "\r\n",
    "# Split dataset\r\n",
    "last_5_pct = int(len(data) * .95)\r\n",
    "\r\n",
    "train_data = data[:last_5_pct]\r\n",
    "validation_data = data[last_5_pct:]\r\n",
    "\r\n",
    "print(f\"{len(train_data)} :: {len(validation_data)}\")\r\n",
    "\r\n",
    "data.head()"
   ],
   "outputs": [
    {
     "output_type": "stream",
     "name": "stdout",
     "text": [
      "36681 :: 1931\n"
     ]
    },
    {
     "output_type": "stream",
     "name": "stderr",
     "text": [
      "c:\\Users\\jcwco\\Documents\\GitHub\\zautocrypto\\env\\lib\\site-packages\\ipykernel_launcher.py:3: FutureWarning: In a future version of pandas all arguments of DataFrame.drop except for the argument 'labels' will be keyword-only\n",
      "  This is separate from the ipykernel package so we can avoid doing imports until\n",
      "c:\\Users\\jcwco\\Documents\\GitHub\\zautocrypto\\env\\lib\\site-packages\\ipykernel_launcher.py:21: FutureWarning: In a future version of pandas all arguments of DataFrame.drop except for the argument 'labels' will be keyword-only\n"
     ]
    },
    {
     "output_type": "execute_result",
     "data": {
      "text/html": [
       "<div>\n",
       "<style scoped>\n",
       "    .dataframe tbody tr th:only-of-type {\n",
       "        vertical-align: middle;\n",
       "    }\n",
       "\n",
       "    .dataframe tbody tr th {\n",
       "        vertical-align: top;\n",
       "    }\n",
       "\n",
       "    .dataframe thead th {\n",
       "        text-align: right;\n",
       "    }\n",
       "</style>\n",
       "<table border=\"1\" class=\"dataframe\">\n",
       "  <thead>\n",
       "    <tr style=\"text-align: right;\">\n",
       "      <th></th>\n",
       "      <th>open</th>\n",
       "      <th>high</th>\n",
       "      <th>low</th>\n",
       "      <th>close</th>\n",
       "      <th>volume</th>\n",
       "      <th>target</th>\n",
       "    </tr>\n",
       "    <tr>\n",
       "      <th>timestamp</th>\n",
       "      <th></th>\n",
       "      <th></th>\n",
       "      <th></th>\n",
       "      <th></th>\n",
       "      <th></th>\n",
       "      <th></th>\n",
       "    </tr>\n",
       "  </thead>\n",
       "  <tbody>\n",
       "    <tr>\n",
       "      <th>1502956800</th>\n",
       "      <td>4261.48</td>\n",
       "      <td>4313.62</td>\n",
       "      <td>4261.32</td>\n",
       "      <td>4308.83</td>\n",
       "      <td>47.181009</td>\n",
       "      <td>1</td>\n",
       "    </tr>\n",
       "    <tr>\n",
       "      <th>1502960400</th>\n",
       "      <td>4308.83</td>\n",
       "      <td>4328.69</td>\n",
       "      <td>4291.37</td>\n",
       "      <td>4315.32</td>\n",
       "      <td>23.234916</td>\n",
       "      <td>1</td>\n",
       "    </tr>\n",
       "    <tr>\n",
       "      <th>1502964000</th>\n",
       "      <td>4330.29</td>\n",
       "      <td>4345.45</td>\n",
       "      <td>4309.37</td>\n",
       "      <td>4324.35</td>\n",
       "      <td>7.229691</td>\n",
       "      <td>1</td>\n",
       "    </tr>\n",
       "    <tr>\n",
       "      <th>1502967600</th>\n",
       "      <td>4316.62</td>\n",
       "      <td>4349.99</td>\n",
       "      <td>4287.41</td>\n",
       "      <td>4349.99</td>\n",
       "      <td>4.443249</td>\n",
       "      <td>1</td>\n",
       "    </tr>\n",
       "    <tr>\n",
       "      <th>1502971200</th>\n",
       "      <td>4333.32</td>\n",
       "      <td>4377.85</td>\n",
       "      <td>4333.32</td>\n",
       "      <td>4360.69</td>\n",
       "      <td>0.972807</td>\n",
       "      <td>1</td>\n",
       "    </tr>\n",
       "  </tbody>\n",
       "</table>\n",
       "</div>"
      ],
      "text/plain": [
       "               open     high      low    close     volume  target\n",
       "timestamp                                                        \n",
       "1502956800  4261.48  4313.62  4261.32  4308.83  47.181009       1\n",
       "1502960400  4308.83  4328.69  4291.37  4315.32  23.234916       1\n",
       "1502964000  4330.29  4345.45  4309.37  4324.35   7.229691       1\n",
       "1502967600  4316.62  4349.99  4287.41  4349.99   4.443249       1\n",
       "1502971200  4333.32  4377.85  4333.32  4360.69   0.972807       1"
      ]
     },
     "metadata": {},
     "execution_count": 4
    }
   ],
   "metadata": {}
  },
  {
   "cell_type": "code",
   "execution_count": 5,
   "source": [
    "## Helper\r\n",
    "## Ratios of buy to sell targets\r\n",
    "\r\n",
    "## See how balances the input data is\r\n",
    "\r\n",
    "sell_counter = list(data[\"target\"]).count(0)\r\n",
    "buy_counter = list(data[\"target\"]).count(1)\r\n",
    "\r\n",
    "pct_sell = sell_counter / len(data)\r\n",
    "pct_buy = buy_counter / len(data)\r\n",
    "\r\n",
    "print(f\"{pct_sell} :: {pct_buy}\")"
   ],
   "outputs": [
    {
     "output_type": "stream",
     "name": "stdout",
     "text": [
      "0.4820004143789495 :: 0.5179995856210504\n"
     ]
    }
   ],
   "metadata": {}
  },
  {
   "cell_type": "code",
   "execution_count": 6,
   "source": [
    "## Preprocess Data\r\n",
    "\r\n",
    "def preprocess_df(df):\r\n",
    "    for col in df.columns:\r\n",
    "        if col != \"target\":\r\n",
    "            df[col] = df[col].pct_change()\r\n",
    "            df.replace([np.inf, -np.inf], np.nan, inplace=True)\r\n",
    "            df.dropna(inplace=True)\r\n",
    "\r\n",
    "            df[col] = preprocessing.StandardScaler().fit_transform(df[col].values.reshape(-1,1))\r\n",
    "\r\n",
    "    df.dropna(inplace=True)\r\n",
    "\r\n",
    "    sequential_data = []\r\n",
    "    prev_periods = deque(maxlen=SEQ_LEN)\r\n",
    "\r\n",
    "    for i in df.values:\r\n",
    "        prev_periods.append([n for n in i[:-1]])\r\n",
    "        if len(prev_periods) == SEQ_LEN:\r\n",
    "            sequential_data.append([np.array(prev_periods), i[-1]])\r\n",
    "\r\n",
    "    # random.shuffle(sequential_data)\r\n",
    "\r\n",
    "    # Balance buys and sells\r\n",
    "    buys = []\r\n",
    "    sells = []\r\n",
    "\r\n",
    "    for seq, target in sequential_data:\r\n",
    "        if target == 0:\r\n",
    "            sells.append([seq, target])\r\n",
    "        elif target == 1:\r\n",
    "            buys.append([seq, target])\r\n",
    "\r\n",
    "    lower = min(len(buys), len(sells))\r\n",
    "\r\n",
    "    buys = buys[:lower]\r\n",
    "    sells = sells[:lower]\r\n",
    "\r\n",
    "    sequential_data = buys + sells\r\n",
    "\r\n",
    "    random.shuffle(sequential_data)\r\n",
    "\r\n",
    "    X = [d[0] for d in sequential_data]\r\n",
    "    Y = [d[1] for d in sequential_data]\r\n",
    "\r\n",
    "    return np.array(X), np.array(Y)\r\n",
    "    \r\n",
    "\r\n",
    "train_x, train_y = preprocess_df(train_data)\r\n",
    "validation_x, validation_y = preprocess_df(validation_data)"
   ],
   "outputs": [
    {
     "output_type": "stream",
     "name": "stderr",
     "text": [
      "c:\\Users\\jcwco\\Documents\\GitHub\\zautocrypto\\env\\lib\\site-packages\\ipykernel_launcher.py:6: SettingWithCopyWarning: \n",
      "A value is trying to be set on a copy of a slice from a DataFrame.\n",
      "Try using .loc[row_indexer,col_indexer] = value instead\n",
      "\n",
      "See the caveats in the documentation: https://pandas.pydata.org/pandas-docs/stable/user_guide/indexing.html#returning-a-view-versus-a-copy\n",
      "  \n",
      "c:\\Users\\jcwco\\Documents\\GitHub\\zautocrypto\\env\\lib\\site-packages\\pandas\\core\\frame.py:5244: SettingWithCopyWarning: \n",
      "A value is trying to be set on a copy of a slice from a DataFrame\n",
      "\n",
      "See the caveats in the documentation: https://pandas.pydata.org/pandas-docs/stable/user_guide/indexing.html#returning-a-view-versus-a-copy\n",
      "  method=method,\n",
      "c:\\Users\\jcwco\\Documents\\GitHub\\zautocrypto\\env\\lib\\site-packages\\pandas\\util\\_decorators.py:311: SettingWithCopyWarning: \n",
      "A value is trying to be set on a copy of a slice from a DataFrame\n",
      "\n",
      "See the caveats in the documentation: https://pandas.pydata.org/pandas-docs/stable/user_guide/indexing.html#returning-a-view-versus-a-copy\n",
      "  return func(*args, **kwargs)\n",
      "c:\\Users\\jcwco\\Documents\\GitHub\\zautocrypto\\env\\lib\\site-packages\\ipykernel_launcher.py:10: SettingWithCopyWarning: \n",
      "A value is trying to be set on a copy of a slice from a DataFrame.\n",
      "Try using .loc[row_indexer,col_indexer] = value instead\n",
      "\n",
      "See the caveats in the documentation: https://pandas.pydata.org/pandas-docs/stable/user_guide/indexing.html#returning-a-view-versus-a-copy\n",
      "  # Remove the CWD from sys.path while we load stuff.\n",
      "c:\\Users\\jcwco\\Documents\\GitHub\\zautocrypto\\env\\lib\\site-packages\\ipykernel_launcher.py:6: SettingWithCopyWarning: \n",
      "A value is trying to be set on a copy of a slice from a DataFrame.\n",
      "Try using .loc[row_indexer,col_indexer] = value instead\n",
      "\n",
      "See the caveats in the documentation: https://pandas.pydata.org/pandas-docs/stable/user_guide/indexing.html#returning-a-view-versus-a-copy\n",
      "  \n",
      "c:\\Users\\jcwco\\Documents\\GitHub\\zautocrypto\\env\\lib\\site-packages\\pandas\\core\\frame.py:5244: SettingWithCopyWarning: \n",
      "A value is trying to be set on a copy of a slice from a DataFrame\n",
      "\n",
      "See the caveats in the documentation: https://pandas.pydata.org/pandas-docs/stable/user_guide/indexing.html#returning-a-view-versus-a-copy\n",
      "  method=method,\n",
      "c:\\Users\\jcwco\\Documents\\GitHub\\zautocrypto\\env\\lib\\site-packages\\pandas\\util\\_decorators.py:311: SettingWithCopyWarning: \n",
      "A value is trying to be set on a copy of a slice from a DataFrame\n",
      "\n",
      "See the caveats in the documentation: https://pandas.pydata.org/pandas-docs/stable/user_guide/indexing.html#returning-a-view-versus-a-copy\n",
      "  return func(*args, **kwargs)\n",
      "c:\\Users\\jcwco\\Documents\\GitHub\\zautocrypto\\env\\lib\\site-packages\\ipykernel_launcher.py:10: SettingWithCopyWarning: \n",
      "A value is trying to be set on a copy of a slice from a DataFrame.\n",
      "Try using .loc[row_indexer,col_indexer] = value instead\n",
      "\n",
      "See the caveats in the documentation: https://pandas.pydata.org/pandas-docs/stable/user_guide/indexing.html#returning-a-view-versus-a-copy\n",
      "  # Remove the CWD from sys.path while we load stuff.\n",
      "c:\\Users\\jcwco\\Documents\\GitHub\\zautocrypto\\env\\lib\\site-packages\\ipykernel_launcher.py:6: SettingWithCopyWarning: \n",
      "A value is trying to be set on a copy of a slice from a DataFrame.\n",
      "Try using .loc[row_indexer,col_indexer] = value instead\n",
      "\n",
      "See the caveats in the documentation: https://pandas.pydata.org/pandas-docs/stable/user_guide/indexing.html#returning-a-view-versus-a-copy\n",
      "  \n",
      "c:\\Users\\jcwco\\Documents\\GitHub\\zautocrypto\\env\\lib\\site-packages\\pandas\\core\\frame.py:5244: SettingWithCopyWarning: \n",
      "A value is trying to be set on a copy of a slice from a DataFrame\n",
      "\n",
      "See the caveats in the documentation: https://pandas.pydata.org/pandas-docs/stable/user_guide/indexing.html#returning-a-view-versus-a-copy\n",
      "  method=method,\n",
      "c:\\Users\\jcwco\\Documents\\GitHub\\zautocrypto\\env\\lib\\site-packages\\pandas\\util\\_decorators.py:311: SettingWithCopyWarning: \n",
      "A value is trying to be set on a copy of a slice from a DataFrame\n",
      "\n",
      "See the caveats in the documentation: https://pandas.pydata.org/pandas-docs/stable/user_guide/indexing.html#returning-a-view-versus-a-copy\n",
      "  return func(*args, **kwargs)\n",
      "c:\\Users\\jcwco\\Documents\\GitHub\\zautocrypto\\env\\lib\\site-packages\\ipykernel_launcher.py:10: SettingWithCopyWarning: \n",
      "A value is trying to be set on a copy of a slice from a DataFrame.\n",
      "Try using .loc[row_indexer,col_indexer] = value instead\n",
      "\n",
      "See the caveats in the documentation: https://pandas.pydata.org/pandas-docs/stable/user_guide/indexing.html#returning-a-view-versus-a-copy\n",
      "  # Remove the CWD from sys.path while we load stuff.\n",
      "c:\\Users\\jcwco\\Documents\\GitHub\\zautocrypto\\env\\lib\\site-packages\\ipykernel_launcher.py:6: SettingWithCopyWarning: \n",
      "A value is trying to be set on a copy of a slice from a DataFrame.\n",
      "Try using .loc[row_indexer,col_indexer] = value instead\n",
      "\n",
      "See the caveats in the documentation: https://pandas.pydata.org/pandas-docs/stable/user_guide/indexing.html#returning-a-view-versus-a-copy\n",
      "  \n",
      "c:\\Users\\jcwco\\Documents\\GitHub\\zautocrypto\\env\\lib\\site-packages\\pandas\\core\\frame.py:5244: SettingWithCopyWarning: \n",
      "A value is trying to be set on a copy of a slice from a DataFrame\n",
      "\n",
      "See the caveats in the documentation: https://pandas.pydata.org/pandas-docs/stable/user_guide/indexing.html#returning-a-view-versus-a-copy\n",
      "  method=method,\n",
      "c:\\Users\\jcwco\\Documents\\GitHub\\zautocrypto\\env\\lib\\site-packages\\pandas\\util\\_decorators.py:311: SettingWithCopyWarning: \n",
      "A value is trying to be set on a copy of a slice from a DataFrame\n",
      "\n",
      "See the caveats in the documentation: https://pandas.pydata.org/pandas-docs/stable/user_guide/indexing.html#returning-a-view-versus-a-copy\n",
      "  return func(*args, **kwargs)\n",
      "c:\\Users\\jcwco\\Documents\\GitHub\\zautocrypto\\env\\lib\\site-packages\\ipykernel_launcher.py:10: SettingWithCopyWarning: \n",
      "A value is trying to be set on a copy of a slice from a DataFrame.\n",
      "Try using .loc[row_indexer,col_indexer] = value instead\n",
      "\n",
      "See the caveats in the documentation: https://pandas.pydata.org/pandas-docs/stable/user_guide/indexing.html#returning-a-view-versus-a-copy\n",
      "  # Remove the CWD from sys.path while we load stuff.\n",
      "c:\\Users\\jcwco\\Documents\\GitHub\\zautocrypto\\env\\lib\\site-packages\\ipykernel_launcher.py:6: SettingWithCopyWarning: \n",
      "A value is trying to be set on a copy of a slice from a DataFrame.\n",
      "Try using .loc[row_indexer,col_indexer] = value instead\n",
      "\n",
      "See the caveats in the documentation: https://pandas.pydata.org/pandas-docs/stable/user_guide/indexing.html#returning-a-view-versus-a-copy\n",
      "  \n",
      "c:\\Users\\jcwco\\Documents\\GitHub\\zautocrypto\\env\\lib\\site-packages\\pandas\\core\\frame.py:5244: SettingWithCopyWarning: \n",
      "A value is trying to be set on a copy of a slice from a DataFrame\n",
      "\n",
      "See the caveats in the documentation: https://pandas.pydata.org/pandas-docs/stable/user_guide/indexing.html#returning-a-view-versus-a-copy\n",
      "  method=method,\n",
      "c:\\Users\\jcwco\\Documents\\GitHub\\zautocrypto\\env\\lib\\site-packages\\pandas\\util\\_decorators.py:311: SettingWithCopyWarning: \n",
      "A value is trying to be set on a copy of a slice from a DataFrame\n",
      "\n",
      "See the caveats in the documentation: https://pandas.pydata.org/pandas-docs/stable/user_guide/indexing.html#returning-a-view-versus-a-copy\n",
      "  return func(*args, **kwargs)\n",
      "c:\\Users\\jcwco\\Documents\\GitHub\\zautocrypto\\env\\lib\\site-packages\\ipykernel_launcher.py:10: SettingWithCopyWarning: \n",
      "A value is trying to be set on a copy of a slice from a DataFrame.\n",
      "Try using .loc[row_indexer,col_indexer] = value instead\n",
      "\n",
      "See the caveats in the documentation: https://pandas.pydata.org/pandas-docs/stable/user_guide/indexing.html#returning-a-view-versus-a-copy\n",
      "  # Remove the CWD from sys.path while we load stuff.\n",
      "c:\\Users\\jcwco\\Documents\\GitHub\\zautocrypto\\env\\lib\\site-packages\\pandas\\util\\_decorators.py:311: SettingWithCopyWarning: \n",
      "A value is trying to be set on a copy of a slice from a DataFrame\n",
      "\n",
      "See the caveats in the documentation: https://pandas.pydata.org/pandas-docs/stable/user_guide/indexing.html#returning-a-view-versus-a-copy\n",
      "  return func(*args, **kwargs)\n",
      "c:\\Users\\jcwco\\Documents\\GitHub\\zautocrypto\\env\\lib\\site-packages\\ipykernel_launcher.py:6: SettingWithCopyWarning: \n",
      "A value is trying to be set on a copy of a slice from a DataFrame.\n",
      "Try using .loc[row_indexer,col_indexer] = value instead\n",
      "\n",
      "See the caveats in the documentation: https://pandas.pydata.org/pandas-docs/stable/user_guide/indexing.html#returning-a-view-versus-a-copy\n",
      "  \n",
      "c:\\Users\\jcwco\\Documents\\GitHub\\zautocrypto\\env\\lib\\site-packages\\pandas\\core\\frame.py:5244: SettingWithCopyWarning: \n",
      "A value is trying to be set on a copy of a slice from a DataFrame\n",
      "\n",
      "See the caveats in the documentation: https://pandas.pydata.org/pandas-docs/stable/user_guide/indexing.html#returning-a-view-versus-a-copy\n",
      "  method=method,\n",
      "c:\\Users\\jcwco\\Documents\\GitHub\\zautocrypto\\env\\lib\\site-packages\\ipykernel_launcher.py:10: SettingWithCopyWarning: \n",
      "A value is trying to be set on a copy of a slice from a DataFrame.\n",
      "Try using .loc[row_indexer,col_indexer] = value instead\n",
      "\n",
      "See the caveats in the documentation: https://pandas.pydata.org/pandas-docs/stable/user_guide/indexing.html#returning-a-view-versus-a-copy\n",
      "  # Remove the CWD from sys.path while we load stuff.\n",
      "c:\\Users\\jcwco\\Documents\\GitHub\\zautocrypto\\env\\lib\\site-packages\\ipykernel_launcher.py:6: SettingWithCopyWarning: \n",
      "A value is trying to be set on a copy of a slice from a DataFrame.\n",
      "Try using .loc[row_indexer,col_indexer] = value instead\n",
      "\n",
      "See the caveats in the documentation: https://pandas.pydata.org/pandas-docs/stable/user_guide/indexing.html#returning-a-view-versus-a-copy\n",
      "  \n",
      "c:\\Users\\jcwco\\Documents\\GitHub\\zautocrypto\\env\\lib\\site-packages\\pandas\\core\\frame.py:5244: SettingWithCopyWarning: \n",
      "A value is trying to be set on a copy of a slice from a DataFrame\n",
      "\n",
      "See the caveats in the documentation: https://pandas.pydata.org/pandas-docs/stable/user_guide/indexing.html#returning-a-view-versus-a-copy\n",
      "  method=method,\n",
      "c:\\Users\\jcwco\\Documents\\GitHub\\zautocrypto\\env\\lib\\site-packages\\pandas\\util\\_decorators.py:311: SettingWithCopyWarning: \n",
      "A value is trying to be set on a copy of a slice from a DataFrame\n",
      "\n",
      "See the caveats in the documentation: https://pandas.pydata.org/pandas-docs/stable/user_guide/indexing.html#returning-a-view-versus-a-copy\n",
      "  return func(*args, **kwargs)\n",
      "c:\\Users\\jcwco\\Documents\\GitHub\\zautocrypto\\env\\lib\\site-packages\\ipykernel_launcher.py:10: SettingWithCopyWarning: \n",
      "A value is trying to be set on a copy of a slice from a DataFrame.\n",
      "Try using .loc[row_indexer,col_indexer] = value instead\n",
      "\n",
      "See the caveats in the documentation: https://pandas.pydata.org/pandas-docs/stable/user_guide/indexing.html#returning-a-view-versus-a-copy\n",
      "  # Remove the CWD from sys.path while we load stuff.\n",
      "c:\\Users\\jcwco\\Documents\\GitHub\\zautocrypto\\env\\lib\\site-packages\\ipykernel_launcher.py:6: SettingWithCopyWarning: \n",
      "A value is trying to be set on a copy of a slice from a DataFrame.\n",
      "Try using .loc[row_indexer,col_indexer] = value instead\n",
      "\n",
      "See the caveats in the documentation: https://pandas.pydata.org/pandas-docs/stable/user_guide/indexing.html#returning-a-view-versus-a-copy\n",
      "  \n",
      "c:\\Users\\jcwco\\Documents\\GitHub\\zautocrypto\\env\\lib\\site-packages\\pandas\\core\\frame.py:5244: SettingWithCopyWarning: \n",
      "A value is trying to be set on a copy of a slice from a DataFrame\n",
      "\n",
      "See the caveats in the documentation: https://pandas.pydata.org/pandas-docs/stable/user_guide/indexing.html#returning-a-view-versus-a-copy\n",
      "  method=method,\n",
      "c:\\Users\\jcwco\\Documents\\GitHub\\zautocrypto\\env\\lib\\site-packages\\pandas\\util\\_decorators.py:311: SettingWithCopyWarning: \n",
      "A value is trying to be set on a copy of a slice from a DataFrame\n",
      "\n",
      "See the caveats in the documentation: https://pandas.pydata.org/pandas-docs/stable/user_guide/indexing.html#returning-a-view-versus-a-copy\n",
      "  return func(*args, **kwargs)\n",
      "c:\\Users\\jcwco\\Documents\\GitHub\\zautocrypto\\env\\lib\\site-packages\\ipykernel_launcher.py:10: SettingWithCopyWarning: \n",
      "A value is trying to be set on a copy of a slice from a DataFrame.\n",
      "Try using .loc[row_indexer,col_indexer] = value instead\n",
      "\n",
      "See the caveats in the documentation: https://pandas.pydata.org/pandas-docs/stable/user_guide/indexing.html#returning-a-view-versus-a-copy\n",
      "  # Remove the CWD from sys.path while we load stuff.\n",
      "c:\\Users\\jcwco\\Documents\\GitHub\\zautocrypto\\env\\lib\\site-packages\\ipykernel_launcher.py:6: SettingWithCopyWarning: \n",
      "A value is trying to be set on a copy of a slice from a DataFrame.\n",
      "Try using .loc[row_indexer,col_indexer] = value instead\n",
      "\n",
      "See the caveats in the documentation: https://pandas.pydata.org/pandas-docs/stable/user_guide/indexing.html#returning-a-view-versus-a-copy\n",
      "  \n",
      "c:\\Users\\jcwco\\Documents\\GitHub\\zautocrypto\\env\\lib\\site-packages\\pandas\\core\\frame.py:5244: SettingWithCopyWarning: \n",
      "A value is trying to be set on a copy of a slice from a DataFrame\n",
      "\n",
      "See the caveats in the documentation: https://pandas.pydata.org/pandas-docs/stable/user_guide/indexing.html#returning-a-view-versus-a-copy\n",
      "  method=method,\n",
      "c:\\Users\\jcwco\\Documents\\GitHub\\zautocrypto\\env\\lib\\site-packages\\pandas\\util\\_decorators.py:311: SettingWithCopyWarning: \n",
      "A value is trying to be set on a copy of a slice from a DataFrame\n",
      "\n",
      "See the caveats in the documentation: https://pandas.pydata.org/pandas-docs/stable/user_guide/indexing.html#returning-a-view-versus-a-copy\n",
      "  return func(*args, **kwargs)\n",
      "c:\\Users\\jcwco\\Documents\\GitHub\\zautocrypto\\env\\lib\\site-packages\\ipykernel_launcher.py:10: SettingWithCopyWarning: \n",
      "A value is trying to be set on a copy of a slice from a DataFrame.\n",
      "Try using .loc[row_indexer,col_indexer] = value instead\n",
      "\n",
      "See the caveats in the documentation: https://pandas.pydata.org/pandas-docs/stable/user_guide/indexing.html#returning-a-view-versus-a-copy\n",
      "  # Remove the CWD from sys.path while we load stuff.\n",
      "c:\\Users\\jcwco\\Documents\\GitHub\\zautocrypto\\env\\lib\\site-packages\\ipykernel_launcher.py:6: SettingWithCopyWarning: \n",
      "A value is trying to be set on a copy of a slice from a DataFrame.\n",
      "Try using .loc[row_indexer,col_indexer] = value instead\n",
      "\n",
      "See the caveats in the documentation: https://pandas.pydata.org/pandas-docs/stable/user_guide/indexing.html#returning-a-view-versus-a-copy\n",
      "  \n",
      "c:\\Users\\jcwco\\Documents\\GitHub\\zautocrypto\\env\\lib\\site-packages\\pandas\\core\\frame.py:5244: SettingWithCopyWarning: \n",
      "A value is trying to be set on a copy of a slice from a DataFrame\n",
      "\n",
      "See the caveats in the documentation: https://pandas.pydata.org/pandas-docs/stable/user_guide/indexing.html#returning-a-view-versus-a-copy\n",
      "  method=method,\n",
      "c:\\Users\\jcwco\\Documents\\GitHub\\zautocrypto\\env\\lib\\site-packages\\pandas\\util\\_decorators.py:311: SettingWithCopyWarning: \n",
      "A value is trying to be set on a copy of a slice from a DataFrame\n",
      "\n",
      "See the caveats in the documentation: https://pandas.pydata.org/pandas-docs/stable/user_guide/indexing.html#returning-a-view-versus-a-copy\n",
      "  return func(*args, **kwargs)\n",
      "c:\\Users\\jcwco\\Documents\\GitHub\\zautocrypto\\env\\lib\\site-packages\\ipykernel_launcher.py:10: SettingWithCopyWarning: \n",
      "A value is trying to be set on a copy of a slice from a DataFrame.\n",
      "Try using .loc[row_indexer,col_indexer] = value instead\n",
      "\n",
      "See the caveats in the documentation: https://pandas.pydata.org/pandas-docs/stable/user_guide/indexing.html#returning-a-view-versus-a-copy\n",
      "  # Remove the CWD from sys.path while we load stuff.\n",
      "c:\\Users\\jcwco\\Documents\\GitHub\\zautocrypto\\env\\lib\\site-packages\\pandas\\util\\_decorators.py:311: SettingWithCopyWarning: \n",
      "A value is trying to be set on a copy of a slice from a DataFrame\n",
      "\n",
      "See the caveats in the documentation: https://pandas.pydata.org/pandas-docs/stable/user_guide/indexing.html#returning-a-view-versus-a-copy\n",
      "  return func(*args, **kwargs)\n"
     ]
    }
   ],
   "metadata": {}
  },
  {
   "cell_type": "code",
   "execution_count": 7,
   "source": [
    "## Dataset metrics\r\n",
    "\r\n",
    "print(f\"Train : Validation == {len(train_x)} : {len(validation_x)}\")\r\n",
    "print(f\"Train\\t\\tBuys : Sells == {list(train_y).count(0)} : {list(train_y).count(1)}\")\r\n",
    "print(f\"Validation\\tBuys : Sells == {list(validation_y).count(0)} : {list(validation_y).count(1)}\")"
   ],
   "outputs": [
    {
     "output_type": "stream",
     "name": "stdout",
     "text": [
      "Train : Validation == 35212 : 1842\n",
      "Train\t\tBuys : Sells == 17606 : 17606\n",
      "Validation\tBuys : Sells == 921 : 921\n"
     ]
    }
   ],
   "metadata": {}
  },
  {
   "cell_type": "code",
   "execution_count": 8,
   "source": [
    "## Make model\r\n",
    "\r\n",
    "model = Sequential()\r\n",
    "optimizer = tf.keras.optimizers.Adam(lr=0.001, decay=1e-6)\r\n",
    "\r\n",
    "\r\n",
    "model.add(LSTM(128, input_shape=(train_x.shape[1:]), activation=\"tanh\", return_sequences=True))\r\n",
    "model.add(Dropout(0.2))\r\n",
    "model.add(BatchNormalization())\r\n",
    "\r\n",
    "model.add(LSTM(128, input_shape=(train_x.shape[1:]), activation=\"tanh\", return_sequences=True))\r\n",
    "model.add(Dropout(0.1))\r\n",
    "model.add(BatchNormalization())\r\n",
    "\r\n",
    "model.add(LSTM(128, input_shape=(train_x.shape[1:]), activation=\"tanh\"))\r\n",
    "model.add(Dropout(0.2))\r\n",
    "model.add(BatchNormalization())\r\n",
    "\r\n",
    "model.add(Dense(32, activation=\"relu\"))\r\n",
    "model.add(Dropout(0.2))\r\n",
    "\r\n",
    "model.add(Dense(2, activation=\"softmax\"))\r\n",
    "\r\n",
    "\r\n",
    "\r\n",
    "model.compile(loss=\"sparse_categorical_crossentropy\", optimizer=optimizer, metrics=[\"accuracy\"])\r\n",
    "\r\n",
    "tb = TensorBoard(log_dir=f\"logs/{NAME}\")\r\n",
    "\r\n",
    "filepath = \"RNN_Final-{epoch:02d}-{val_accuracy:.3f}-\" + str(int(time.time()))\r\n",
    "checkpoint = ModelCheckpoint(\"models/{}.model\".format(filepath, monitor=\"val_acc\", verbose=1, save_best_only=True, mode=\"max\"))"
   ],
   "outputs": [
    {
     "output_type": "stream",
     "name": "stderr",
     "text": [
      "c:\\Users\\jcwco\\Documents\\GitHub\\zautocrypto\\env\\lib\\site-packages\\keras\\optimizer_v2\\adam.py:105: UserWarning: The `lr` argument is deprecated, use `learning_rate` instead.\n",
      "  super(Adam, self).__init__(name, **kwargs)\n"
     ]
    }
   ],
   "metadata": {}
  },
  {
   "cell_type": "code",
   "execution_count": 9,
   "source": [
    "## Fit model\r\n",
    "\r\n",
    "with tf.device(\"/device:GPU:0\"):\r\n",
    "    history = model.fit(x=train_x, y=train_y,\r\n",
    "                        batch_size=BATCH_SIZE,\r\n",
    "                        epochs=EPOCHS,\r\n",
    "                        validation_data=(validation_x, validation_y),\r\n",
    "                        callbacks=[tb, checkpoint]\r\n",
    "                        )"
   ],
   "outputs": [
    {
     "output_type": "stream",
     "name": "stdout",
     "text": [
      "Epoch 1/10\n",
      "549/551 [============================>.] - ETA: 0s - loss: 0.7418 - accuracy: 0.5084"
     ]
    },
    {
     "output_type": "stream",
     "name": "stderr",
     "text": [
      "WARNING:absl:Found untraced functions such as lstm_cell_layer_call_fn, lstm_cell_layer_call_and_return_conditional_losses, lstm_cell_1_layer_call_fn, lstm_cell_1_layer_call_and_return_conditional_losses, lstm_cell_2_layer_call_fn while saving (showing 5 of 15). These functions will not be directly callable after loading.\n"
     ]
    },
    {
     "output_type": "stream",
     "name": "stdout",
     "text": [
      "INFO:tensorflow:Assets written to: models\\RNN_Final-01-0.524-1642374208.model\\assets\n"
     ]
    },
    {
     "output_type": "stream",
     "name": "stderr",
     "text": [
      "INFO:tensorflow:Assets written to: models\\RNN_Final-01-0.524-1642374208.model\\assets\n",
      "WARNING:absl:<keras.layers.recurrent.LSTMCell object at 0x0000029465237748> has the same name 'LSTMCell' as a built-in Keras object. Consider renaming <class 'keras.layers.recurrent.LSTMCell'> to avoid naming conflicts when loading with `tf.keras.models.load_model`. If renaming is not possible, pass the object in the `custom_objects` parameter of the load function.\n",
      "WARNING:absl:<keras.layers.recurrent.LSTMCell object at 0x0000029403D0D688> has the same name 'LSTMCell' as a built-in Keras object. Consider renaming <class 'keras.layers.recurrent.LSTMCell'> to avoid naming conflicts when loading with `tf.keras.models.load_model`. If renaming is not possible, pass the object in the `custom_objects` parameter of the load function.\n",
      "WARNING:absl:<keras.layers.recurrent.LSTMCell object at 0x0000029406899F88> has the same name 'LSTMCell' as a built-in Keras object. Consider renaming <class 'keras.layers.recurrent.LSTMCell'> to avoid naming conflicts when loading with `tf.keras.models.load_model`. If renaming is not possible, pass the object in the `custom_objects` parameter of the load function.\n"
     ]
    },
    {
     "output_type": "stream",
     "name": "stdout",
     "text": [
      "551/551 [==============================] - 28s 40ms/step - loss: 0.7418 - accuracy: 0.5083 - val_loss: 0.6939 - val_accuracy: 0.5239\n",
      "Epoch 2/10\n",
      "550/551 [============================>.] - ETA: 0s - loss: 0.6976 - accuracy: 0.5151"
     ]
    },
    {
     "output_type": "stream",
     "name": "stderr",
     "text": [
      "WARNING:absl:Found untraced functions such as lstm_cell_layer_call_fn, lstm_cell_layer_call_and_return_conditional_losses, lstm_cell_1_layer_call_fn, lstm_cell_1_layer_call_and_return_conditional_losses, lstm_cell_2_layer_call_fn while saving (showing 5 of 15). These functions will not be directly callable after loading.\n"
     ]
    },
    {
     "output_type": "stream",
     "name": "stdout",
     "text": [
      "INFO:tensorflow:Assets written to: models\\RNN_Final-02-0.509-1642374208.model\\assets\n"
     ]
    },
    {
     "output_type": "stream",
     "name": "stderr",
     "text": [
      "INFO:tensorflow:Assets written to: models\\RNN_Final-02-0.509-1642374208.model\\assets\n",
      "WARNING:absl:<keras.layers.recurrent.LSTMCell object at 0x0000029465237748> has the same name 'LSTMCell' as a built-in Keras object. Consider renaming <class 'keras.layers.recurrent.LSTMCell'> to avoid naming conflicts when loading with `tf.keras.models.load_model`. If renaming is not possible, pass the object in the `custom_objects` parameter of the load function.\n",
      "WARNING:absl:<keras.layers.recurrent.LSTMCell object at 0x0000029403D0D688> has the same name 'LSTMCell' as a built-in Keras object. Consider renaming <class 'keras.layers.recurrent.LSTMCell'> to avoid naming conflicts when loading with `tf.keras.models.load_model`. If renaming is not possible, pass the object in the `custom_objects` parameter of the load function.\n",
      "WARNING:absl:<keras.layers.recurrent.LSTMCell object at 0x0000029406899F88> has the same name 'LSTMCell' as a built-in Keras object. Consider renaming <class 'keras.layers.recurrent.LSTMCell'> to avoid naming conflicts when loading with `tf.keras.models.load_model`. If renaming is not possible, pass the object in the `custom_objects` parameter of the load function.\n"
     ]
    },
    {
     "output_type": "stream",
     "name": "stdout",
     "text": [
      "551/551 [==============================] - 20s 37ms/step - loss: 0.6976 - accuracy: 0.5151 - val_loss: 0.6963 - val_accuracy: 0.5092\n",
      "Epoch 3/10\n",
      "550/551 [============================>.] - ETA: 0s - loss: 0.6914 - accuracy: 0.5296"
     ]
    },
    {
     "output_type": "stream",
     "name": "stderr",
     "text": [
      "WARNING:absl:Found untraced functions such as lstm_cell_layer_call_fn, lstm_cell_layer_call_and_return_conditional_losses, lstm_cell_1_layer_call_fn, lstm_cell_1_layer_call_and_return_conditional_losses, lstm_cell_2_layer_call_fn while saving (showing 5 of 15). These functions will not be directly callable after loading.\n"
     ]
    },
    {
     "output_type": "stream",
     "name": "stdout",
     "text": [
      "INFO:tensorflow:Assets written to: models\\RNN_Final-03-0.549-1642374208.model\\assets\n"
     ]
    },
    {
     "output_type": "stream",
     "name": "stderr",
     "text": [
      "INFO:tensorflow:Assets written to: models\\RNN_Final-03-0.549-1642374208.model\\assets\n",
      "WARNING:absl:<keras.layers.recurrent.LSTMCell object at 0x0000029465237748> has the same name 'LSTMCell' as a built-in Keras object. Consider renaming <class 'keras.layers.recurrent.LSTMCell'> to avoid naming conflicts when loading with `tf.keras.models.load_model`. If renaming is not possible, pass the object in the `custom_objects` parameter of the load function.\n",
      "WARNING:absl:<keras.layers.recurrent.LSTMCell object at 0x0000029403D0D688> has the same name 'LSTMCell' as a built-in Keras object. Consider renaming <class 'keras.layers.recurrent.LSTMCell'> to avoid naming conflicts when loading with `tf.keras.models.load_model`. If renaming is not possible, pass the object in the `custom_objects` parameter of the load function.\n",
      "WARNING:absl:<keras.layers.recurrent.LSTMCell object at 0x0000029406899F88> has the same name 'LSTMCell' as a built-in Keras object. Consider renaming <class 'keras.layers.recurrent.LSTMCell'> to avoid naming conflicts when loading with `tf.keras.models.load_model`. If renaming is not possible, pass the object in the `custom_objects` parameter of the load function.\n"
     ]
    },
    {
     "output_type": "stream",
     "name": "stdout",
     "text": [
      "551/551 [==============================] - 20s 37ms/step - loss: 0.6914 - accuracy: 0.5297 - val_loss: 0.6907 - val_accuracy: 0.5494\n",
      "Epoch 4/10\n",
      "550/551 [============================>.] - ETA: 0s - loss: 0.6919 - accuracy: 0.5198"
     ]
    },
    {
     "output_type": "stream",
     "name": "stderr",
     "text": [
      "WARNING:absl:Found untraced functions such as lstm_cell_layer_call_fn, lstm_cell_layer_call_and_return_conditional_losses, lstm_cell_1_layer_call_fn, lstm_cell_1_layer_call_and_return_conditional_losses, lstm_cell_2_layer_call_fn while saving (showing 5 of 15). These functions will not be directly callable after loading.\n"
     ]
    },
    {
     "output_type": "stream",
     "name": "stdout",
     "text": [
      "INFO:tensorflow:Assets written to: models\\RNN_Final-04-0.516-1642374208.model\\assets\n"
     ]
    },
    {
     "output_type": "stream",
     "name": "stderr",
     "text": [
      "INFO:tensorflow:Assets written to: models\\RNN_Final-04-0.516-1642374208.model\\assets\n",
      "WARNING:absl:<keras.layers.recurrent.LSTMCell object at 0x0000029465237748> has the same name 'LSTMCell' as a built-in Keras object. Consider renaming <class 'keras.layers.recurrent.LSTMCell'> to avoid naming conflicts when loading with `tf.keras.models.load_model`. If renaming is not possible, pass the object in the `custom_objects` parameter of the load function.\n",
      "WARNING:absl:<keras.layers.recurrent.LSTMCell object at 0x0000029403D0D688> has the same name 'LSTMCell' as a built-in Keras object. Consider renaming <class 'keras.layers.recurrent.LSTMCell'> to avoid naming conflicts when loading with `tf.keras.models.load_model`. If renaming is not possible, pass the object in the `custom_objects` parameter of the load function.\n",
      "WARNING:absl:<keras.layers.recurrent.LSTMCell object at 0x0000029406899F88> has the same name 'LSTMCell' as a built-in Keras object. Consider renaming <class 'keras.layers.recurrent.LSTMCell'> to avoid naming conflicts when loading with `tf.keras.models.load_model`. If renaming is not possible, pass the object in the `custom_objects` parameter of the load function.\n"
     ]
    },
    {
     "output_type": "stream",
     "name": "stdout",
     "text": [
      "551/551 [==============================] - 20s 37ms/step - loss: 0.6919 - accuracy: 0.5198 - val_loss: 0.6926 - val_accuracy: 0.5157\n",
      "Epoch 5/10\n",
      "550/551 [============================>.] - ETA: 0s - loss: 0.6921 - accuracy: 0.5232"
     ]
    },
    {
     "output_type": "stream",
     "name": "stderr",
     "text": [
      "WARNING:absl:Found untraced functions such as lstm_cell_layer_call_fn, lstm_cell_layer_call_and_return_conditional_losses, lstm_cell_1_layer_call_fn, lstm_cell_1_layer_call_and_return_conditional_losses, lstm_cell_2_layer_call_fn while saving (showing 5 of 15). These functions will not be directly callable after loading.\n"
     ]
    },
    {
     "output_type": "stream",
     "name": "stdout",
     "text": [
      "INFO:tensorflow:Assets written to: models\\RNN_Final-05-0.535-1642374208.model\\assets\n"
     ]
    },
    {
     "output_type": "stream",
     "name": "stderr",
     "text": [
      "INFO:tensorflow:Assets written to: models\\RNN_Final-05-0.535-1642374208.model\\assets\n",
      "WARNING:absl:<keras.layers.recurrent.LSTMCell object at 0x0000029465237748> has the same name 'LSTMCell' as a built-in Keras object. Consider renaming <class 'keras.layers.recurrent.LSTMCell'> to avoid naming conflicts when loading with `tf.keras.models.load_model`. If renaming is not possible, pass the object in the `custom_objects` parameter of the load function.\n",
      "WARNING:absl:<keras.layers.recurrent.LSTMCell object at 0x0000029403D0D688> has the same name 'LSTMCell' as a built-in Keras object. Consider renaming <class 'keras.layers.recurrent.LSTMCell'> to avoid naming conflicts when loading with `tf.keras.models.load_model`. If renaming is not possible, pass the object in the `custom_objects` parameter of the load function.\n",
      "WARNING:absl:<keras.layers.recurrent.LSTMCell object at 0x0000029406899F88> has the same name 'LSTMCell' as a built-in Keras object. Consider renaming <class 'keras.layers.recurrent.LSTMCell'> to avoid naming conflicts when loading with `tf.keras.models.load_model`. If renaming is not possible, pass the object in the `custom_objects` parameter of the load function.\n"
     ]
    },
    {
     "output_type": "stream",
     "name": "stdout",
     "text": [
      "551/551 [==============================] - 20s 37ms/step - loss: 0.6921 - accuracy: 0.5232 - val_loss: 0.6892 - val_accuracy: 0.5347\n",
      "Epoch 6/10\n",
      "551/551 [==============================] - ETA: 0s - loss: 0.6910 - accuracy: 0.5287"
     ]
    },
    {
     "output_type": "stream",
     "name": "stderr",
     "text": [
      "WARNING:absl:Found untraced functions such as lstm_cell_layer_call_fn, lstm_cell_layer_call_and_return_conditional_losses, lstm_cell_1_layer_call_fn, lstm_cell_1_layer_call_and_return_conditional_losses, lstm_cell_2_layer_call_fn while saving (showing 5 of 15). These functions will not be directly callable after loading.\n"
     ]
    },
    {
     "output_type": "stream",
     "name": "stdout",
     "text": [
      "INFO:tensorflow:Assets written to: models\\RNN_Final-06-0.510-1642374208.model\\assets\n"
     ]
    },
    {
     "output_type": "stream",
     "name": "stderr",
     "text": [
      "INFO:tensorflow:Assets written to: models\\RNN_Final-06-0.510-1642374208.model\\assets\n",
      "WARNING:absl:<keras.layers.recurrent.LSTMCell object at 0x0000029465237748> has the same name 'LSTMCell' as a built-in Keras object. Consider renaming <class 'keras.layers.recurrent.LSTMCell'> to avoid naming conflicts when loading with `tf.keras.models.load_model`. If renaming is not possible, pass the object in the `custom_objects` parameter of the load function.\n",
      "WARNING:absl:<keras.layers.recurrent.LSTMCell object at 0x0000029403D0D688> has the same name 'LSTMCell' as a built-in Keras object. Consider renaming <class 'keras.layers.recurrent.LSTMCell'> to avoid naming conflicts when loading with `tf.keras.models.load_model`. If renaming is not possible, pass the object in the `custom_objects` parameter of the load function.\n",
      "WARNING:absl:<keras.layers.recurrent.LSTMCell object at 0x0000029406899F88> has the same name 'LSTMCell' as a built-in Keras object. Consider renaming <class 'keras.layers.recurrent.LSTMCell'> to avoid naming conflicts when loading with `tf.keras.models.load_model`. If renaming is not possible, pass the object in the `custom_objects` parameter of the load function.\n"
     ]
    },
    {
     "output_type": "stream",
     "name": "stdout",
     "text": [
      "551/551 [==============================] - 23s 42ms/step - loss: 0.6910 - accuracy: 0.5287 - val_loss: 0.6961 - val_accuracy: 0.5098\n",
      "Epoch 7/10\n",
      "551/551 [==============================] - ETA: 0s - loss: 0.6893 - accuracy: 0.5342"
     ]
    },
    {
     "output_type": "stream",
     "name": "stderr",
     "text": [
      "WARNING:absl:Found untraced functions such as lstm_cell_layer_call_fn, lstm_cell_layer_call_and_return_conditional_losses, lstm_cell_1_layer_call_fn, lstm_cell_1_layer_call_and_return_conditional_losses, lstm_cell_2_layer_call_fn while saving (showing 5 of 15). These functions will not be directly callable after loading.\n"
     ]
    },
    {
     "output_type": "stream",
     "name": "stdout",
     "text": [
      "INFO:tensorflow:Assets written to: models\\RNN_Final-07-0.525-1642374208.model\\assets\n"
     ]
    },
    {
     "output_type": "stream",
     "name": "stderr",
     "text": [
      "INFO:tensorflow:Assets written to: models\\RNN_Final-07-0.525-1642374208.model\\assets\n",
      "WARNING:absl:<keras.layers.recurrent.LSTMCell object at 0x0000029465237748> has the same name 'LSTMCell' as a built-in Keras object. Consider renaming <class 'keras.layers.recurrent.LSTMCell'> to avoid naming conflicts when loading with `tf.keras.models.load_model`. If renaming is not possible, pass the object in the `custom_objects` parameter of the load function.\n",
      "WARNING:absl:<keras.layers.recurrent.LSTMCell object at 0x0000029403D0D688> has the same name 'LSTMCell' as a built-in Keras object. Consider renaming <class 'keras.layers.recurrent.LSTMCell'> to avoid naming conflicts when loading with `tf.keras.models.load_model`. If renaming is not possible, pass the object in the `custom_objects` parameter of the load function.\n",
      "WARNING:absl:<keras.layers.recurrent.LSTMCell object at 0x0000029406899F88> has the same name 'LSTMCell' as a built-in Keras object. Consider renaming <class 'keras.layers.recurrent.LSTMCell'> to avoid naming conflicts when loading with `tf.keras.models.load_model`. If renaming is not possible, pass the object in the `custom_objects` parameter of the load function.\n"
     ]
    },
    {
     "output_type": "stream",
     "name": "stdout",
     "text": [
      "551/551 [==============================] - 20s 37ms/step - loss: 0.6893 - accuracy: 0.5342 - val_loss: 0.6913 - val_accuracy: 0.5250\n",
      "Epoch 8/10\n",
      "551/551 [==============================] - ETA: 0s - loss: 0.6884 - accuracy: 0.5426"
     ]
    },
    {
     "output_type": "stream",
     "name": "stderr",
     "text": [
      "WARNING:absl:Found untraced functions such as lstm_cell_layer_call_fn, lstm_cell_layer_call_and_return_conditional_losses, lstm_cell_1_layer_call_fn, lstm_cell_1_layer_call_and_return_conditional_losses, lstm_cell_2_layer_call_fn while saving (showing 5 of 15). These functions will not be directly callable after loading.\n"
     ]
    },
    {
     "output_type": "stream",
     "name": "stdout",
     "text": [
      "INFO:tensorflow:Assets written to: models\\RNN_Final-08-0.527-1642374208.model\\assets\n"
     ]
    },
    {
     "output_type": "stream",
     "name": "stderr",
     "text": [
      "INFO:tensorflow:Assets written to: models\\RNN_Final-08-0.527-1642374208.model\\assets\n",
      "WARNING:absl:<keras.layers.recurrent.LSTMCell object at 0x0000029465237748> has the same name 'LSTMCell' as a built-in Keras object. Consider renaming <class 'keras.layers.recurrent.LSTMCell'> to avoid naming conflicts when loading with `tf.keras.models.load_model`. If renaming is not possible, pass the object in the `custom_objects` parameter of the load function.\n",
      "WARNING:absl:<keras.layers.recurrent.LSTMCell object at 0x0000029403D0D688> has the same name 'LSTMCell' as a built-in Keras object. Consider renaming <class 'keras.layers.recurrent.LSTMCell'> to avoid naming conflicts when loading with `tf.keras.models.load_model`. If renaming is not possible, pass the object in the `custom_objects` parameter of the load function.\n",
      "WARNING:absl:<keras.layers.recurrent.LSTMCell object at 0x0000029406899F88> has the same name 'LSTMCell' as a built-in Keras object. Consider renaming <class 'keras.layers.recurrent.LSTMCell'> to avoid naming conflicts when loading with `tf.keras.models.load_model`. If renaming is not possible, pass the object in the `custom_objects` parameter of the load function.\n"
     ]
    },
    {
     "output_type": "stream",
     "name": "stdout",
     "text": [
      "551/551 [==============================] - 21s 39ms/step - loss: 0.6884 - accuracy: 0.5426 - val_loss: 0.6916 - val_accuracy: 0.5266\n",
      "Epoch 9/10\n",
      "550/551 [============================>.] - ETA: 0s - loss: 0.6871 - accuracy: 0.5450"
     ]
    },
    {
     "output_type": "stream",
     "name": "stderr",
     "text": [
      "WARNING:absl:Found untraced functions such as lstm_cell_layer_call_fn, lstm_cell_layer_call_and_return_conditional_losses, lstm_cell_1_layer_call_fn, lstm_cell_1_layer_call_and_return_conditional_losses, lstm_cell_2_layer_call_fn while saving (showing 5 of 15). These functions will not be directly callable after loading.\n"
     ]
    },
    {
     "output_type": "stream",
     "name": "stdout",
     "text": [
      "INFO:tensorflow:Assets written to: models\\RNN_Final-09-0.525-1642374208.model\\assets\n"
     ]
    },
    {
     "output_type": "stream",
     "name": "stderr",
     "text": [
      "INFO:tensorflow:Assets written to: models\\RNN_Final-09-0.525-1642374208.model\\assets\n",
      "WARNING:absl:<keras.layers.recurrent.LSTMCell object at 0x0000029465237748> has the same name 'LSTMCell' as a built-in Keras object. Consider renaming <class 'keras.layers.recurrent.LSTMCell'> to avoid naming conflicts when loading with `tf.keras.models.load_model`. If renaming is not possible, pass the object in the `custom_objects` parameter of the load function.\n",
      "WARNING:absl:<keras.layers.recurrent.LSTMCell object at 0x0000029403D0D688> has the same name 'LSTMCell' as a built-in Keras object. Consider renaming <class 'keras.layers.recurrent.LSTMCell'> to avoid naming conflicts when loading with `tf.keras.models.load_model`. If renaming is not possible, pass the object in the `custom_objects` parameter of the load function.\n",
      "WARNING:absl:<keras.layers.recurrent.LSTMCell object at 0x0000029406899F88> has the same name 'LSTMCell' as a built-in Keras object. Consider renaming <class 'keras.layers.recurrent.LSTMCell'> to avoid naming conflicts when loading with `tf.keras.models.load_model`. If renaming is not possible, pass the object in the `custom_objects` parameter of the load function.\n"
     ]
    },
    {
     "output_type": "stream",
     "name": "stdout",
     "text": [
      "551/551 [==============================] - 20s 36ms/step - loss: 0.6871 - accuracy: 0.5450 - val_loss: 0.6933 - val_accuracy: 0.5250\n",
      "Epoch 10/10\n",
      "550/551 [============================>.] - ETA: 0s - loss: 0.6857 - accuracy: 0.5502"
     ]
    },
    {
     "output_type": "stream",
     "name": "stderr",
     "text": [
      "WARNING:absl:Found untraced functions such as lstm_cell_layer_call_fn, lstm_cell_layer_call_and_return_conditional_losses, lstm_cell_1_layer_call_fn, lstm_cell_1_layer_call_and_return_conditional_losses, lstm_cell_2_layer_call_fn while saving (showing 5 of 15). These functions will not be directly callable after loading.\n"
     ]
    },
    {
     "output_type": "stream",
     "name": "stdout",
     "text": [
      "INFO:tensorflow:Assets written to: models\\RNN_Final-10-0.548-1642374208.model\\assets\n"
     ]
    },
    {
     "output_type": "stream",
     "name": "stderr",
     "text": [
      "INFO:tensorflow:Assets written to: models\\RNN_Final-10-0.548-1642374208.model\\assets\n",
      "WARNING:absl:<keras.layers.recurrent.LSTMCell object at 0x0000029465237748> has the same name 'LSTMCell' as a built-in Keras object. Consider renaming <class 'keras.layers.recurrent.LSTMCell'> to avoid naming conflicts when loading with `tf.keras.models.load_model`. If renaming is not possible, pass the object in the `custom_objects` parameter of the load function.\n",
      "WARNING:absl:<keras.layers.recurrent.LSTMCell object at 0x0000029403D0D688> has the same name 'LSTMCell' as a built-in Keras object. Consider renaming <class 'keras.layers.recurrent.LSTMCell'> to avoid naming conflicts when loading with `tf.keras.models.load_model`. If renaming is not possible, pass the object in the `custom_objects` parameter of the load function.\n",
      "WARNING:absl:<keras.layers.recurrent.LSTMCell object at 0x0000029406899F88> has the same name 'LSTMCell' as a built-in Keras object. Consider renaming <class 'keras.layers.recurrent.LSTMCell'> to avoid naming conflicts when loading with `tf.keras.models.load_model`. If renaming is not possible, pass the object in the `custom_objects` parameter of the load function.\n"
     ]
    },
    {
     "output_type": "stream",
     "name": "stdout",
     "text": [
      "551/551 [==============================] - 20s 37ms/step - loss: 0.6856 - accuracy: 0.5502 - val_loss: 0.6880 - val_accuracy: 0.5478\n"
     ]
    }
   ],
   "metadata": {}
  },
  {
   "cell_type": "code",
   "execution_count": null,
   "source": [],
   "outputs": [],
   "metadata": {}
  },
  {
   "cell_type": "code",
   "execution_count": 1,
   "source": [
    "## Upload to tensorboard\r\n",
    "# !tensorboard dev upload --logdir=logs\r\n",
    "!tensorboard --logdir=logs"
   ],
   "outputs": [],
   "metadata": {}
  }
 ],
 "metadata": {
  "orig_nbformat": 4,
  "language_info": {
   "name": "python",
   "version": "3.7.5",
   "mimetype": "text/x-python",
   "codemirror_mode": {
    "name": "ipython",
    "version": 3
   },
   "pygments_lexer": "ipython3",
   "nbconvert_exporter": "python",
   "file_extension": ".py"
  },
  "kernelspec": {
   "name": "python3",
   "display_name": "Python 3.7.5 64-bit ('env': venv)"
  },
  "interpreter": {
   "hash": "3f439a312ed34b06956a843415099a31cd878da333d7a5f75a3892b26e8f4b63"
  }
 },
 "nbformat": 4,
 "nbformat_minor": 2
}