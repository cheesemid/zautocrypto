{
 "cells": [
  {
   "cell_type": "markdown",
   "source": [
    "## ZBTCNN TANH 2.1\n",
    "Predicts price increase  \n",
    "Uses technicals aswell from csv_formatter.ipynb\n",
    "\n",
    "### 2.1 Changes  \n",
    "\n",
    "- Shuffle input data after split  \n",
    "- Added percentage error as a metric\n",
    "- RSI scaler max set to 100 because that is RSI fxn limit\n",
    "\n",
    "## WIDE\n",
    "\n",
    "- LSTM Layers have increased in width 128 -> 512\n",
    "- Dense layer width 32 -> 64\n",
    "- Loss = MSE"
   ],
   "metadata": {}
  },
  {
   "cell_type": "code",
   "execution_count": 1,
   "source": [
    "!source /etc/profile\n",
    "\n",
    "import os\n",
    "import sys\n",
    "import random\n",
    "import time\n",
    "from collections import deque\n",
    "import pandas as pd\n",
    "import numpy as np\n",
    "import tensorflow as tf\n",
    "from sklearn import preprocessing\n",
    "from tensorflow.keras.models import Sequential\n",
    "from tensorflow.keras.layers import Dense, Dropout, LSTM, BatchNormalization, Activation, Flatten, MaxPooling2D, Conv2D\n",
    "from tensorflow.keras.callbacks import ModelCheckpoint, TensorBoard\n",
    "from tensorflow.keras import optimizers\n",
    "from tensorflow.keras import utils\n",
    "import joblib\n",
    "\n",
    "# Check GPU\n",
    "print(\"Num GPUs Available: \", len(tf.config.list_physical_devices('GPU')))\n",
    "# tf.config.list_physical_devices()"
   ],
   "outputs": [
    {
     "output_type": "stream",
     "name": "stdout",
     "text": [
      "Num GPUs Available:  1\n"
     ]
    },
    {
     "output_type": "stream",
     "name": "stderr",
     "text": [
      "2022-02-22 21:30:55.649602: I tensorflow/stream_executor/cuda/cuda_gpu_executor.cc:939] successful NUMA node read from SysFS had negative value (-1), but there must be at least one NUMA node, so returning NUMA node zero\n",
      "2022-02-22 21:30:55.658446: I tensorflow/stream_executor/cuda/cuda_gpu_executor.cc:939] successful NUMA node read from SysFS had negative value (-1), but there must be at least one NUMA node, so returning NUMA node zero\n",
      "2022-02-22 21:30:55.659080: I tensorflow/stream_executor/cuda/cuda_gpu_executor.cc:939] successful NUMA node read from SysFS had negative value (-1), but there must be at least one NUMA node, so returning NUMA node zero\n"
     ]
    }
   ],
   "metadata": {}
  },
  {
   "cell_type": "code",
   "execution_count": 2,
   "source": [
    "SEQ_LEN = 48 #hours\n",
    "FUTURE_PERIOD_PREDICT = 1 #hours\n",
    "\n",
    "# Model parameters\n",
    "EPOCHS = 20\n",
    "BATCH_SIZE = 16\n",
    "NAME = f\"TANH2_wd-e{EPOCHS}-b{BATCH_SIZE}-s{SEQ_LEN}-fpp{FUTURE_PERIOD_PREDICT}-{int(time.time())}\""
   ],
   "outputs": [],
   "metadata": {}
  },
  {
   "cell_type": "code",
   "execution_count": 3,
   "source": [
    "## Import data\n",
    "# DATA MUST BE FORMATTED USING CSV_FORMATTER.IPYNB\n",
    "\n",
    "csv_file = \"data/formatted/BTCUSDT-1h-data.csv\"\n",
    "\n",
    "data = pd.read_csv(csv_file, skiprows=[0], names=[\"timestamp\", \"open\", \"high\", \"low\", \"close\", \"volume\", \"rsi\", \"ema\"])\n",
    "\n",
    "data.set_index(\"timestamp\", inplace=True)\n",
    "\n",
    "data.head()"
   ],
   "outputs": [
    {
     "output_type": "execute_result",
     "data": {
      "text/html": [
       "<div>\n",
       "<style scoped>\n",
       "    .dataframe tbody tr th:only-of-type {\n",
       "        vertical-align: middle;\n",
       "    }\n",
       "\n",
       "    .dataframe tbody tr th {\n",
       "        vertical-align: top;\n",
       "    }\n",
       "\n",
       "    .dataframe thead th {\n",
       "        text-align: right;\n",
       "    }\n",
       "</style>\n",
       "<table border=\"1\" class=\"dataframe\">\n",
       "  <thead>\n",
       "    <tr style=\"text-align: right;\">\n",
       "      <th></th>\n",
       "      <th>open</th>\n",
       "      <th>high</th>\n",
       "      <th>low</th>\n",
       "      <th>close</th>\n",
       "      <th>volume</th>\n",
       "      <th>rsi</th>\n",
       "      <th>ema</th>\n",
       "    </tr>\n",
       "    <tr>\n",
       "      <th>timestamp</th>\n",
       "      <th></th>\n",
       "      <th></th>\n",
       "      <th></th>\n",
       "      <th></th>\n",
       "      <th></th>\n",
       "      <th></th>\n",
       "      <th></th>\n",
       "    </tr>\n",
       "  </thead>\n",
       "  <tbody>\n",
       "    <tr>\n",
       "      <th>1503064800</th>\n",
       "      <td>4304.15</td>\n",
       "      <td>4371.52</td>\n",
       "      <td>4296.04</td>\n",
       "      <td>4356.31</td>\n",
       "      <td>51.563675</td>\n",
       "      <td>52.623958</td>\n",
       "      <td>4327.151560</td>\n",
       "    </tr>\n",
       "    <tr>\n",
       "      <th>1503068400</th>\n",
       "      <td>4356.31</td>\n",
       "      <td>4357.37</td>\n",
       "      <td>4302.72</td>\n",
       "      <td>4340.31</td>\n",
       "      <td>24.093449</td>\n",
       "      <td>51.678528</td>\n",
       "      <td>4327.804777</td>\n",
       "    </tr>\n",
       "    <tr>\n",
       "      <th>1503072000</th>\n",
       "      <td>4320.52</td>\n",
       "      <td>4340.31</td>\n",
       "      <td>4287.79</td>\n",
       "      <td>4331.71</td>\n",
       "      <td>15.118957</td>\n",
       "      <td>51.167386</td>\n",
       "      <td>4327.995329</td>\n",
       "    </tr>\n",
       "    <tr>\n",
       "      <th>1503075600</th>\n",
       "      <td>4302.97</td>\n",
       "      <td>4318.16</td>\n",
       "      <td>4221.05</td>\n",
       "      <td>4293.09</td>\n",
       "      <td>46.533767</td>\n",
       "      <td>48.919621</td>\n",
       "      <td>4326.319858</td>\n",
       "    </tr>\n",
       "    <tr>\n",
       "      <th>1503079200</th>\n",
       "      <td>4293.09</td>\n",
       "      <td>4293.09</td>\n",
       "      <td>4193.70</td>\n",
       "      <td>4259.40</td>\n",
       "      <td>74.368943</td>\n",
       "      <td>47.054235</td>\n",
       "      <td>4323.157459</td>\n",
       "    </tr>\n",
       "  </tbody>\n",
       "</table>\n",
       "</div>"
      ],
      "text/plain": [
       "               open     high      low    close     volume        rsi  \\\n",
       "timestamp                                                              \n",
       "1503064800  4304.15  4371.52  4296.04  4356.31  51.563675  52.623958   \n",
       "1503068400  4356.31  4357.37  4302.72  4340.31  24.093449  51.678528   \n",
       "1503072000  4320.52  4340.31  4287.79  4331.71  15.118957  51.167386   \n",
       "1503075600  4302.97  4318.16  4221.05  4293.09  46.533767  48.919621   \n",
       "1503079200  4293.09  4293.09  4193.70  4259.40  74.368943  47.054235   \n",
       "\n",
       "                    ema  \n",
       "timestamp                \n",
       "1503064800  4327.151560  \n",
       "1503068400  4327.804777  \n",
       "1503072000  4327.995329  \n",
       "1503075600  4326.319858  \n",
       "1503079200  4323.157459  "
      ]
     },
     "metadata": {},
     "execution_count": 3
    }
   ],
   "metadata": {}
  },
  {
   "cell_type": "code",
   "execution_count": 4,
   "source": [
    "## Add min max bounds to data\n",
    "\n",
    "price_max = 80000.0\n",
    "volume_max = 60000.0\n",
    "rsi_max = 100.0\n",
    "\n",
    "price_min = 2000.0\n",
    "volume_min = 0.0\n",
    "rsi_min = 0.0\n",
    "\n",
    "max_df = pd.DataFrame()\n",
    "\n",
    "max_df[\"timestamp\"] = []\n",
    "\n",
    "for col in data.columns:\n",
    "    max_df[col] = []\n",
    "\n",
    "max_df = max_df.append({\"timestamp\": str(int(time.time())),\n",
    "                \"open\": price_max,\n",
    "                \"high\": price_max,\n",
    "                \"low\": price_max,\n",
    "                \"close\": price_max,\n",
    "                \"volume\": volume_max,\n",
    "                \"rsi\": rsi_max,\n",
    "                \"ema\": price_max,\n",
    "                \"target\": price_max}, ignore_index=True)\n",
    "\n",
    "max_df = max_df.append({\"timestamp\": str(int(time.time())),\n",
    "                \"open\": price_min,\n",
    "                \"high\": price_min,\n",
    "                \"low\": price_min,\n",
    "                \"close\": price_min,\n",
    "                \"volume\": volume_min,\n",
    "                \"rsi\": rsi_min,\n",
    "                \"ema\": price_min,\n",
    "                \"target\": price_min}, ignore_index=True)\n",
    "\n",
    "max_df.set_index(\"timestamp\", inplace=True)\n",
    "\n",
    "max_df.head()\n"
   ],
   "outputs": [
    {
     "output_type": "execute_result",
     "data": {
      "text/html": [
       "<div>\n",
       "<style scoped>\n",
       "    .dataframe tbody tr th:only-of-type {\n",
       "        vertical-align: middle;\n",
       "    }\n",
       "\n",
       "    .dataframe tbody tr th {\n",
       "        vertical-align: top;\n",
       "    }\n",
       "\n",
       "    .dataframe thead th {\n",
       "        text-align: right;\n",
       "    }\n",
       "</style>\n",
       "<table border=\"1\" class=\"dataframe\">\n",
       "  <thead>\n",
       "    <tr style=\"text-align: right;\">\n",
       "      <th></th>\n",
       "      <th>open</th>\n",
       "      <th>high</th>\n",
       "      <th>low</th>\n",
       "      <th>close</th>\n",
       "      <th>volume</th>\n",
       "      <th>rsi</th>\n",
       "      <th>ema</th>\n",
       "      <th>target</th>\n",
       "    </tr>\n",
       "    <tr>\n",
       "      <th>timestamp</th>\n",
       "      <th></th>\n",
       "      <th></th>\n",
       "      <th></th>\n",
       "      <th></th>\n",
       "      <th></th>\n",
       "      <th></th>\n",
       "      <th></th>\n",
       "      <th></th>\n",
       "    </tr>\n",
       "  </thead>\n",
       "  <tbody>\n",
       "    <tr>\n",
       "      <th>1645565455</th>\n",
       "      <td>80000.0</td>\n",
       "      <td>80000.0</td>\n",
       "      <td>80000.0</td>\n",
       "      <td>80000.0</td>\n",
       "      <td>60000.0</td>\n",
       "      <td>100.0</td>\n",
       "      <td>80000.0</td>\n",
       "      <td>80000.0</td>\n",
       "    </tr>\n",
       "    <tr>\n",
       "      <th>1645565455</th>\n",
       "      <td>2000.0</td>\n",
       "      <td>2000.0</td>\n",
       "      <td>2000.0</td>\n",
       "      <td>2000.0</td>\n",
       "      <td>0.0</td>\n",
       "      <td>0.0</td>\n",
       "      <td>2000.0</td>\n",
       "      <td>2000.0</td>\n",
       "    </tr>\n",
       "  </tbody>\n",
       "</table>\n",
       "</div>"
      ],
      "text/plain": [
       "               open     high      low    close   volume    rsi      ema  \\\n",
       "timestamp                                                                 \n",
       "1645565455  80000.0  80000.0  80000.0  80000.0  60000.0  100.0  80000.0   \n",
       "1645565455   2000.0   2000.0   2000.0   2000.0      0.0    0.0   2000.0   \n",
       "\n",
       "             target  \n",
       "timestamp            \n",
       "1645565455  80000.0  \n",
       "1645565455   2000.0  "
      ]
     },
     "metadata": {},
     "execution_count": 4
    }
   ],
   "metadata": {}
  },
  {
   "cell_type": "code",
   "execution_count": 5,
   "source": [
    "## Formatting data and Scaler Initialization\n",
    "\n",
    "# def classify(current, future):\n",
    "#     return float((future - current) / current)\n",
    "\n",
    "\n",
    "data[\"target\"] = data[\"close\"].shift(-FUTURE_PERIOD_PREDICT)\n",
    "\n",
    "# # Cut off NaNs\n",
    "# # data = data[:-FUTURE_PERIOD_PREDICT]\n",
    "data.dropna(inplace=True)\n",
    "\n",
    "# data[\"target\"] = list(map(classify, data[\"close\"], data[\"future\"]))\n",
    "# # data[[\"close\", \"future\", \"target\"]].tail()\n",
    "# data = data.drop(\"future\", 1)\n",
    "\n",
    "# Fit scalers\n",
    "price_scaler = preprocessing.MinMaxScaler(feature_range=(-1, 1))\n",
    "volume_scaler = preprocessing.MinMaxScaler(feature_range=(-1, 1))\n",
    "rsi_scaler = preprocessing.MinMaxScaler(feature_range=(-1, 1))\n",
    "\n",
    "data = data.append(max_df)\n",
    "\n",
    "price_scaler.fit(np.array(data[\"close\"]).reshape(-1, 1))\n",
    "volume_scaler.fit(np.array(data[\"volume\"]).reshape(-1, 1))\n",
    "rsi_scaler.fit(np.array(data[\"rsi\"]).reshape(-1, 1))\n",
    "\n",
    "#Dump scalers\n",
    "try:\n",
    "    os.mkdir(f\"scalers/{NAME}\")\n",
    "except:\n",
    "    pass\n",
    "\n",
    "joblib.dump(price_scaler, f\"scalers/{NAME}/price_scaler\")\n",
    "joblib.dump(volume_scaler, f\"scalers/{NAME}/volume_scaler\")\n",
    "joblib.dump(rsi_scaler, f\"scalers/{NAME}/rsi_scaler\")\n",
    "\n",
    "# Remove min max boundary values\n",
    "data = data[:-2]\n",
    "\n",
    "\n",
    "# Split dataset # Dont split here; do split after shuffle\n",
    "# last_5_pct = int(len(data) * .95)\n",
    "\n",
    "# train_data = data[:last_5_pct]\n",
    "# validation_data = data[last_5_pct:]\n",
    "\n",
    "# print(f\"{len(train_data)} :: {len(validation_data)}\")\n",
    "\n",
    "data.head()"
   ],
   "outputs": [
    {
     "output_type": "execute_result",
     "data": {
      "text/html": [
       "<div>\n",
       "<style scoped>\n",
       "    .dataframe tbody tr th:only-of-type {\n",
       "        vertical-align: middle;\n",
       "    }\n",
       "\n",
       "    .dataframe tbody tr th {\n",
       "        vertical-align: top;\n",
       "    }\n",
       "\n",
       "    .dataframe thead th {\n",
       "        text-align: right;\n",
       "    }\n",
       "</style>\n",
       "<table border=\"1\" class=\"dataframe\">\n",
       "  <thead>\n",
       "    <tr style=\"text-align: right;\">\n",
       "      <th></th>\n",
       "      <th>open</th>\n",
       "      <th>high</th>\n",
       "      <th>low</th>\n",
       "      <th>close</th>\n",
       "      <th>volume</th>\n",
       "      <th>rsi</th>\n",
       "      <th>ema</th>\n",
       "      <th>target</th>\n",
       "    </tr>\n",
       "    <tr>\n",
       "      <th>timestamp</th>\n",
       "      <th></th>\n",
       "      <th></th>\n",
       "      <th></th>\n",
       "      <th></th>\n",
       "      <th></th>\n",
       "      <th></th>\n",
       "      <th></th>\n",
       "      <th></th>\n",
       "    </tr>\n",
       "  </thead>\n",
       "  <tbody>\n",
       "    <tr>\n",
       "      <th>1503064800</th>\n",
       "      <td>4304.15</td>\n",
       "      <td>4371.52</td>\n",
       "      <td>4296.04</td>\n",
       "      <td>4356.31</td>\n",
       "      <td>51.563675</td>\n",
       "      <td>52.623958</td>\n",
       "      <td>4327.151560</td>\n",
       "      <td>4340.31</td>\n",
       "    </tr>\n",
       "    <tr>\n",
       "      <th>1503068400</th>\n",
       "      <td>4356.31</td>\n",
       "      <td>4357.37</td>\n",
       "      <td>4302.72</td>\n",
       "      <td>4340.31</td>\n",
       "      <td>24.093449</td>\n",
       "      <td>51.678528</td>\n",
       "      <td>4327.804777</td>\n",
       "      <td>4331.71</td>\n",
       "    </tr>\n",
       "    <tr>\n",
       "      <th>1503072000</th>\n",
       "      <td>4320.52</td>\n",
       "      <td>4340.31</td>\n",
       "      <td>4287.79</td>\n",
       "      <td>4331.71</td>\n",
       "      <td>15.118957</td>\n",
       "      <td>51.167386</td>\n",
       "      <td>4327.995329</td>\n",
       "      <td>4293.09</td>\n",
       "    </tr>\n",
       "    <tr>\n",
       "      <th>1503075600</th>\n",
       "      <td>4302.97</td>\n",
       "      <td>4318.16</td>\n",
       "      <td>4221.05</td>\n",
       "      <td>4293.09</td>\n",
       "      <td>46.533767</td>\n",
       "      <td>48.919621</td>\n",
       "      <td>4326.319858</td>\n",
       "      <td>4259.40</td>\n",
       "    </tr>\n",
       "    <tr>\n",
       "      <th>1503079200</th>\n",
       "      <td>4293.09</td>\n",
       "      <td>4293.09</td>\n",
       "      <td>4193.70</td>\n",
       "      <td>4259.40</td>\n",
       "      <td>74.368943</td>\n",
       "      <td>47.054235</td>\n",
       "      <td>4323.157459</td>\n",
       "      <td>4236.89</td>\n",
       "    </tr>\n",
       "  </tbody>\n",
       "</table>\n",
       "</div>"
      ],
      "text/plain": [
       "               open     high      low    close     volume        rsi  \\\n",
       "timestamp                                                              \n",
       "1503064800  4304.15  4371.52  4296.04  4356.31  51.563675  52.623958   \n",
       "1503068400  4356.31  4357.37  4302.72  4340.31  24.093449  51.678528   \n",
       "1503072000  4320.52  4340.31  4287.79  4331.71  15.118957  51.167386   \n",
       "1503075600  4302.97  4318.16  4221.05  4293.09  46.533767  48.919621   \n",
       "1503079200  4293.09  4293.09  4193.70  4259.40  74.368943  47.054235   \n",
       "\n",
       "                    ema   target  \n",
       "timestamp                         \n",
       "1503064800  4327.151560  4340.31  \n",
       "1503068400  4327.804777  4331.71  \n",
       "1503072000  4327.995329  4293.09  \n",
       "1503075600  4326.319858  4259.40  \n",
       "1503079200  4323.157459  4236.89  "
      ]
     },
     "metadata": {},
     "execution_count": 5
    }
   ],
   "metadata": {}
  },
  {
   "cell_type": "code",
   "execution_count": 6,
   "source": [
    "## Helper\n",
    "## Ratios of buy to sell targets\n",
    "\n",
    "## See how balanced the input data is\n",
    "\n",
    "close_target_list = list(zip(data[\"close\"], data[\"target\"]))\n",
    "\n",
    "sell_counter = len([x for x in close_target_list if x[0] > x[1]])\n",
    "buy_counter = len([x for x in close_target_list if x[0] < x[1]])\n",
    "\n",
    "pct_sell = sell_counter / len(data)\n",
    "pct_buy = buy_counter / len(data)\n",
    "\n",
    "print(f\"{pct_sell} :: {pct_buy}\")"
   ],
   "outputs": [
    {
     "output_type": "stream",
     "name": "stdout",
     "text": [
      "0.48743107153027676 :: 0.5118440469101924\n"
     ]
    }
   ],
   "metadata": {}
  },
  {
   "cell_type": "code",
   "execution_count": 7,
   "source": [
    "## Preprocess Data\n",
    "\n",
    "def preprocess_df_p1(df_p):\n",
    "\n",
    "    df = pd.DataFrame()\n",
    "    for col in df_p.columns:\n",
    "        df[col] = df_p[col]\n",
    "\n",
    "    for col in df.columns:\n",
    "        scaler = None\n",
    "        if col in [\"open\", \"high\", \"low\", \"close\", \"ema\", \"target\"]:\n",
    "            scaler = price_scaler\n",
    "        elif col == \"volume\":\n",
    "            scaler = volume_scaler\n",
    "        elif col == \"rsi\":\n",
    "            scaler = rsi_scaler\n",
    "        else:\n",
    "            raise Exception(\"Column not recognized and scaler cannot be determined\")\n",
    "\n",
    "        df.replace([np.inf, -np.inf], np.nan, inplace=True)\n",
    "        df.dropna(inplace=True)\n",
    "        df[col] = scaler.transform(np.array(df[col]).reshape(-1, 1))\n",
    "\n",
    "        \n",
    "    df.replace([np.inf, -np.inf], np.nan, inplace=True)\n",
    "    df.dropna(inplace=True)\n",
    "\n",
    "    sequential_data = []\n",
    "    prev_periods = deque(maxlen=SEQ_LEN)\n",
    "\n",
    "    for i in df.values:\n",
    "        prev_periods.append([n for n in i[:-1]])\n",
    "        if len(prev_periods) == SEQ_LEN:\n",
    "            sequential_data.append([np.array(prev_periods), i[-1]])\n",
    "\n",
    "    return sequential_data\n",
    "    # random.shuffle(sequential_data)\n",
    "\n",
    "def preprocess_df_p2(seq_data):\n",
    "\n",
    "    # Balance buys and sells\n",
    "    buys = []\n",
    "    sells = []\n",
    "\n",
    "    for seq, target in seq_data:\n",
    "\n",
    "        if target < seq[-1][3]: #compares to close column\n",
    "            sells.append([seq, target])\n",
    "        elif target > seq[-1][3]:\n",
    "            buys.append([seq, target])\n",
    "\n",
    "    lower = min(len(buys), len(sells))\n",
    "\n",
    "    buys = buys[:lower]\n",
    "    sells = sells[:lower]\n",
    "\n",
    "    local_seq_data = buys + sells\n",
    "\n",
    "    random.shuffle(local_seq_data)\n",
    "\n",
    "    X = [d[0] for d in local_seq_data]\n",
    "    Y = [d[1] for d in local_seq_data]\n",
    "\n",
    "    return np.array(X), np.array(Y)\n",
    "    \n",
    "\n",
    "# train_x, train_y = preprocess_df(train_data)\n",
    "# validation_x, validation_y = preprocess_df(validation_data)\n",
    "\n",
    "# Preprocess and split data here\n",
    "seq_data_full = preprocess_df_p1(data)\n",
    "\n",
    "last_5_pct = int(len(seq_data_full) * .95)\n",
    "\n",
    "seq_data_train = seq_data_full[:last_5_pct]\n",
    "seq_data_val = seq_data_full[last_5_pct:]\n",
    "\n",
    "train_x, train_y = preprocess_df_p2(seq_data_train)\n",
    "validation_x, validation_y = preprocess_df_p2(seq_data_val)"
   ],
   "outputs": [],
   "metadata": {}
  },
  {
   "cell_type": "code",
   "execution_count": 8,
   "source": [
    "## Dataset metrics\n",
    "\n",
    "close_target_list = list(zip([x[-1][3] for x in list(train_x)], list(train_y)))\n",
    "\n",
    "train_sell_counter = len([x for x in close_target_list if x[0] > x[1]])\n",
    "train_buy_counter = len([x for x in close_target_list if x[0] < x[1]])\n",
    "\n",
    "close_target_list = list(zip([x[-1][3] for x in list(validation_x)], list(validation_y)))\n",
    "\n",
    "val_sell_counter = len([x for x in close_target_list if x[0] > x[1]])\n",
    "val_buy_counter = len([x for x in close_target_list if x[0] < x[1]])\n",
    "\n",
    "print(f\"Train : Validation == {len(train_x)} : {len(validation_x)}\")\n",
    "print(f\"Train\\t\\tBuys : Sells == {train_buy_counter} : {train_sell_counter}\")\n",
    "print(f\"Validation\\tBuys : Sells == {val_buy_counter} : {val_sell_counter}\")"
   ],
   "outputs": [
    {
     "output_type": "stream",
     "name": "stdout",
     "text": [
      "Train : Validation == 35626 : 1882\n",
      "Train\t\tBuys : Sells == 17813 : 17813\n",
      "Validation\tBuys : Sells == 941 : 941\n"
     ]
    }
   ],
   "metadata": {}
  },
  {
   "cell_type": "code",
   "execution_count": 9,
   "source": [
    "## Make model\n",
    "\n",
    "model = Sequential()\n",
    "optimizer = tf.keras.optimizers.Adam(learning_rate=0.001, decay=1e-6)\n",
    "\n",
    "\n",
    "model.add(LSTM(512, input_shape=(train_x.shape[1:]), activation=\"tanh\", return_sequences=True))\n",
    "model.add(Dropout(0.2))\n",
    "model.add(BatchNormalization())\n",
    "\n",
    "model.add(LSTM(512, input_shape=(train_x.shape[1:]), activation=\"tanh\", return_sequences=True))\n",
    "model.add(Dropout(0.1))\n",
    "model.add(BatchNormalization())\n",
    "\n",
    "model.add(LSTM(512, input_shape=(train_x.shape[1:]), activation=\"tanh\"))\n",
    "model.add(Dropout(0.2))\n",
    "model.add(BatchNormalization())\n",
    "\n",
    "model.add(Dense(64, activation=\"relu\"))\n",
    "model.add(Dropout(0.2))\n",
    "\n",
    "model.add(Dense(1, activation=\"tanh\"))\n",
    "\n",
    "\n",
    "\n",
    "model.compile(loss=tf.keras.losses.MeanSquaredError(), optimizer=optimizer, metrics=[\"mse\", \"mean_absolute_percentage_error\"])\n",
    "\n",
    "tb = TensorBoard(log_dir=f\"logs/{NAME}\")\n",
    "\n",
    "filepath = NAME + \"-e{epoch:02d}-vmse{val_loss:.5f}-\" + str(int(time.time()))\n",
    "checkpoint = ModelCheckpoint(\"models/{}.model\".format(filepath, monitor=\"mse\", verbose=1, save_best_only=True, mode=\"max\"))"
   ],
   "outputs": [
    {
     "output_type": "stream",
     "name": "stderr",
     "text": [
      "2022-02-22 21:32:03.163191: I tensorflow/core/platform/cpu_feature_guard.cc:151] This TensorFlow binary is optimized with oneAPI Deep Neural Network Library (oneDNN) to use the following CPU instructions in performance-critical operations:  AVX2 AVX512F FMA\n",
      "To enable them in other operations, rebuild TensorFlow with the appropriate compiler flags.\n",
      "2022-02-22 21:32:03.163591: I tensorflow/stream_executor/cuda/cuda_gpu_executor.cc:939] successful NUMA node read from SysFS had negative value (-1), but there must be at least one NUMA node, so returning NUMA node zero\n",
      "2022-02-22 21:32:03.164300: I tensorflow/stream_executor/cuda/cuda_gpu_executor.cc:939] successful NUMA node read from SysFS had negative value (-1), but there must be at least one NUMA node, so returning NUMA node zero\n",
      "2022-02-22 21:32:03.164872: I tensorflow/stream_executor/cuda/cuda_gpu_executor.cc:939] successful NUMA node read from SysFS had negative value (-1), but there must be at least one NUMA node, so returning NUMA node zero\n",
      "2022-02-22 21:32:03.808110: I tensorflow/stream_executor/cuda/cuda_gpu_executor.cc:939] successful NUMA node read from SysFS had negative value (-1), but there must be at least one NUMA node, so returning NUMA node zero\n",
      "2022-02-22 21:32:03.808743: I tensorflow/stream_executor/cuda/cuda_gpu_executor.cc:939] successful NUMA node read from SysFS had negative value (-1), but there must be at least one NUMA node, so returning NUMA node zero\n",
      "2022-02-22 21:32:03.809305: I tensorflow/stream_executor/cuda/cuda_gpu_executor.cc:939] successful NUMA node read from SysFS had negative value (-1), but there must be at least one NUMA node, so returning NUMA node zero\n",
      "2022-02-22 21:32:03.809855: I tensorflow/core/common_runtime/gpu/gpu_device.cc:1525] Created device /job:localhost/replica:0/task:0/device:GPU:0 with 13791 MB memory:  -> device: 0, name: Tesla T4, pci bus id: 0000:00:1e.0, compute capability: 7.5\n"
     ]
    }
   ],
   "metadata": {}
  },
  {
   "cell_type": "code",
   "execution_count": 10,
   "source": [
    "with tf.device(\"/device:GPU:0\"):\n",
    "    history = model.fit(x=train_x, y=train_y,\n",
    "                        batch_size=BATCH_SIZE,\n",
    "                        epochs=EPOCHS,\n",
    "                        validation_data=(validation_x, validation_y),\n",
    "                        callbacks=[tb, checkpoint]\n",
    "                        )"
   ],
   "outputs": [
    {
     "output_type": "stream",
     "name": "stdout",
     "text": [
      "Epoch 1/20\n"
     ]
    },
    {
     "output_type": "stream",
     "name": "stderr",
     "text": [
      "2022-02-22 21:32:40.760137: I tensorflow/stream_executor/cuda/cuda_dnn.cc:366] Loaded cuDNN version 8201\n"
     ]
    },
    {
     "output_type": "stream",
     "name": "stdout",
     "text": [
      "2227/2227 [==============================] - ETA: 0s - loss: 0.0322 - mse: 0.0322 - mean_absolute_percentage_error: 50.4723"
     ]
    },
    {
     "output_type": "stream",
     "name": "stderr",
     "text": [
      "2022-02-22 21:33:32.662313: W tensorflow/python/util/util.cc:368] Sets are not currently considered sequences, but this may change in the future, so consider avoiding using them.\n",
      "WARNING:absl:Found untraced functions such as lstm_cell_layer_call_fn, lstm_cell_layer_call_and_return_conditional_losses, lstm_cell_1_layer_call_fn, lstm_cell_1_layer_call_and_return_conditional_losses, lstm_cell_2_layer_call_fn while saving (showing 5 of 15). These functions will not be directly callable after loading.\n"
     ]
    },
    {
     "output_type": "stream",
     "name": "stdout",
     "text": [
      "INFO:tensorflow:Assets written to: models/TANH2_wd-e20-b16-s48-fpp1-1645565455-e01-vmse0.00332-1645565525.model/assets\n"
     ]
    },
    {
     "output_type": "stream",
     "name": "stderr",
     "text": [
      "INFO:tensorflow:Assets written to: models/TANH2_wd-e20-b16-s48-fpp1-1645565455-e01-vmse0.00332-1645565525.model/assets\n",
      "WARNING:absl:<keras.layers.recurrent.LSTMCell object at 0x7f7ae2189430> has the same name 'LSTMCell' as a built-in Keras object. Consider renaming <class 'keras.layers.recurrent.LSTMCell'> to avoid naming conflicts when loading with `tf.keras.models.load_model`. If renaming is not possible, pass the object in the `custom_objects` parameter of the load function.\n",
      "WARNING:absl:<keras.layers.recurrent.LSTMCell object at 0x7f7aec19bca0> has the same name 'LSTMCell' as a built-in Keras object. Consider renaming <class 'keras.layers.recurrent.LSTMCell'> to avoid naming conflicts when loading with `tf.keras.models.load_model`. If renaming is not possible, pass the object in the `custom_objects` parameter of the load function.\n",
      "WARNING:absl:<keras.layers.recurrent.LSTMCell object at 0x7f7aec0d1640> has the same name 'LSTMCell' as a built-in Keras object. Consider renaming <class 'keras.layers.recurrent.LSTMCell'> to avoid naming conflicts when loading with `tf.keras.models.load_model`. If renaming is not possible, pass the object in the `custom_objects` parameter of the load function.\n"
     ]
    },
    {
     "output_type": "stream",
     "name": "stdout",
     "text": [
      "2227/2227 [==============================] - 64s 25ms/step - loss: 0.0322 - mse: 0.0322 - mean_absolute_percentage_error: 50.4723 - val_loss: 0.0033 - val_mse: 0.0033 - val_mean_absolute_percentage_error: 29.6113\n",
      "Epoch 2/20\n",
      "2226/2227 [============================>.] - ETA: 0s - loss: 0.0071 - mse: 0.0071 - mean_absolute_percentage_error: 25.8817"
     ]
    },
    {
     "output_type": "stream",
     "name": "stderr",
     "text": [
      "WARNING:absl:Found untraced functions such as lstm_cell_layer_call_fn, lstm_cell_layer_call_and_return_conditional_losses, lstm_cell_1_layer_call_fn, lstm_cell_1_layer_call_and_return_conditional_losses, lstm_cell_2_layer_call_fn while saving (showing 5 of 15). These functions will not be directly callable after loading.\n"
     ]
    },
    {
     "output_type": "stream",
     "name": "stdout",
     "text": [
      "INFO:tensorflow:Assets written to: models/TANH2_wd-e20-b16-s48-fpp1-1645565455-e02-vmse0.01015-1645565525.model/assets\n"
     ]
    },
    {
     "output_type": "stream",
     "name": "stderr",
     "text": [
      "INFO:tensorflow:Assets written to: models/TANH2_wd-e20-b16-s48-fpp1-1645565455-e02-vmse0.01015-1645565525.model/assets\n",
      "WARNING:absl:<keras.layers.recurrent.LSTMCell object at 0x7f7ae2189430> has the same name 'LSTMCell' as a built-in Keras object. Consider renaming <class 'keras.layers.recurrent.LSTMCell'> to avoid naming conflicts when loading with `tf.keras.models.load_model`. If renaming is not possible, pass the object in the `custom_objects` parameter of the load function.\n",
      "WARNING:absl:<keras.layers.recurrent.LSTMCell object at 0x7f7aec19bca0> has the same name 'LSTMCell' as a built-in Keras object. Consider renaming <class 'keras.layers.recurrent.LSTMCell'> to avoid naming conflicts when loading with `tf.keras.models.load_model`. If renaming is not possible, pass the object in the `custom_objects` parameter of the load function.\n",
      "WARNING:absl:<keras.layers.recurrent.LSTMCell object at 0x7f7aec0d1640> has the same name 'LSTMCell' as a built-in Keras object. Consider renaming <class 'keras.layers.recurrent.LSTMCell'> to avoid naming conflicts when loading with `tf.keras.models.load_model`. If renaming is not possible, pass the object in the `custom_objects` parameter of the load function.\n"
     ]
    },
    {
     "output_type": "stream",
     "name": "stdout",
     "text": [
      "2227/2227 [==============================] - 56s 25ms/step - loss: 0.0071 - mse: 0.0071 - mean_absolute_percentage_error: 25.8761 - val_loss: 0.0102 - val_mse: 0.0102 - val_mean_absolute_percentage_error: 69.2171\n",
      "Epoch 3/20\n",
      "2226/2227 [============================>.] - ETA: 0s - loss: 0.0049 - mse: 0.0049 - mean_absolute_percentage_error: 20.8320"
     ]
    },
    {
     "output_type": "stream",
     "name": "stderr",
     "text": [
      "WARNING:absl:Found untraced functions such as lstm_cell_layer_call_fn, lstm_cell_layer_call_and_return_conditional_losses, lstm_cell_1_layer_call_fn, lstm_cell_1_layer_call_and_return_conditional_losses, lstm_cell_2_layer_call_fn while saving (showing 5 of 15). These functions will not be directly callable after loading.\n"
     ]
    },
    {
     "output_type": "stream",
     "name": "stdout",
     "text": [
      "INFO:tensorflow:Assets written to: models/TANH2_wd-e20-b16-s48-fpp1-1645565455-e03-vmse0.00960-1645565525.model/assets\n"
     ]
    },
    {
     "output_type": "stream",
     "name": "stderr",
     "text": [
      "INFO:tensorflow:Assets written to: models/TANH2_wd-e20-b16-s48-fpp1-1645565455-e03-vmse0.00960-1645565525.model/assets\n",
      "WARNING:absl:<keras.layers.recurrent.LSTMCell object at 0x7f7ae2189430> has the same name 'LSTMCell' as a built-in Keras object. Consider renaming <class 'keras.layers.recurrent.LSTMCell'> to avoid naming conflicts when loading with `tf.keras.models.load_model`. If renaming is not possible, pass the object in the `custom_objects` parameter of the load function.\n",
      "WARNING:absl:<keras.layers.recurrent.LSTMCell object at 0x7f7aec19bca0> has the same name 'LSTMCell' as a built-in Keras object. Consider renaming <class 'keras.layers.recurrent.LSTMCell'> to avoid naming conflicts when loading with `tf.keras.models.load_model`. If renaming is not possible, pass the object in the `custom_objects` parameter of the load function.\n",
      "WARNING:absl:<keras.layers.recurrent.LSTMCell object at 0x7f7aec0d1640> has the same name 'LSTMCell' as a built-in Keras object. Consider renaming <class 'keras.layers.recurrent.LSTMCell'> to avoid naming conflicts when loading with `tf.keras.models.load_model`. If renaming is not possible, pass the object in the `custom_objects` parameter of the load function.\n"
     ]
    },
    {
     "output_type": "stream",
     "name": "stdout",
     "text": [
      "2227/2227 [==============================] - 57s 25ms/step - loss: 0.0049 - mse: 0.0049 - mean_absolute_percentage_error: 20.8275 - val_loss: 0.0096 - val_mse: 0.0096 - val_mean_absolute_percentage_error: 51.4578\n",
      "Epoch 4/20\n",
      "2227/2227 [==============================] - ETA: 0s - loss: 0.0046 - mse: 0.0046 - mean_absolute_percentage_error: 20.5341"
     ]
    },
    {
     "output_type": "stream",
     "name": "stderr",
     "text": [
      "WARNING:absl:Found untraced functions such as lstm_cell_layer_call_fn, lstm_cell_layer_call_and_return_conditional_losses, lstm_cell_1_layer_call_fn, lstm_cell_1_layer_call_and_return_conditional_losses, lstm_cell_2_layer_call_fn while saving (showing 5 of 15). These functions will not be directly callable after loading.\n"
     ]
    },
    {
     "output_type": "stream",
     "name": "stdout",
     "text": [
      "INFO:tensorflow:Assets written to: models/TANH2_wd-e20-b16-s48-fpp1-1645565455-e04-vmse0.00310-1645565525.model/assets\n"
     ]
    },
    {
     "output_type": "stream",
     "name": "stderr",
     "text": [
      "INFO:tensorflow:Assets written to: models/TANH2_wd-e20-b16-s48-fpp1-1645565455-e04-vmse0.00310-1645565525.model/assets\n",
      "WARNING:absl:<keras.layers.recurrent.LSTMCell object at 0x7f7ae2189430> has the same name 'LSTMCell' as a built-in Keras object. Consider renaming <class 'keras.layers.recurrent.LSTMCell'> to avoid naming conflicts when loading with `tf.keras.models.load_model`. If renaming is not possible, pass the object in the `custom_objects` parameter of the load function.\n",
      "WARNING:absl:<keras.layers.recurrent.LSTMCell object at 0x7f7aec19bca0> has the same name 'LSTMCell' as a built-in Keras object. Consider renaming <class 'keras.layers.recurrent.LSTMCell'> to avoid naming conflicts when loading with `tf.keras.models.load_model`. If renaming is not possible, pass the object in the `custom_objects` parameter of the load function.\n",
      "WARNING:absl:<keras.layers.recurrent.LSTMCell object at 0x7f7aec0d1640> has the same name 'LSTMCell' as a built-in Keras object. Consider renaming <class 'keras.layers.recurrent.LSTMCell'> to avoid naming conflicts when loading with `tf.keras.models.load_model`. If renaming is not possible, pass the object in the `custom_objects` parameter of the load function.\n"
     ]
    },
    {
     "output_type": "stream",
     "name": "stdout",
     "text": [
      "2227/2227 [==============================] - 58s 26ms/step - loss: 0.0046 - mse: 0.0046 - mean_absolute_percentage_error: 20.5341 - val_loss: 0.0031 - val_mse: 0.0031 - val_mean_absolute_percentage_error: 34.7662\n",
      "Epoch 5/20\n",
      "2225/2227 [============================>.] - ETA: 0s - loss: 0.0054 - mse: 0.0054 - mean_absolute_percentage_error: 20.1681"
     ]
    },
    {
     "output_type": "stream",
     "name": "stderr",
     "text": [
      "WARNING:absl:Found untraced functions such as lstm_cell_layer_call_fn, lstm_cell_layer_call_and_return_conditional_losses, lstm_cell_1_layer_call_fn, lstm_cell_1_layer_call_and_return_conditional_losses, lstm_cell_2_layer_call_fn while saving (showing 5 of 15). These functions will not be directly callable after loading.\n"
     ]
    },
    {
     "output_type": "stream",
     "name": "stdout",
     "text": [
      "INFO:tensorflow:Assets written to: models/TANH2_wd-e20-b16-s48-fpp1-1645565455-e05-vmse0.00329-1645565525.model/assets\n"
     ]
    },
    {
     "output_type": "stream",
     "name": "stderr",
     "text": [
      "INFO:tensorflow:Assets written to: models/TANH2_wd-e20-b16-s48-fpp1-1645565455-e05-vmse0.00329-1645565525.model/assets\n",
      "WARNING:absl:<keras.layers.recurrent.LSTMCell object at 0x7f7ae2189430> has the same name 'LSTMCell' as a built-in Keras object. Consider renaming <class 'keras.layers.recurrent.LSTMCell'> to avoid naming conflicts when loading with `tf.keras.models.load_model`. If renaming is not possible, pass the object in the `custom_objects` parameter of the load function.\n",
      "WARNING:absl:<keras.layers.recurrent.LSTMCell object at 0x7f7aec19bca0> has the same name 'LSTMCell' as a built-in Keras object. Consider renaming <class 'keras.layers.recurrent.LSTMCell'> to avoid naming conflicts when loading with `tf.keras.models.load_model`. If renaming is not possible, pass the object in the `custom_objects` parameter of the load function.\n",
      "WARNING:absl:<keras.layers.recurrent.LSTMCell object at 0x7f7aec0d1640> has the same name 'LSTMCell' as a built-in Keras object. Consider renaming <class 'keras.layers.recurrent.LSTMCell'> to avoid naming conflicts when loading with `tf.keras.models.load_model`. If renaming is not possible, pass the object in the `custom_objects` parameter of the load function.\n"
     ]
    },
    {
     "output_type": "stream",
     "name": "stdout",
     "text": [
      "2227/2227 [==============================] - 58s 26ms/step - loss: 0.0054 - mse: 0.0054 - mean_absolute_percentage_error: 20.1689 - val_loss: 0.0033 - val_mse: 0.0033 - val_mean_absolute_percentage_error: 39.8920\n",
      "Epoch 6/20\n",
      "2226/2227 [============================>.] - ETA: 0s - loss: 0.0039 - mse: 0.0039 - mean_absolute_percentage_error: 16.8105"
     ]
    },
    {
     "output_type": "stream",
     "name": "stderr",
     "text": [
      "WARNING:absl:Found untraced functions such as lstm_cell_layer_call_fn, lstm_cell_layer_call_and_return_conditional_losses, lstm_cell_1_layer_call_fn, lstm_cell_1_layer_call_and_return_conditional_losses, lstm_cell_2_layer_call_fn while saving (showing 5 of 15). These functions will not be directly callable after loading.\n"
     ]
    },
    {
     "output_type": "stream",
     "name": "stdout",
     "text": [
      "INFO:tensorflow:Assets written to: models/TANH2_wd-e20-b16-s48-fpp1-1645565455-e06-vmse0.01701-1645565525.model/assets\n"
     ]
    },
    {
     "output_type": "stream",
     "name": "stderr",
     "text": [
      "INFO:tensorflow:Assets written to: models/TANH2_wd-e20-b16-s48-fpp1-1645565455-e06-vmse0.01701-1645565525.model/assets\n",
      "WARNING:absl:<keras.layers.recurrent.LSTMCell object at 0x7f7ae2189430> has the same name 'LSTMCell' as a built-in Keras object. Consider renaming <class 'keras.layers.recurrent.LSTMCell'> to avoid naming conflicts when loading with `tf.keras.models.load_model`. If renaming is not possible, pass the object in the `custom_objects` parameter of the load function.\n",
      "WARNING:absl:<keras.layers.recurrent.LSTMCell object at 0x7f7aec19bca0> has the same name 'LSTMCell' as a built-in Keras object. Consider renaming <class 'keras.layers.recurrent.LSTMCell'> to avoid naming conflicts when loading with `tf.keras.models.load_model`. If renaming is not possible, pass the object in the `custom_objects` parameter of the load function.\n",
      "WARNING:absl:<keras.layers.recurrent.LSTMCell object at 0x7f7aec0d1640> has the same name 'LSTMCell' as a built-in Keras object. Consider renaming <class 'keras.layers.recurrent.LSTMCell'> to avoid naming conflicts when loading with `tf.keras.models.load_model`. If renaming is not possible, pass the object in the `custom_objects` parameter of the load function.\n"
     ]
    },
    {
     "output_type": "stream",
     "name": "stdout",
     "text": [
      "2227/2227 [==============================] - 58s 26ms/step - loss: 0.0039 - mse: 0.0039 - mean_absolute_percentage_error: 16.8089 - val_loss: 0.0170 - val_mse: 0.0170 - val_mean_absolute_percentage_error: 60.1853\n",
      "Epoch 7/20\n",
      "2227/2227 [==============================] - ETA: 0s - loss: 0.0035 - mse: 0.0035 - mean_absolute_percentage_error: 16.6448"
     ]
    },
    {
     "output_type": "stream",
     "name": "stderr",
     "text": [
      "WARNING:absl:Found untraced functions such as lstm_cell_layer_call_fn, lstm_cell_layer_call_and_return_conditional_losses, lstm_cell_1_layer_call_fn, lstm_cell_1_layer_call_and_return_conditional_losses, lstm_cell_2_layer_call_fn while saving (showing 5 of 15). These functions will not be directly callable after loading.\n"
     ]
    },
    {
     "output_type": "stream",
     "name": "stdout",
     "text": [
      "INFO:tensorflow:Assets written to: models/TANH2_wd-e20-b16-s48-fpp1-1645565455-e07-vmse0.01294-1645565525.model/assets\n"
     ]
    },
    {
     "output_type": "stream",
     "name": "stderr",
     "text": [
      "INFO:tensorflow:Assets written to: models/TANH2_wd-e20-b16-s48-fpp1-1645565455-e07-vmse0.01294-1645565525.model/assets\n",
      "WARNING:absl:<keras.layers.recurrent.LSTMCell object at 0x7f7ae2189430> has the same name 'LSTMCell' as a built-in Keras object. Consider renaming <class 'keras.layers.recurrent.LSTMCell'> to avoid naming conflicts when loading with `tf.keras.models.load_model`. If renaming is not possible, pass the object in the `custom_objects` parameter of the load function.\n",
      "WARNING:absl:<keras.layers.recurrent.LSTMCell object at 0x7f7aec19bca0> has the same name 'LSTMCell' as a built-in Keras object. Consider renaming <class 'keras.layers.recurrent.LSTMCell'> to avoid naming conflicts when loading with `tf.keras.models.load_model`. If renaming is not possible, pass the object in the `custom_objects` parameter of the load function.\n",
      "WARNING:absl:<keras.layers.recurrent.LSTMCell object at 0x7f7aec0d1640> has the same name 'LSTMCell' as a built-in Keras object. Consider renaming <class 'keras.layers.recurrent.LSTMCell'> to avoid naming conflicts when loading with `tf.keras.models.load_model`. If renaming is not possible, pass the object in the `custom_objects` parameter of the load function.\n"
     ]
    },
    {
     "output_type": "stream",
     "name": "stdout",
     "text": [
      "2227/2227 [==============================] - 58s 26ms/step - loss: 0.0035 - mse: 0.0035 - mean_absolute_percentage_error: 16.6448 - val_loss: 0.0129 - val_mse: 0.0129 - val_mean_absolute_percentage_error: 55.1636\n",
      "Epoch 8/20\n",
      "2227/2227 [==============================] - ETA: 0s - loss: 0.0044 - mse: 0.0044 - mean_absolute_percentage_error: 18.0780"
     ]
    },
    {
     "output_type": "stream",
     "name": "stderr",
     "text": [
      "WARNING:absl:Found untraced functions such as lstm_cell_layer_call_fn, lstm_cell_layer_call_and_return_conditional_losses, lstm_cell_1_layer_call_fn, lstm_cell_1_layer_call_and_return_conditional_losses, lstm_cell_2_layer_call_fn while saving (showing 5 of 15). These functions will not be directly callable after loading.\n"
     ]
    },
    {
     "output_type": "stream",
     "name": "stdout",
     "text": [
      "INFO:tensorflow:Assets written to: models/TANH2_wd-e20-b16-s48-fpp1-1645565455-e08-vmse0.02456-1645565525.model/assets\n"
     ]
    },
    {
     "output_type": "stream",
     "name": "stderr",
     "text": [
      "INFO:tensorflow:Assets written to: models/TANH2_wd-e20-b16-s48-fpp1-1645565455-e08-vmse0.02456-1645565525.model/assets\n",
      "WARNING:absl:<keras.layers.recurrent.LSTMCell object at 0x7f7ae2189430> has the same name 'LSTMCell' as a built-in Keras object. Consider renaming <class 'keras.layers.recurrent.LSTMCell'> to avoid naming conflicts when loading with `tf.keras.models.load_model`. If renaming is not possible, pass the object in the `custom_objects` parameter of the load function.\n",
      "WARNING:absl:<keras.layers.recurrent.LSTMCell object at 0x7f7aec19bca0> has the same name 'LSTMCell' as a built-in Keras object. Consider renaming <class 'keras.layers.recurrent.LSTMCell'> to avoid naming conflicts when loading with `tf.keras.models.load_model`. If renaming is not possible, pass the object in the `custom_objects` parameter of the load function.\n",
      "WARNING:absl:<keras.layers.recurrent.LSTMCell object at 0x7f7aec0d1640> has the same name 'LSTMCell' as a built-in Keras object. Consider renaming <class 'keras.layers.recurrent.LSTMCell'> to avoid naming conflicts when loading with `tf.keras.models.load_model`. If renaming is not possible, pass the object in the `custom_objects` parameter of the load function.\n"
     ]
    },
    {
     "output_type": "stream",
     "name": "stdout",
     "text": [
      "2227/2227 [==============================] - 58s 26ms/step - loss: 0.0044 - mse: 0.0044 - mean_absolute_percentage_error: 18.0780 - val_loss: 0.0246 - val_mse: 0.0246 - val_mean_absolute_percentage_error: 75.8397\n",
      "Epoch 9/20\n",
      "2226/2227 [============================>.] - ETA: 0s - loss: 0.0039 - mse: 0.0039 - mean_absolute_percentage_error: 16.4936"
     ]
    },
    {
     "output_type": "stream",
     "name": "stderr",
     "text": [
      "WARNING:absl:Found untraced functions such as lstm_cell_layer_call_fn, lstm_cell_layer_call_and_return_conditional_losses, lstm_cell_1_layer_call_fn, lstm_cell_1_layer_call_and_return_conditional_losses, lstm_cell_2_layer_call_fn while saving (showing 5 of 15). These functions will not be directly callable after loading.\n"
     ]
    },
    {
     "output_type": "stream",
     "name": "stdout",
     "text": [
      "INFO:tensorflow:Assets written to: models/TANH2_wd-e20-b16-s48-fpp1-1645565455-e09-vmse0.01797-1645565525.model/assets\n"
     ]
    },
    {
     "output_type": "stream",
     "name": "stderr",
     "text": [
      "INFO:tensorflow:Assets written to: models/TANH2_wd-e20-b16-s48-fpp1-1645565455-e09-vmse0.01797-1645565525.model/assets\n",
      "WARNING:absl:<keras.layers.recurrent.LSTMCell object at 0x7f7ae2189430> has the same name 'LSTMCell' as a built-in Keras object. Consider renaming <class 'keras.layers.recurrent.LSTMCell'> to avoid naming conflicts when loading with `tf.keras.models.load_model`. If renaming is not possible, pass the object in the `custom_objects` parameter of the load function.\n",
      "WARNING:absl:<keras.layers.recurrent.LSTMCell object at 0x7f7aec19bca0> has the same name 'LSTMCell' as a built-in Keras object. Consider renaming <class 'keras.layers.recurrent.LSTMCell'> to avoid naming conflicts when loading with `tf.keras.models.load_model`. If renaming is not possible, pass the object in the `custom_objects` parameter of the load function.\n",
      "WARNING:absl:<keras.layers.recurrent.LSTMCell object at 0x7f7aec0d1640> has the same name 'LSTMCell' as a built-in Keras object. Consider renaming <class 'keras.layers.recurrent.LSTMCell'> to avoid naming conflicts when loading with `tf.keras.models.load_model`. If renaming is not possible, pass the object in the `custom_objects` parameter of the load function.\n"
     ]
    },
    {
     "output_type": "stream",
     "name": "stdout",
     "text": [
      "2227/2227 [==============================] - 58s 26ms/step - loss: 0.0039 - mse: 0.0039 - mean_absolute_percentage_error: 16.4908 - val_loss: 0.0180 - val_mse: 0.0180 - val_mean_absolute_percentage_error: 54.1940\n",
      "Epoch 10/20\n",
      "2227/2227 [==============================] - ETA: 0s - loss: 0.0033 - mse: 0.0033 - mean_absolute_percentage_error: 15.8368"
     ]
    },
    {
     "output_type": "stream",
     "name": "stderr",
     "text": [
      "WARNING:absl:Found untraced functions such as lstm_cell_layer_call_fn, lstm_cell_layer_call_and_return_conditional_losses, lstm_cell_1_layer_call_fn, lstm_cell_1_layer_call_and_return_conditional_losses, lstm_cell_2_layer_call_fn while saving (showing 5 of 15). These functions will not be directly callable after loading.\n"
     ]
    },
    {
     "output_type": "stream",
     "name": "stdout",
     "text": [
      "INFO:tensorflow:Assets written to: models/TANH2_wd-e20-b16-s48-fpp1-1645565455-e10-vmse0.00252-1645565525.model/assets\n"
     ]
    },
    {
     "output_type": "stream",
     "name": "stderr",
     "text": [
      "INFO:tensorflow:Assets written to: models/TANH2_wd-e20-b16-s48-fpp1-1645565455-e10-vmse0.00252-1645565525.model/assets\n",
      "WARNING:absl:<keras.layers.recurrent.LSTMCell object at 0x7f7ae2189430> has the same name 'LSTMCell' as a built-in Keras object. Consider renaming <class 'keras.layers.recurrent.LSTMCell'> to avoid naming conflicts when loading with `tf.keras.models.load_model`. If renaming is not possible, pass the object in the `custom_objects` parameter of the load function.\n",
      "WARNING:absl:<keras.layers.recurrent.LSTMCell object at 0x7f7aec19bca0> has the same name 'LSTMCell' as a built-in Keras object. Consider renaming <class 'keras.layers.recurrent.LSTMCell'> to avoid naming conflicts when loading with `tf.keras.models.load_model`. If renaming is not possible, pass the object in the `custom_objects` parameter of the load function.\n",
      "WARNING:absl:<keras.layers.recurrent.LSTMCell object at 0x7f7aec0d1640> has the same name 'LSTMCell' as a built-in Keras object. Consider renaming <class 'keras.layers.recurrent.LSTMCell'> to avoid naming conflicts when loading with `tf.keras.models.load_model`. If renaming is not possible, pass the object in the `custom_objects` parameter of the load function.\n"
     ]
    },
    {
     "output_type": "stream",
     "name": "stdout",
     "text": [
      "2227/2227 [==============================] - 58s 26ms/step - loss: 0.0033 - mse: 0.0033 - mean_absolute_percentage_error: 15.8368 - val_loss: 0.0025 - val_mse: 0.0025 - val_mean_absolute_percentage_error: 27.9557\n",
      "Epoch 11/20\n",
      "2226/2227 [============================>.] - ETA: 0s - loss: 0.0033 - mse: 0.0033 - mean_absolute_percentage_error: 15.0840"
     ]
    },
    {
     "output_type": "stream",
     "name": "stderr",
     "text": [
      "WARNING:absl:Found untraced functions such as lstm_cell_layer_call_fn, lstm_cell_layer_call_and_return_conditional_losses, lstm_cell_1_layer_call_fn, lstm_cell_1_layer_call_and_return_conditional_losses, lstm_cell_2_layer_call_fn while saving (showing 5 of 15). These functions will not be directly callable after loading.\n"
     ]
    },
    {
     "output_type": "stream",
     "name": "stdout",
     "text": [
      "INFO:tensorflow:Assets written to: models/TANH2_wd-e20-b16-s48-fpp1-1645565455-e11-vmse0.02501-1645565525.model/assets\n"
     ]
    },
    {
     "output_type": "stream",
     "name": "stderr",
     "text": [
      "INFO:tensorflow:Assets written to: models/TANH2_wd-e20-b16-s48-fpp1-1645565455-e11-vmse0.02501-1645565525.model/assets\n",
      "WARNING:absl:<keras.layers.recurrent.LSTMCell object at 0x7f7ae2189430> has the same name 'LSTMCell' as a built-in Keras object. Consider renaming <class 'keras.layers.recurrent.LSTMCell'> to avoid naming conflicts when loading with `tf.keras.models.load_model`. If renaming is not possible, pass the object in the `custom_objects` parameter of the load function.\n",
      "WARNING:absl:<keras.layers.recurrent.LSTMCell object at 0x7f7aec19bca0> has the same name 'LSTMCell' as a built-in Keras object. Consider renaming <class 'keras.layers.recurrent.LSTMCell'> to avoid naming conflicts when loading with `tf.keras.models.load_model`. If renaming is not possible, pass the object in the `custom_objects` parameter of the load function.\n",
      "WARNING:absl:<keras.layers.recurrent.LSTMCell object at 0x7f7aec0d1640> has the same name 'LSTMCell' as a built-in Keras object. Consider renaming <class 'keras.layers.recurrent.LSTMCell'> to avoid naming conflicts when loading with `tf.keras.models.load_model`. If renaming is not possible, pass the object in the `custom_objects` parameter of the load function.\n"
     ]
    },
    {
     "output_type": "stream",
     "name": "stdout",
     "text": [
      "2227/2227 [==============================] - 61s 27ms/step - loss: 0.0033 - mse: 0.0033 - mean_absolute_percentage_error: 15.0828 - val_loss: 0.0250 - val_mse: 0.0250 - val_mean_absolute_percentage_error: 53.0014\n",
      "Epoch 12/20\n",
      "2225/2227 [============================>.] - ETA: 0s - loss: 0.0030 - mse: 0.0030 - mean_absolute_percentage_error: 12.7101"
     ]
    },
    {
     "output_type": "stream",
     "name": "stderr",
     "text": [
      "WARNING:absl:Found untraced functions such as lstm_cell_layer_call_fn, lstm_cell_layer_call_and_return_conditional_losses, lstm_cell_1_layer_call_fn, lstm_cell_1_layer_call_and_return_conditional_losses, lstm_cell_2_layer_call_fn while saving (showing 5 of 15). These functions will not be directly callable after loading.\n"
     ]
    },
    {
     "output_type": "stream",
     "name": "stdout",
     "text": [
      "INFO:tensorflow:Assets written to: models/TANH2_wd-e20-b16-s48-fpp1-1645565455-e12-vmse0.00404-1645565525.model/assets\n"
     ]
    },
    {
     "output_type": "stream",
     "name": "stderr",
     "text": [
      "INFO:tensorflow:Assets written to: models/TANH2_wd-e20-b16-s48-fpp1-1645565455-e12-vmse0.00404-1645565525.model/assets\n",
      "WARNING:absl:<keras.layers.recurrent.LSTMCell object at 0x7f7ae2189430> has the same name 'LSTMCell' as a built-in Keras object. Consider renaming <class 'keras.layers.recurrent.LSTMCell'> to avoid naming conflicts when loading with `tf.keras.models.load_model`. If renaming is not possible, pass the object in the `custom_objects` parameter of the load function.\n",
      "WARNING:absl:<keras.layers.recurrent.LSTMCell object at 0x7f7aec19bca0> has the same name 'LSTMCell' as a built-in Keras object. Consider renaming <class 'keras.layers.recurrent.LSTMCell'> to avoid naming conflicts when loading with `tf.keras.models.load_model`. If renaming is not possible, pass the object in the `custom_objects` parameter of the load function.\n",
      "WARNING:absl:<keras.layers.recurrent.LSTMCell object at 0x7f7aec0d1640> has the same name 'LSTMCell' as a built-in Keras object. Consider renaming <class 'keras.layers.recurrent.LSTMCell'> to avoid naming conflicts when loading with `tf.keras.models.load_model`. If renaming is not possible, pass the object in the `custom_objects` parameter of the load function.\n"
     ]
    },
    {
     "output_type": "stream",
     "name": "stdout",
     "text": [
      "2227/2227 [==============================] - 58s 26ms/step - loss: 0.0030 - mse: 0.0030 - mean_absolute_percentage_error: 12.7084 - val_loss: 0.0040 - val_mse: 0.0040 - val_mean_absolute_percentage_error: 30.4295\n",
      "Epoch 13/20\n",
      "2225/2227 [============================>.] - ETA: 0s - loss: 0.0029 - mse: 0.0029 - mean_absolute_percentage_error: 12.9712"
     ]
    },
    {
     "output_type": "stream",
     "name": "stderr",
     "text": [
      "WARNING:absl:Found untraced functions such as lstm_cell_layer_call_fn, lstm_cell_layer_call_and_return_conditional_losses, lstm_cell_1_layer_call_fn, lstm_cell_1_layer_call_and_return_conditional_losses, lstm_cell_2_layer_call_fn while saving (showing 5 of 15). These functions will not be directly callable after loading.\n"
     ]
    },
    {
     "output_type": "stream",
     "name": "stdout",
     "text": [
      "INFO:tensorflow:Assets written to: models/TANH2_wd-e20-b16-s48-fpp1-1645565455-e13-vmse0.00257-1645565525.model/assets\n"
     ]
    },
    {
     "output_type": "stream",
     "name": "stderr",
     "text": [
      "INFO:tensorflow:Assets written to: models/TANH2_wd-e20-b16-s48-fpp1-1645565455-e13-vmse0.00257-1645565525.model/assets\n",
      "WARNING:absl:<keras.layers.recurrent.LSTMCell object at 0x7f7ae2189430> has the same name 'LSTMCell' as a built-in Keras object. Consider renaming <class 'keras.layers.recurrent.LSTMCell'> to avoid naming conflicts when loading with `tf.keras.models.load_model`. If renaming is not possible, pass the object in the `custom_objects` parameter of the load function.\n",
      "WARNING:absl:<keras.layers.recurrent.LSTMCell object at 0x7f7aec19bca0> has the same name 'LSTMCell' as a built-in Keras object. Consider renaming <class 'keras.layers.recurrent.LSTMCell'> to avoid naming conflicts when loading with `tf.keras.models.load_model`. If renaming is not possible, pass the object in the `custom_objects` parameter of the load function.\n",
      "WARNING:absl:<keras.layers.recurrent.LSTMCell object at 0x7f7aec0d1640> has the same name 'LSTMCell' as a built-in Keras object. Consider renaming <class 'keras.layers.recurrent.LSTMCell'> to avoid naming conflicts when loading with `tf.keras.models.load_model`. If renaming is not possible, pass the object in the `custom_objects` parameter of the load function.\n"
     ]
    },
    {
     "output_type": "stream",
     "name": "stdout",
     "text": [
      "2227/2227 [==============================] - 58s 26ms/step - loss: 0.0029 - mse: 0.0029 - mean_absolute_percentage_error: 12.9741 - val_loss: 0.0026 - val_mse: 0.0026 - val_mean_absolute_percentage_error: 28.0723\n",
      "Epoch 14/20\n",
      "2227/2227 [==============================] - ETA: 0s - loss: 0.0028 - mse: 0.0028 - mean_absolute_percentage_error: 13.5359"
     ]
    },
    {
     "output_type": "stream",
     "name": "stderr",
     "text": [
      "WARNING:absl:Found untraced functions such as lstm_cell_layer_call_fn, lstm_cell_layer_call_and_return_conditional_losses, lstm_cell_1_layer_call_fn, lstm_cell_1_layer_call_and_return_conditional_losses, lstm_cell_2_layer_call_fn while saving (showing 5 of 15). These functions will not be directly callable after loading.\n"
     ]
    },
    {
     "output_type": "stream",
     "name": "stdout",
     "text": [
      "INFO:tensorflow:Assets written to: models/TANH2_wd-e20-b16-s48-fpp1-1645565455-e14-vmse0.01159-1645565525.model/assets\n"
     ]
    },
    {
     "output_type": "stream",
     "name": "stderr",
     "text": [
      "INFO:tensorflow:Assets written to: models/TANH2_wd-e20-b16-s48-fpp1-1645565455-e14-vmse0.01159-1645565525.model/assets\n",
      "WARNING:absl:<keras.layers.recurrent.LSTMCell object at 0x7f7ae2189430> has the same name 'LSTMCell' as a built-in Keras object. Consider renaming <class 'keras.layers.recurrent.LSTMCell'> to avoid naming conflicts when loading with `tf.keras.models.load_model`. If renaming is not possible, pass the object in the `custom_objects` parameter of the load function.\n",
      "WARNING:absl:<keras.layers.recurrent.LSTMCell object at 0x7f7aec19bca0> has the same name 'LSTMCell' as a built-in Keras object. Consider renaming <class 'keras.layers.recurrent.LSTMCell'> to avoid naming conflicts when loading with `tf.keras.models.load_model`. If renaming is not possible, pass the object in the `custom_objects` parameter of the load function.\n",
      "WARNING:absl:<keras.layers.recurrent.LSTMCell object at 0x7f7aec0d1640> has the same name 'LSTMCell' as a built-in Keras object. Consider renaming <class 'keras.layers.recurrent.LSTMCell'> to avoid naming conflicts when loading with `tf.keras.models.load_model`. If renaming is not possible, pass the object in the `custom_objects` parameter of the load function.\n"
     ]
    },
    {
     "output_type": "stream",
     "name": "stdout",
     "text": [
      "2227/2227 [==============================] - 58s 26ms/step - loss: 0.0028 - mse: 0.0028 - mean_absolute_percentage_error: 13.5359 - val_loss: 0.0116 - val_mse: 0.0116 - val_mean_absolute_percentage_error: 30.8500\n",
      "Epoch 15/20\n",
      "2225/2227 [============================>.] - ETA: 0s - loss: 0.0028 - mse: 0.0028 - mean_absolute_percentage_error: 13.4751"
     ]
    },
    {
     "output_type": "stream",
     "name": "stderr",
     "text": [
      "WARNING:absl:Found untraced functions such as lstm_cell_layer_call_fn, lstm_cell_layer_call_and_return_conditional_losses, lstm_cell_1_layer_call_fn, lstm_cell_1_layer_call_and_return_conditional_losses, lstm_cell_2_layer_call_fn while saving (showing 5 of 15). These functions will not be directly callable after loading.\n"
     ]
    },
    {
     "output_type": "stream",
     "name": "stdout",
     "text": [
      "INFO:tensorflow:Assets written to: models/TANH2_wd-e20-b16-s48-fpp1-1645565455-e15-vmse0.00104-1645565525.model/assets\n"
     ]
    },
    {
     "output_type": "stream",
     "name": "stderr",
     "text": [
      "INFO:tensorflow:Assets written to: models/TANH2_wd-e20-b16-s48-fpp1-1645565455-e15-vmse0.00104-1645565525.model/assets\n",
      "WARNING:absl:<keras.layers.recurrent.LSTMCell object at 0x7f7ae2189430> has the same name 'LSTMCell' as a built-in Keras object. Consider renaming <class 'keras.layers.recurrent.LSTMCell'> to avoid naming conflicts when loading with `tf.keras.models.load_model`. If renaming is not possible, pass the object in the `custom_objects` parameter of the load function.\n",
      "WARNING:absl:<keras.layers.recurrent.LSTMCell object at 0x7f7aec19bca0> has the same name 'LSTMCell' as a built-in Keras object. Consider renaming <class 'keras.layers.recurrent.LSTMCell'> to avoid naming conflicts when loading with `tf.keras.models.load_model`. If renaming is not possible, pass the object in the `custom_objects` parameter of the load function.\n",
      "WARNING:absl:<keras.layers.recurrent.LSTMCell object at 0x7f7aec0d1640> has the same name 'LSTMCell' as a built-in Keras object. Consider renaming <class 'keras.layers.recurrent.LSTMCell'> to avoid naming conflicts when loading with `tf.keras.models.load_model`. If renaming is not possible, pass the object in the `custom_objects` parameter of the load function.\n"
     ]
    },
    {
     "output_type": "stream",
     "name": "stdout",
     "text": [
      "2227/2227 [==============================] - 58s 26ms/step - loss: 0.0028 - mse: 0.0028 - mean_absolute_percentage_error: 13.4690 - val_loss: 0.0010 - val_mse: 0.0010 - val_mean_absolute_percentage_error: 25.2108\n",
      "Epoch 16/20\n",
      "2225/2227 [============================>.] - ETA: 0s - loss: 0.0026 - mse: 0.0026 - mean_absolute_percentage_error: 13.5521"
     ]
    },
    {
     "output_type": "stream",
     "name": "stderr",
     "text": [
      "WARNING:absl:Found untraced functions such as lstm_cell_layer_call_fn, lstm_cell_layer_call_and_return_conditional_losses, lstm_cell_1_layer_call_fn, lstm_cell_1_layer_call_and_return_conditional_losses, lstm_cell_2_layer_call_fn while saving (showing 5 of 15). These functions will not be directly callable after loading.\n"
     ]
    },
    {
     "output_type": "stream",
     "name": "stdout",
     "text": [
      "INFO:tensorflow:Assets written to: models/TANH2_wd-e20-b16-s48-fpp1-1645565455-e16-vmse0.00920-1645565525.model/assets\n"
     ]
    },
    {
     "output_type": "stream",
     "name": "stderr",
     "text": [
      "INFO:tensorflow:Assets written to: models/TANH2_wd-e20-b16-s48-fpp1-1645565455-e16-vmse0.00920-1645565525.model/assets\n",
      "WARNING:absl:<keras.layers.recurrent.LSTMCell object at 0x7f7ae2189430> has the same name 'LSTMCell' as a built-in Keras object. Consider renaming <class 'keras.layers.recurrent.LSTMCell'> to avoid naming conflicts when loading with `tf.keras.models.load_model`. If renaming is not possible, pass the object in the `custom_objects` parameter of the load function.\n",
      "WARNING:absl:<keras.layers.recurrent.LSTMCell object at 0x7f7aec19bca0> has the same name 'LSTMCell' as a built-in Keras object. Consider renaming <class 'keras.layers.recurrent.LSTMCell'> to avoid naming conflicts when loading with `tf.keras.models.load_model`. If renaming is not possible, pass the object in the `custom_objects` parameter of the load function.\n",
      "WARNING:absl:<keras.layers.recurrent.LSTMCell object at 0x7f7aec0d1640> has the same name 'LSTMCell' as a built-in Keras object. Consider renaming <class 'keras.layers.recurrent.LSTMCell'> to avoid naming conflicts when loading with `tf.keras.models.load_model`. If renaming is not possible, pass the object in the `custom_objects` parameter of the load function.\n"
     ]
    },
    {
     "output_type": "stream",
     "name": "stdout",
     "text": [
      "2227/2227 [==============================] - 58s 26ms/step - loss: 0.0026 - mse: 0.0026 - mean_absolute_percentage_error: 13.5456 - val_loss: 0.0092 - val_mse: 0.0092 - val_mean_absolute_percentage_error: 19.1597\n",
      "Epoch 17/20\n",
      "2225/2227 [============================>.] - ETA: 0s - loss: 0.0026 - mse: 0.0026 - mean_absolute_percentage_error: 12.7045"
     ]
    },
    {
     "output_type": "stream",
     "name": "stderr",
     "text": [
      "WARNING:absl:Found untraced functions such as lstm_cell_layer_call_fn, lstm_cell_layer_call_and_return_conditional_losses, lstm_cell_1_layer_call_fn, lstm_cell_1_layer_call_and_return_conditional_losses, lstm_cell_2_layer_call_fn while saving (showing 5 of 15). These functions will not be directly callable after loading.\n"
     ]
    },
    {
     "output_type": "stream",
     "name": "stdout",
     "text": [
      "INFO:tensorflow:Assets written to: models/TANH2_wd-e20-b16-s48-fpp1-1645565455-e17-vmse0.01394-1645565525.model/assets\n"
     ]
    },
    {
     "output_type": "stream",
     "name": "stderr",
     "text": [
      "INFO:tensorflow:Assets written to: models/TANH2_wd-e20-b16-s48-fpp1-1645565455-e17-vmse0.01394-1645565525.model/assets\n",
      "WARNING:absl:<keras.layers.recurrent.LSTMCell object at 0x7f7ae2189430> has the same name 'LSTMCell' as a built-in Keras object. Consider renaming <class 'keras.layers.recurrent.LSTMCell'> to avoid naming conflicts when loading with `tf.keras.models.load_model`. If renaming is not possible, pass the object in the `custom_objects` parameter of the load function.\n",
      "WARNING:absl:<keras.layers.recurrent.LSTMCell object at 0x7f7aec19bca0> has the same name 'LSTMCell' as a built-in Keras object. Consider renaming <class 'keras.layers.recurrent.LSTMCell'> to avoid naming conflicts when loading with `tf.keras.models.load_model`. If renaming is not possible, pass the object in the `custom_objects` parameter of the load function.\n",
      "WARNING:absl:<keras.layers.recurrent.LSTMCell object at 0x7f7aec0d1640> has the same name 'LSTMCell' as a built-in Keras object. Consider renaming <class 'keras.layers.recurrent.LSTMCell'> to avoid naming conflicts when loading with `tf.keras.models.load_model`. If renaming is not possible, pass the object in the `custom_objects` parameter of the load function.\n"
     ]
    },
    {
     "output_type": "stream",
     "name": "stdout",
     "text": [
      "2227/2227 [==============================] - 58s 26ms/step - loss: 0.0026 - mse: 0.0026 - mean_absolute_percentage_error: 12.7060 - val_loss: 0.0139 - val_mse: 0.0139 - val_mean_absolute_percentage_error: 32.8271\n",
      "Epoch 18/20\n",
      "2227/2227 [==============================] - ETA: 0s - loss: 0.0026 - mse: 0.0026 - mean_absolute_percentage_error: 11.8748"
     ]
    },
    {
     "output_type": "stream",
     "name": "stderr",
     "text": [
      "WARNING:absl:Found untraced functions such as lstm_cell_layer_call_fn, lstm_cell_layer_call_and_return_conditional_losses, lstm_cell_1_layer_call_fn, lstm_cell_1_layer_call_and_return_conditional_losses, lstm_cell_2_layer_call_fn while saving (showing 5 of 15). These functions will not be directly callable after loading.\n"
     ]
    },
    {
     "output_type": "stream",
     "name": "stdout",
     "text": [
      "INFO:tensorflow:Assets written to: models/TANH2_wd-e20-b16-s48-fpp1-1645565455-e18-vmse0.00729-1645565525.model/assets\n"
     ]
    },
    {
     "output_type": "stream",
     "name": "stderr",
     "text": [
      "INFO:tensorflow:Assets written to: models/TANH2_wd-e20-b16-s48-fpp1-1645565455-e18-vmse0.00729-1645565525.model/assets\n",
      "WARNING:absl:<keras.layers.recurrent.LSTMCell object at 0x7f7ae2189430> has the same name 'LSTMCell' as a built-in Keras object. Consider renaming <class 'keras.layers.recurrent.LSTMCell'> to avoid naming conflicts when loading with `tf.keras.models.load_model`. If renaming is not possible, pass the object in the `custom_objects` parameter of the load function.\n",
      "WARNING:absl:<keras.layers.recurrent.LSTMCell object at 0x7f7aec19bca0> has the same name 'LSTMCell' as a built-in Keras object. Consider renaming <class 'keras.layers.recurrent.LSTMCell'> to avoid naming conflicts when loading with `tf.keras.models.load_model`. If renaming is not possible, pass the object in the `custom_objects` parameter of the load function.\n",
      "WARNING:absl:<keras.layers.recurrent.LSTMCell object at 0x7f7aec0d1640> has the same name 'LSTMCell' as a built-in Keras object. Consider renaming <class 'keras.layers.recurrent.LSTMCell'> to avoid naming conflicts when loading with `tf.keras.models.load_model`. If renaming is not possible, pass the object in the `custom_objects` parameter of the load function.\n"
     ]
    },
    {
     "output_type": "stream",
     "name": "stdout",
     "text": [
      "2227/2227 [==============================] - 58s 26ms/step - loss: 0.0026 - mse: 0.0026 - mean_absolute_percentage_error: 11.8748 - val_loss: 0.0073 - val_mse: 0.0073 - val_mean_absolute_percentage_error: 38.1187\n",
      "Epoch 19/20\n",
      "2225/2227 [============================>.] - ETA: 0s - loss: 0.0025 - mse: 0.0025 - mean_absolute_percentage_error: 11.0903"
     ]
    },
    {
     "output_type": "stream",
     "name": "stderr",
     "text": [
      "WARNING:absl:Found untraced functions such as lstm_cell_layer_call_fn, lstm_cell_layer_call_and_return_conditional_losses, lstm_cell_1_layer_call_fn, lstm_cell_1_layer_call_and_return_conditional_losses, lstm_cell_2_layer_call_fn while saving (showing 5 of 15). These functions will not be directly callable after loading.\n"
     ]
    },
    {
     "output_type": "stream",
     "name": "stdout",
     "text": [
      "INFO:tensorflow:Assets written to: models/TANH2_wd-e20-b16-s48-fpp1-1645565455-e19-vmse0.00192-1645565525.model/assets\n"
     ]
    },
    {
     "output_type": "stream",
     "name": "stderr",
     "text": [
      "INFO:tensorflow:Assets written to: models/TANH2_wd-e20-b16-s48-fpp1-1645565455-e19-vmse0.00192-1645565525.model/assets\n",
      "WARNING:absl:<keras.layers.recurrent.LSTMCell object at 0x7f7ae2189430> has the same name 'LSTMCell' as a built-in Keras object. Consider renaming <class 'keras.layers.recurrent.LSTMCell'> to avoid naming conflicts when loading with `tf.keras.models.load_model`. If renaming is not possible, pass the object in the `custom_objects` parameter of the load function.\n",
      "WARNING:absl:<keras.layers.recurrent.LSTMCell object at 0x7f7aec19bca0> has the same name 'LSTMCell' as a built-in Keras object. Consider renaming <class 'keras.layers.recurrent.LSTMCell'> to avoid naming conflicts when loading with `tf.keras.models.load_model`. If renaming is not possible, pass the object in the `custom_objects` parameter of the load function.\n",
      "WARNING:absl:<keras.layers.recurrent.LSTMCell object at 0x7f7aec0d1640> has the same name 'LSTMCell' as a built-in Keras object. Consider renaming <class 'keras.layers.recurrent.LSTMCell'> to avoid naming conflicts when loading with `tf.keras.models.load_model`. If renaming is not possible, pass the object in the `custom_objects` parameter of the load function.\n"
     ]
    },
    {
     "output_type": "stream",
     "name": "stdout",
     "text": [
      "2227/2227 [==============================] - 58s 26ms/step - loss: 0.0025 - mse: 0.0025 - mean_absolute_percentage_error: 11.0870 - val_loss: 0.0019 - val_mse: 0.0019 - val_mean_absolute_percentage_error: 27.1396\n",
      "Epoch 20/20\n",
      "2226/2227 [============================>.] - ETA: 0s - loss: 0.0025 - mse: 0.0025 - mean_absolute_percentage_error: 12.1250"
     ]
    },
    {
     "output_type": "stream",
     "name": "stderr",
     "text": [
      "WARNING:absl:Found untraced functions such as lstm_cell_layer_call_fn, lstm_cell_layer_call_and_return_conditional_losses, lstm_cell_1_layer_call_fn, lstm_cell_1_layer_call_and_return_conditional_losses, lstm_cell_2_layer_call_fn while saving (showing 5 of 15). These functions will not be directly callable after loading.\n"
     ]
    },
    {
     "output_type": "stream",
     "name": "stdout",
     "text": [
      "INFO:tensorflow:Assets written to: models/TANH2_wd-e20-b16-s48-fpp1-1645565455-e20-vmse0.00168-1645565525.model/assets\n"
     ]
    },
    {
     "output_type": "stream",
     "name": "stderr",
     "text": [
      "INFO:tensorflow:Assets written to: models/TANH2_wd-e20-b16-s48-fpp1-1645565455-e20-vmse0.00168-1645565525.model/assets\n",
      "WARNING:absl:<keras.layers.recurrent.LSTMCell object at 0x7f7ae2189430> has the same name 'LSTMCell' as a built-in Keras object. Consider renaming <class 'keras.layers.recurrent.LSTMCell'> to avoid naming conflicts when loading with `tf.keras.models.load_model`. If renaming is not possible, pass the object in the `custom_objects` parameter of the load function.\n",
      "WARNING:absl:<keras.layers.recurrent.LSTMCell object at 0x7f7aec19bca0> has the same name 'LSTMCell' as a built-in Keras object. Consider renaming <class 'keras.layers.recurrent.LSTMCell'> to avoid naming conflicts when loading with `tf.keras.models.load_model`. If renaming is not possible, pass the object in the `custom_objects` parameter of the load function.\n",
      "WARNING:absl:<keras.layers.recurrent.LSTMCell object at 0x7f7aec0d1640> has the same name 'LSTMCell' as a built-in Keras object. Consider renaming <class 'keras.layers.recurrent.LSTMCell'> to avoid naming conflicts when loading with `tf.keras.models.load_model`. If renaming is not possible, pass the object in the `custom_objects` parameter of the load function.\n"
     ]
    },
    {
     "output_type": "stream",
     "name": "stdout",
     "text": [
      "2227/2227 [==============================] - 58s 26ms/step - loss: 0.0025 - mse: 0.0025 - mean_absolute_percentage_error: 12.1364 - val_loss: 0.0017 - val_mse: 0.0017 - val_mean_absolute_percentage_error: 36.8181\n"
     ]
    }
   ],
   "metadata": {}
  },
  {
   "cell_type": "code",
   "execution_count": 11,
   "source": [
    "from pushbullet import Pushbullet\n",
    "pb = Pushbullet(\"o.nyntgspLep97yl0oPDbp0nAbMIDUGiO5\")\n",
    "push = pb.push_note(f\"{time.asctime()}\", \"ML Training Done\")"
   ],
   "outputs": [],
   "metadata": {}
  }
 ],
 "metadata": {
  "orig_nbformat": 4,
  "kernelspec": {
   "name": "python3",
   "display_name": "Python 3.9.7 64-bit ('tf': conda)"
  },
  "interpreter": {
   "hash": "03ca22c6d6d40835e149a115b42423f5eef12d1ffe1b81219c8386ff45d860ad"
  },
  "language_info": {
   "name": "python",
   "version": "3.9.7",
   "mimetype": "text/x-python",
   "codemirror_mode": {
    "name": "ipython",
    "version": 3
   },
   "pygments_lexer": "ipython3",
   "nbconvert_exporter": "python",
   "file_extension": ".py"
  }
 },
 "nbformat": 4,
 "nbformat_minor": 2
}