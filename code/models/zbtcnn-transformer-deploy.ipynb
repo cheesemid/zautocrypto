{
  "cells": [
    {
      "cell_type": "code",
      "execution_count": 1,
      "source": [
        "!source /etc/profile\n",
        "\n",
        "import os\n",
        "import sys\n",
        "import random\n",
        "import time\n",
        "from collections import deque\n",
        "import pandas as pd\n",
        "import numpy as np\n",
        "import tensorflow as tf\n",
        "from sklearn import preprocessing\n",
        "from tensorflow import keras\n",
        "from tensorflow.keras import layers\n",
        "from tensorflow.keras.models import Sequential\n",
        "from tensorflow.keras.layers import Dense, Dropout, LSTM, BatchNormalization, Activation, Flatten, MaxPooling2D, Conv2D\n",
        "from tensorflow.keras.callbacks import ModelCheckpoint, TensorBoard\n",
        "from tensorflow.keras import optimizers\n",
        "from tensorflow.keras import utils\n",
        "import keras_tuner as kt\n",
        "import joblib\n",
        "\n",
        "# CD to top level git directory\n",
        "if \".git\" not in os.listdir(\".\"):\n",
        "    os.chdir(\"../../\")\n",
        "\n",
        "# Check GPU\n",
        "print(\"Num GPUs Available: \", len(tf.config.list_physical_devices('GPU')))\n",
        "# tf.config.list_physical_devices()"
      ],
      "outputs": [],
      "metadata": {
        "id": "ffhd5Sy__sCZ"
      }
    },
    {
      "cell_type": "code",
      "execution_count": 2,
      "source": [
        "import gzip\n",
        "compressed_bstr = b\"\\x1f\\x8b\\x08\\x00\\xdf\\xd7\\x7e\\x62\\x02\\xff\\xa5\\x55\\x4b\\x8f\\xdb\\x20\\x10\\x3e\\x67\\x7f\\x05\\xe5\\x04\\x92\\x13\\xed\\xa3\\x2f\\x45\\xbb\\xab\\x5e\\xaa\\xaa\\x97\\x6a\\x2f\\x3d\\x59\\x16\\x22\\x06\\xa7\\x53\\x61\\xec\\x00\\xde\\xcd\\xb6\\xea\\x7f\\xef\\x80\\x13\\x39\\x91\\x9d\\x55\\xba\\xbd\\xd8\\x30\\x7c\\xf3\\xcd\\x83\\x99\\x01\\xea\\xb6\\x71\\x81\\xf8\\x6e\\xd5\\xba\\xa6\\xd4\\xde\\x13\\xe9\\x89\\x6f\\x2f\\x4a\\x23\\x71\\xfd\\xe5\\xe1\\xfb\\xf2\\x62\\xa6\\x74\\x45\\x84\\x00\\x0b\\x41\\x08\\xe6\\xb5\\xa9\\x38\\x0a\\x67\\x71\\xb1\\x10\\x42\\xc9\\x20\\x85\\x20\\x77\\xe4\\x5b\\x63\\xf5\\x1e\\xbb\\xd6\\xa1\\x97\\x0f\\x70\\xa7\\x43\\xe7\\x2c\\x52\\x2f\\x5c\\x67\\x19\\xa3\\xf6\\x11\\x14\\xc8\\xb9\\xaf\\x81\\x66\\x84\\xce\\x37\\xe9\\xbb\\xa5\\x3c\\x23\\x3e\\xa8\\xa6\\x0b\\x77\\x88\\x7c\\xf8\\xfa\\xf0\\x99\\x2f\\xfa\\xfd\\x42\\xe9\\xb2\\x51\\x9a\\xd1\\x2e\\x54\\xf3\\x8f\\x14\\xc5\\xad\\x81\\x60\\xc0\\x6a\\xcf\\xf8\\xe0\\x63\\x14\\x08\\x0c\\xa5\\xd5\\x2e\\x3c\\xef\\xec\\x67\\x44\\x85\\xe7\\x56\\x67\\xa4\\xb5\\xb2\\xd6\\xc9\\x1b\\xa8\\xc8\\x91\\xff\\x51\\x36\\x8b\\x4b\\x0c\\xe4\\xe8\\x00\\xe5\\xda\\x78\\x3d\\x71\\x3e\\xc4\\xc8\\x87\\xf0\\x72\\x96\\x4c\\x31\\xe8\\xdd\\x63\\xf4\\x9e\\xf2\\xfc\\xaa\\xd8\\xef\\x6e\\x71\\x77\\xb9\\xdf\\xc5\\x25\\xcf\\xce\\x43\\xce\\xaf\\x0a\\x4e\\xaa\\xc6\\x11\\x20\\x60\\x49\\x72\\x04\\x43\\x48\\xf1\\x44\\x01\\x14\\x08\\xbe\\x98\\x7d\\xda\\x07\\xde\\xe7\\x23\\x9e\\x8e\\x2e\\x20\\x7f\\xd1\\xe0\\x60\\x63\\x1c\\x65\\xb4\\x48\\x6f\\xd1\\x84\\xea\\xca\\x20\\x22\\xf9\\x3d\\x3d\\x6d\\xbc\\xd6\\xf5\\x60\\xfb\\xa5\\xcc\\x85\\x26\\x48\\x93\\x91\\xce\\x6b\\x95\\x91\\xca\\x69\\x8d\\xc0\\x9c\\x81\\x0d\\x2c\\x82\\x72\\x28\\xce\\x4e\\xe5\\xbf\\xe0\\x8f\\xf2\\xe9\\xa4\\x5d\\x6b\\x66\\xb4\\x4d\\x26\\xf9\\x2e\\xd2\\x6a\\x25\\x30\\x88\\xc6\\x3d\\x8b\\xce\\xcb\\xf5\\x2e\\xd8\\xde\\x06\\x5e\\x07\\x41\\xe5\\x97\\x31\\xd7\\x67\\x60\\x6e\\x8a\\xa2\\xbf\\x1a\\x0c\\x3a\\x15\\x0e\\xc5\\x3e\\x60\\xcd\\xea\\xa7\\x2e\\x43\\x86\\xbd\\xf0\\x9b\\xa6\\x74\\x41\\xd0\\xb5\\x10\\x74\\x49\\x8c\\xac\\x57\\x4a\\x12\\x9f\\xc1\\x12\\x93\\x34\\x4a\\x1d\\xcf\\x73\\x9a\\x84\\xb1\\x9b\\xa2\\x38\\xfe\\xe3\\x01\\x2d\\x16\\x60\\x95\\xde\\xb2\\x0d\\x2f\\x62\\x74\\xe0\\xc1\\xfa\\x20\\x6d\\xa9\\xd9\\x26\\x76\\x9c\\xe3\\x24\\x96\\x39\\x99\\xa2\\xdc\\xf4\\x55\\xb1\\x89\\x6e\\x63\\x7a\\xe3\\x6d\\x23\\xab\\x10\\x4e\\xb7\\xee\\xc8\\xa9\\xe5\\x94\\xfa\\x62\\x0f\\x64\\xfc\\x0f\\x3f\\x6c\\x15\\xfc\\x8d\\x8a\\x26\\x25\\x68\\x3c\\x33\\xfa\\xb2\\x19\\x37\\x37\\x16\\x09\\x7a\\x72\\xbb\\x6e\\x3b\\xd1\\x05\\x30\\x78\\xe1\\x23\\x46\\x4c\\x5c\\xfb\\x2a\\xc2\\xa8\\x38\\x45\\xd8\\x36\\x4f\\xda\\x9d\\xcf\\x58\\x99\\x46\\x26\\xce\\xa4\\x27\\x94\\x93\\x4f\\x53\\xac\\xb5\\xdc\\xfe\\x1f\\xb1\\x81\\x1a\\xc2\\x14\\x73\\xd9\\x29\\x29\\x1e\\xb5\\xf3\\xd0\\xd8\\xf3\\xd9\\xb1\\x22\\x22\\xf7\\xa1\\xf2\\x7d\\x6a\\xa0\\x11\\xbf\\x72\\x80\\x80\\x57\\x5b\\x38\\x56\\x3f\\x61\\x43\\x1a\\x73\\xfa\\xdd\\x99\\x1c\\x2a\\x32\\x04\\xe7\\xe3\\x20\\xd9\\xa6\\xda\\xdd\\xa6\\x96\\x83\\x5d\\x7a\\x63\\x03\\xd8\\x26\\x90\\x2d\\x3e\\x2d\\xd2\\x05\\xff\\x04\\xe1\\x07\\xc3\\x82\\xa6\\x9c\\x48\\xab\\x10\\xfc\\xe6\\x8e\\x50\\xb4\\x49\\x8b\\x43\\xa6\\xb4\\xc8\\xe3\\x5c\\x02\\x7e\\x30\\x27\\xe9\\xdb\\x9b\\x0f\\xef\\xdf\\x5d\\x5f\\x5e\\xd1\\xa1\\x93\\x15\\x94\\x81\\xfd\\x82\\x96\\x25\\x9d\\x8c\\xe4\\x83\\x8f\\x51\\x02\\xab\\x2e\\x68\\x74\\x54\\xf6\\x23\\x48\\x46\\x9a\\x84\\x2c\\x38\\x3f\\xf9\\xb0\\x1e\\xb6\\x0d\\xd6\\x27\\xca\\xf1\\x71\\x66\\xfc\\x2f\\x17\\xd9\\x71\\x54\\xc0\\x07\\x00\\x00\"\n",
        "exec(gzip.decompress(compressed_bstr))\n",
        "\n",
        "gpu.name"
      ],
      "outputs": [
        {
          "output_type": "execute_result",
          "data": {
            "text/plain": [
              "'Tesla T4'"
            ]
          },
          "metadata": {},
          "execution_count": 2
        }
      ],
      "metadata": {
        "colab": {
          "base_uri": "https://localhost:8080/",
          "height": 35
        },
        "id": "fjnW-h2Fhstg",
        "outputId": "e65d9403-a049-4bb5-99a6-a1578456f33f"
      }
    },
    {
      "cell_type": "code",
      "execution_count": 3,
      "source": [
        "# Data parameters\n",
        "SEQ_LEN = 48 #hours\n",
        "FUTURE_PERIOD_PREDICT = 1 #hours\n",
        "\n",
        "# Hyperparameter Optimizer parameters\n",
        "MAX_TRIALS = 100 # 10t x 20e ~ 4h\n",
        "\n",
        "# Model parameters\n",
        "EPOCHS = 20\n",
        "BATCH_SIZE = 16\n",
        "\n",
        "NAME = \"TRANSFORMER-01\""
      ],
      "outputs": [],
      "metadata": {
        "id": "C4kS-9a0AMqP"
      }
    },
    {
      "cell_type": "code",
      "execution_count": 12,
      "source": [
        "def transformer_encoder(inputs, head_size, num_heads, ff_dim, dropout=0):\n",
        "    # Normalization and Attention\n",
        "    x = layers.LayerNormalization(epsilon=1e-6)(inputs)\n",
        "    x = layers.MultiHeadAttention(\n",
        "        key_dim=head_size, num_heads=num_heads, dropout=dropout\n",
        "    )(x, x)\n",
        "    x = layers.Dropout(dropout)(x)\n",
        "    res = x + inputs\n",
        "\n",
        "    # Feed Forward Part\n",
        "    x = layers.LayerNormalization(epsilon=1e-6)(res)\n",
        "    x = layers.Conv1D(filters=ff_dim, kernel_size=1, activation=\"relu\")(x)\n",
        "    x = layers.Dropout(dropout)(x)\n",
        "    x = layers.Conv1D(filters=inputs.shape[-1], kernel_size=1)(x)\n",
        "    return x + res\n"
      ],
      "outputs": [],
      "metadata": {
        "id": "8YANfU7pxVC1"
      }
    },
    {
      "cell_type": "code",
      "execution_count": 13,
      "source": [
        "def build_model(\n",
        "    input_shape,\n",
        "    head_size,\n",
        "    num_heads,\n",
        "    ff_dim,\n",
        "    num_transformer_blocks,\n",
        "    mlp_units,\n",
        "    dropout=0,\n",
        "    mlp_dropout=0,\n",
        "):\n",
        "    inputs = keras.Input(shape=input_shape)\n",
        "    x = inputs\n",
        "    for _ in range(num_transformer_blocks):\n",
        "        x = transformer_encoder(x, head_size, num_heads, ff_dim, dropout)\n",
        "\n",
        "    x = layers.GlobalAveragePooling1D(data_format=\"channels_first\")(x)\n",
        "    for dim in mlp_units:\n",
        "        x = layers.Dense(dim, activation=\"relu\")(x)\n",
        "        x = layers.Dropout(mlp_dropout)(x)\n",
        "    outputs = layers.Dense(1, activation=\"linear\")(x)\n",
        "    return keras.Model(inputs, outputs)\n"
      ],
      "outputs": [],
      "metadata": {
        "id": "ESwuo-QhxVC3"
      }
    },
    {
      "cell_type": "code",
      "execution_count": 17,
      "source": [
        "def build_model_hp(hp):\n",
        "    kwargs = {\n",
        "        \"input_shape\": train_x.shape[1:],\n",
        "        \"head_size\": hp.Int(\"head_size\", min_value=32, max_value=1024, step=32),\n",
        "        \"num_heads\": hp.Int(\"num_heads\", min_value=2, max_value=10, step=1),\n",
        "        \"ff_dim\": 4,\n",
        "        \"num_transformer_blocks\": hp.Int(\"num_transformer_blocks\", min_value=2, max_value=10, step=1),\n",
        "        \"mlp_units\": [hp.Int(f\"mlp_units_{i}\", min_value=32, max_value=512, step=32) for i in range(hp.Int(\"mlp_count\", min_value=1, max_value=4, step=1))],\n",
        "        \"mlp_dropout\": hp.Float(\"mlp_dropout\", min_value=0.1, max_value=0.7, step=0.1),\n",
        "        \"dropout\": hp.Float(\"dropout\", min_value=0.1, max_value=0.5, step=0.1),\n",
        "    }\n",
        "\n",
        "    model = build_model(**kwargs)\n",
        "\n",
        "    model.compile(\n",
        "        loss=\"mape\",\n",
        "        optimizer=keras.optimizers.Adam(learning_rate=hp.Choice(\"learning_rate\", values=[.001, .0001, .00001, .000001])),\n",
        "        metrics=[\"mse\"],\n",
        "    )\n",
        "\n",
        "    return model"
      ],
      "outputs": [],
      "metadata": {
        "id": "RXcHrXa6PnMk"
      }
    },
    {
      "cell_type": "code",
      "execution_count": null,
      "source": [
        "## Load Data\n",
        "\n",
        "train_x = joblib.load(\"data/pickle/train_x.dump\")\n",
        "train_y = joblib.load(\"data/pickle/train_y.dump\")\n",
        "validation_x = joblib.load(\"data/pickle/validation_x.dump\")\n",
        "validation_y = joblib.load(\"data/pickle/validation_y.dump\")"
      ],
      "outputs": [],
      "metadata": {}
    },
    {
      "cell_type": "code",
      "execution_count": 18,
      "source": [
        "# Initialize Tuner\n",
        "\n",
        "tuner = kt.BayesianOptimization(\n",
        "                    max_trials=MAX_TRIALS,\n",
        "                    hypermodel=build_model_hp,\n",
        "                    objective=\"val_loss\",\n",
        "                    overwrite=False,\n",
        "                    directory=f\"tuners/{NAME}\",\n",
        "                    project_name=f\"{NAME}\",)\n",
        "\n",
        "tuner.search_space_summary(extended=True)\n",
        "\n",
        "callbacks = [keras.callbacks.EarlyStopping(patience=50, restore_best_weights=True)]"
      ],
      "outputs": [
        {
          "output_type": "stream",
          "name": "stdout",
          "text": [
            "INFO:tensorflow:Reloading Oracle from existing project tuners/TRANSFORMER-01/TRANSFORMER-01/oracle.json\n",
            "Search space summary\n",
            "Default search space size: 8\n",
            "head_size (Int)\n",
            "{'default': None, 'conditions': [], 'min_value': 32, 'max_value': 1024, 'step': 32, 'sampling': None}\n",
            "num_heads (Int)\n",
            "{'default': None, 'conditions': [], 'min_value': 2, 'max_value': 10, 'step': 1, 'sampling': None}\n",
            "num_transformer_blocks (Int)\n",
            "{'default': None, 'conditions': [], 'min_value': 2, 'max_value': 10, 'step': 1, 'sampling': None}\n",
            "mlp_count (Int)\n",
            "{'default': None, 'conditions': [], 'min_value': 1, 'max_value': 4, 'step': 1, 'sampling': None}\n",
            "mlp_units_0 (Int)\n",
            "{'default': None, 'conditions': [], 'min_value': 32, 'max_value': 512, 'step': 32, 'sampling': None}\n",
            "mlp_dropout (Float)\n",
            "{'default': 0.1, 'conditions': [], 'min_value': 0.1, 'max_value': 0.7, 'step': 0.1, 'sampling': None}\n",
            "dropout (Float)\n",
            "{'default': 0.1, 'conditions': [], 'min_value': 0.1, 'max_value': 0.5, 'step': 0.1, 'sampling': None}\n",
            "learning_rate (Choice)\n",
            "{'default': 0.001, 'conditions': [], 'values': [0.001, 0.0001, 1e-05, 1e-06], 'ordered': True}\n"
          ]
        }
      ],
      "metadata": {
        "colab": {
          "base_uri": "https://localhost:8080/"
        },
        "id": "Q4IJPJjcSWP_",
        "outputId": "436d4916-7b7e-4add-eb9c-b1185cba3621"
      }
    },
    {
      "cell_type": "code",
      "execution_count": 19,
      "source": [
        "with tf.device(\"/device:GPU:0\"):\n",
        "    tuner.search(train_x, train_y, \n",
        "                epochs=EPOCHS,\n",
        "                batch_size=BATCH_SIZE,\n",
        "                callbacks=callbacks,\n",
        "                validation_data=(validation_x, validation_y))"
      ],
      "outputs": [
        {
          "output_type": "stream",
          "name": "stdout",
          "text": [
            "Trial 19 Complete [00h 06m 25s]\n",
            "val_loss: 15.317131042480469\n",
            "\n",
            "Best val_loss So Far: 13.198877334594727\n",
            "Total elapsed time: 03h 42m 30s\n",
            "\n",
            "Search: Running Trial #20\n",
            "\n",
            "Hyperparameter    |Value             |Best Value So Far \n",
            "head_size         |32                |32                \n",
            "num_heads         |2                 |2                 \n",
            "num_transformer...|10                |2                 \n",
            "mlp_count         |1                 |1                 \n",
            "mlp_units_0       |32                |96                \n",
            "mlp_dropout       |0.7               |0.1               \n",
            "dropout           |0.1               |0.1               \n",
            "learning_rate     |0.001             |0.001             \n",
            "mlp_units_1       |512               |32                \n",
            "mlp_units_2       |128               |None              \n",
            "mlp_units_3       |32                |None              \n",
            "\n",
            "Epoch 1/20\n",
            "2227/2227 [==============================] - 75s 30ms/step - loss: 84.3620 - mse: 0.3000 - val_loss: 90.8641 - val_mse: 0.1080\n",
            "Epoch 2/20\n",
            "2227/2227 [==============================] - 68s 31ms/step - loss: 84.3913 - mse: 0.3901 - val_loss: 140.3789 - val_mse: 0.1564\n",
            "Epoch 3/20\n",
            "2227/2227 [==============================] - 67s 30ms/step - loss: 98.5105 - mse: 0.5241 - val_loss: 142.7979 - val_mse: 0.1580\n",
            "Epoch 4/20\n",
            "2227/2227 [==============================] - 65s 29ms/step - loss: 98.6525 - mse: 0.5396 - val_loss: 146.8477 - val_mse: 0.1608\n",
            "Epoch 5/20\n",
            "2227/2227 [==============================] - 64s 29ms/step - loss: 97.1679 - mse: 0.5101 - val_loss: 155.7575 - val_mse: 0.1669\n",
            "Epoch 6/20\n",
            "2227/2227 [==============================] - 64s 29ms/step - loss: 98.6257 - mse: 0.5341 - val_loss: 156.9823 - val_mse: 0.1678\n",
            "Epoch 7/20\n",
            "2227/2227 [==============================] - 67s 30ms/step - loss: 98.7812 - mse: 0.5275 - val_loss: 151.0321 - val_mse: 0.1636\n",
            "Epoch 8/20\n",
            " 519/2227 [=====>........................] - ETA: 55s - loss: 97.2226 - mse: 0.5202"
          ]
        },
        {
          "output_type": "error",
          "ename": "KeyboardInterrupt",
          "evalue": "",
          "traceback": [
            "\u001b[0;31m---------------------------------------------------------------------------\u001b[0m",
            "\u001b[0;31mKeyboardInterrupt\u001b[0m                         Traceback (most recent call last)",
            "\u001b[0;32m/tmp/ipykernel_5968/3815191364.py\u001b[0m in \u001b[0;36m<module>\u001b[0;34m\u001b[0m\n\u001b[1;32m      1\u001b[0m \u001b[0;32mwith\u001b[0m \u001b[0mtf\u001b[0m\u001b[0;34m.\u001b[0m\u001b[0mdevice\u001b[0m\u001b[0;34m(\u001b[0m\u001b[0;34m\"/device:GPU:0\"\u001b[0m\u001b[0;34m)\u001b[0m\u001b[0;34m:\u001b[0m\u001b[0;34m\u001b[0m\u001b[0;34m\u001b[0m\u001b[0m\n\u001b[0;32m----> 2\u001b[0;31m     tuner.search(train_x, train_y, \n\u001b[0m\u001b[1;32m      3\u001b[0m                 \u001b[0mepochs\u001b[0m\u001b[0;34m=\u001b[0m\u001b[0mEPOCHS\u001b[0m\u001b[0;34m,\u001b[0m\u001b[0;34m\u001b[0m\u001b[0;34m\u001b[0m\u001b[0m\n\u001b[1;32m      4\u001b[0m                 \u001b[0mbatch_size\u001b[0m\u001b[0;34m=\u001b[0m\u001b[0mBATCH_SIZE\u001b[0m\u001b[0;34m,\u001b[0m\u001b[0;34m\u001b[0m\u001b[0;34m\u001b[0m\u001b[0m\n\u001b[1;32m      5\u001b[0m                 \u001b[0mcallbacks\u001b[0m\u001b[0;34m=\u001b[0m\u001b[0mcallbacks\u001b[0m\u001b[0;34m,\u001b[0m\u001b[0;34m\u001b[0m\u001b[0;34m\u001b[0m\u001b[0m\n",
            "\u001b[0;32m~/anaconda3/envs/tf/lib/python3.9/site-packages/keras_tuner/engine/base_tuner.py\u001b[0m in \u001b[0;36msearch\u001b[0;34m(self, *fit_args, **fit_kwargs)\u001b[0m\n\u001b[1;32m    177\u001b[0m \u001b[0;34m\u001b[0m\u001b[0m\n\u001b[1;32m    178\u001b[0m             \u001b[0mself\u001b[0m\u001b[0;34m.\u001b[0m\u001b[0mon_trial_begin\u001b[0m\u001b[0;34m(\u001b[0m\u001b[0mtrial\u001b[0m\u001b[0;34m)\u001b[0m\u001b[0;34m\u001b[0m\u001b[0;34m\u001b[0m\u001b[0m\n\u001b[0;32m--> 179\u001b[0;31m             \u001b[0mresults\u001b[0m \u001b[0;34m=\u001b[0m \u001b[0mself\u001b[0m\u001b[0;34m.\u001b[0m\u001b[0mrun_trial\u001b[0m\u001b[0;34m(\u001b[0m\u001b[0mtrial\u001b[0m\u001b[0;34m,\u001b[0m \u001b[0;34m*\u001b[0m\u001b[0mfit_args\u001b[0m\u001b[0;34m,\u001b[0m \u001b[0;34m**\u001b[0m\u001b[0mfit_kwargs\u001b[0m\u001b[0;34m)\u001b[0m\u001b[0;34m\u001b[0m\u001b[0;34m\u001b[0m\u001b[0m\n\u001b[0m\u001b[1;32m    180\u001b[0m             \u001b[0;31m# `results` is None indicates user updated oracle in `run_trial()`.\u001b[0m\u001b[0;34m\u001b[0m\u001b[0;34m\u001b[0m\u001b[0m\n\u001b[1;32m    181\u001b[0m             \u001b[0;32mif\u001b[0m \u001b[0mresults\u001b[0m \u001b[0;32mis\u001b[0m \u001b[0;32mNone\u001b[0m\u001b[0;34m:\u001b[0m\u001b[0;34m\u001b[0m\u001b[0;34m\u001b[0m\u001b[0m\n",
            "\u001b[0;32m~/anaconda3/envs/tf/lib/python3.9/site-packages/keras_tuner/engine/tuner.py\u001b[0m in \u001b[0;36mrun_trial\u001b[0;34m(self, trial, *args, **kwargs)\u001b[0m\n\u001b[1;32m    302\u001b[0m             \u001b[0mcallbacks\u001b[0m\u001b[0;34m.\u001b[0m\u001b[0mappend\u001b[0m\u001b[0;34m(\u001b[0m\u001b[0mmodel_checkpoint\u001b[0m\u001b[0;34m)\u001b[0m\u001b[0;34m\u001b[0m\u001b[0;34m\u001b[0m\u001b[0m\n\u001b[1;32m    303\u001b[0m             \u001b[0mcopied_kwargs\u001b[0m\u001b[0;34m[\u001b[0m\u001b[0;34m\"callbacks\"\u001b[0m\u001b[0;34m]\u001b[0m \u001b[0;34m=\u001b[0m \u001b[0mcallbacks\u001b[0m\u001b[0;34m\u001b[0m\u001b[0;34m\u001b[0m\u001b[0m\n\u001b[0;32m--> 304\u001b[0;31m             \u001b[0mobj_value\u001b[0m \u001b[0;34m=\u001b[0m \u001b[0mself\u001b[0m\u001b[0;34m.\u001b[0m\u001b[0m_build_and_fit_model\u001b[0m\u001b[0;34m(\u001b[0m\u001b[0mtrial\u001b[0m\u001b[0;34m,\u001b[0m \u001b[0;34m*\u001b[0m\u001b[0margs\u001b[0m\u001b[0;34m,\u001b[0m \u001b[0;34m**\u001b[0m\u001b[0mcopied_kwargs\u001b[0m\u001b[0;34m)\u001b[0m\u001b[0;34m\u001b[0m\u001b[0;34m\u001b[0m\u001b[0m\n\u001b[0m\u001b[1;32m    305\u001b[0m \u001b[0;34m\u001b[0m\u001b[0m\n\u001b[1;32m    306\u001b[0m             \u001b[0;31m# objective left unspecified,\u001b[0m\u001b[0;34m\u001b[0m\u001b[0;34m\u001b[0m\u001b[0m\n",
            "\u001b[0;32m~/anaconda3/envs/tf/lib/python3.9/site-packages/keras_tuner/engine/tuner.py\u001b[0m in \u001b[0;36m_build_and_fit_model\u001b[0;34m(self, trial, *args, **kwargs)\u001b[0m\n\u001b[1;32m    232\u001b[0m         \u001b[0mhp\u001b[0m \u001b[0;34m=\u001b[0m \u001b[0mtrial\u001b[0m\u001b[0;34m.\u001b[0m\u001b[0mhyperparameters\u001b[0m\u001b[0;34m\u001b[0m\u001b[0;34m\u001b[0m\u001b[0m\n\u001b[1;32m    233\u001b[0m         \u001b[0mmodel\u001b[0m \u001b[0;34m=\u001b[0m \u001b[0mself\u001b[0m\u001b[0;34m.\u001b[0m\u001b[0m_try_build\u001b[0m\u001b[0;34m(\u001b[0m\u001b[0mhp\u001b[0m\u001b[0;34m)\u001b[0m\u001b[0;34m\u001b[0m\u001b[0;34m\u001b[0m\u001b[0m\n\u001b[0;32m--> 234\u001b[0;31m         \u001b[0;32mreturn\u001b[0m \u001b[0mself\u001b[0m\u001b[0;34m.\u001b[0m\u001b[0mhypermodel\u001b[0m\u001b[0;34m.\u001b[0m\u001b[0mfit\u001b[0m\u001b[0;34m(\u001b[0m\u001b[0mhp\u001b[0m\u001b[0;34m,\u001b[0m \u001b[0mmodel\u001b[0m\u001b[0;34m,\u001b[0m \u001b[0;34m*\u001b[0m\u001b[0margs\u001b[0m\u001b[0;34m,\u001b[0m \u001b[0;34m**\u001b[0m\u001b[0mkwargs\u001b[0m\u001b[0;34m)\u001b[0m\u001b[0;34m\u001b[0m\u001b[0;34m\u001b[0m\u001b[0m\n\u001b[0m\u001b[1;32m    235\u001b[0m \u001b[0;34m\u001b[0m\u001b[0m\n\u001b[1;32m    236\u001b[0m     \u001b[0;32mdef\u001b[0m \u001b[0mrun_trial\u001b[0m\u001b[0;34m(\u001b[0m\u001b[0mself\u001b[0m\u001b[0;34m,\u001b[0m \u001b[0mtrial\u001b[0m\u001b[0;34m,\u001b[0m \u001b[0;34m*\u001b[0m\u001b[0margs\u001b[0m\u001b[0;34m,\u001b[0m \u001b[0;34m**\u001b[0m\u001b[0mkwargs\u001b[0m\u001b[0;34m)\u001b[0m\u001b[0;34m:\u001b[0m\u001b[0;34m\u001b[0m\u001b[0;34m\u001b[0m\u001b[0m\n",
            "\u001b[0;32m~/anaconda3/envs/tf/lib/python3.9/site-packages/keras_tuner/engine/hypermodel.py\u001b[0m in \u001b[0;36mfit\u001b[0;34m(self, hp, model, *args, **kwargs)\u001b[0m\n\u001b[1;32m    135\u001b[0m             \u001b[0mIf\u001b[0m \u001b[0;32mreturn\u001b[0m \u001b[0ma\u001b[0m \u001b[0mfloat\u001b[0m\u001b[0;34m,\u001b[0m \u001b[0mit\u001b[0m \u001b[0mshould\u001b[0m \u001b[0mbe\u001b[0m \u001b[0mthe\u001b[0m\u001b[0;31m \u001b[0m\u001b[0;31m`\u001b[0m\u001b[0mobjective\u001b[0m\u001b[0;31m`\u001b[0m \u001b[0mvalue\u001b[0m\u001b[0;34m.\u001b[0m\u001b[0;34m\u001b[0m\u001b[0;34m\u001b[0m\u001b[0m\n\u001b[1;32m    136\u001b[0m         \"\"\"\n\u001b[0;32m--> 137\u001b[0;31m         \u001b[0;32mreturn\u001b[0m \u001b[0mmodel\u001b[0m\u001b[0;34m.\u001b[0m\u001b[0mfit\u001b[0m\u001b[0;34m(\u001b[0m\u001b[0;34m*\u001b[0m\u001b[0margs\u001b[0m\u001b[0;34m,\u001b[0m \u001b[0;34m**\u001b[0m\u001b[0mkwargs\u001b[0m\u001b[0;34m)\u001b[0m\u001b[0;34m\u001b[0m\u001b[0;34m\u001b[0m\u001b[0m\n\u001b[0m\u001b[1;32m    138\u001b[0m \u001b[0;34m\u001b[0m\u001b[0m\n\u001b[1;32m    139\u001b[0m \u001b[0;34m\u001b[0m\u001b[0m\n",
            "\u001b[0;32m~/anaconda3/envs/tf/lib/python3.9/site-packages/keras/utils/traceback_utils.py\u001b[0m in \u001b[0;36merror_handler\u001b[0;34m(*args, **kwargs)\u001b[0m\n\u001b[1;32m     62\u001b[0m     \u001b[0mfiltered_tb\u001b[0m \u001b[0;34m=\u001b[0m \u001b[0;32mNone\u001b[0m\u001b[0;34m\u001b[0m\u001b[0;34m\u001b[0m\u001b[0m\n\u001b[1;32m     63\u001b[0m     \u001b[0;32mtry\u001b[0m\u001b[0;34m:\u001b[0m\u001b[0;34m\u001b[0m\u001b[0;34m\u001b[0m\u001b[0m\n\u001b[0;32m---> 64\u001b[0;31m       \u001b[0;32mreturn\u001b[0m \u001b[0mfn\u001b[0m\u001b[0;34m(\u001b[0m\u001b[0;34m*\u001b[0m\u001b[0margs\u001b[0m\u001b[0;34m,\u001b[0m \u001b[0;34m**\u001b[0m\u001b[0mkwargs\u001b[0m\u001b[0;34m)\u001b[0m\u001b[0;34m\u001b[0m\u001b[0;34m\u001b[0m\u001b[0m\n\u001b[0m\u001b[1;32m     65\u001b[0m     \u001b[0;32mexcept\u001b[0m \u001b[0mException\u001b[0m \u001b[0;32mas\u001b[0m \u001b[0me\u001b[0m\u001b[0;34m:\u001b[0m  \u001b[0;31m# pylint: disable=broad-except\u001b[0m\u001b[0;34m\u001b[0m\u001b[0;34m\u001b[0m\u001b[0m\n\u001b[1;32m     66\u001b[0m       \u001b[0mfiltered_tb\u001b[0m \u001b[0;34m=\u001b[0m \u001b[0m_process_traceback_frames\u001b[0m\u001b[0;34m(\u001b[0m\u001b[0me\u001b[0m\u001b[0;34m.\u001b[0m\u001b[0m__traceback__\u001b[0m\u001b[0;34m)\u001b[0m\u001b[0;34m\u001b[0m\u001b[0;34m\u001b[0m\u001b[0m\n",
            "\u001b[0;32m~/anaconda3/envs/tf/lib/python3.9/site-packages/keras/engine/training.py\u001b[0m in \u001b[0;36mfit\u001b[0;34m(self, x, y, batch_size, epochs, verbose, callbacks, validation_split, validation_data, shuffle, class_weight, sample_weight, initial_epoch, steps_per_epoch, validation_steps, validation_batch_size, validation_freq, max_queue_size, workers, use_multiprocessing)\u001b[0m\n\u001b[1;32m   1214\u001b[0m                 _r=1):\n\u001b[1;32m   1215\u001b[0m               \u001b[0mcallbacks\u001b[0m\u001b[0;34m.\u001b[0m\u001b[0mon_train_batch_begin\u001b[0m\u001b[0;34m(\u001b[0m\u001b[0mstep\u001b[0m\u001b[0;34m)\u001b[0m\u001b[0;34m\u001b[0m\u001b[0;34m\u001b[0m\u001b[0m\n\u001b[0;32m-> 1216\u001b[0;31m               \u001b[0mtmp_logs\u001b[0m \u001b[0;34m=\u001b[0m \u001b[0mself\u001b[0m\u001b[0;34m.\u001b[0m\u001b[0mtrain_function\u001b[0m\u001b[0;34m(\u001b[0m\u001b[0miterator\u001b[0m\u001b[0;34m)\u001b[0m\u001b[0;34m\u001b[0m\u001b[0;34m\u001b[0m\u001b[0m\n\u001b[0m\u001b[1;32m   1217\u001b[0m               \u001b[0;32mif\u001b[0m \u001b[0mdata_handler\u001b[0m\u001b[0;34m.\u001b[0m\u001b[0mshould_sync\u001b[0m\u001b[0;34m:\u001b[0m\u001b[0;34m\u001b[0m\u001b[0;34m\u001b[0m\u001b[0m\n\u001b[1;32m   1218\u001b[0m                 \u001b[0mcontext\u001b[0m\u001b[0;34m.\u001b[0m\u001b[0masync_wait\u001b[0m\u001b[0;34m(\u001b[0m\u001b[0;34m)\u001b[0m\u001b[0;34m\u001b[0m\u001b[0;34m\u001b[0m\u001b[0m\n",
            "\u001b[0;32m~/anaconda3/envs/tf/lib/python3.9/site-packages/tensorflow/python/util/traceback_utils.py\u001b[0m in \u001b[0;36merror_handler\u001b[0;34m(*args, **kwargs)\u001b[0m\n\u001b[1;32m    148\u001b[0m     \u001b[0mfiltered_tb\u001b[0m \u001b[0;34m=\u001b[0m \u001b[0;32mNone\u001b[0m\u001b[0;34m\u001b[0m\u001b[0;34m\u001b[0m\u001b[0m\n\u001b[1;32m    149\u001b[0m     \u001b[0;32mtry\u001b[0m\u001b[0;34m:\u001b[0m\u001b[0;34m\u001b[0m\u001b[0;34m\u001b[0m\u001b[0m\n\u001b[0;32m--> 150\u001b[0;31m       \u001b[0;32mreturn\u001b[0m \u001b[0mfn\u001b[0m\u001b[0;34m(\u001b[0m\u001b[0;34m*\u001b[0m\u001b[0margs\u001b[0m\u001b[0;34m,\u001b[0m \u001b[0;34m**\u001b[0m\u001b[0mkwargs\u001b[0m\u001b[0;34m)\u001b[0m\u001b[0;34m\u001b[0m\u001b[0;34m\u001b[0m\u001b[0m\n\u001b[0m\u001b[1;32m    151\u001b[0m     \u001b[0;32mexcept\u001b[0m \u001b[0mException\u001b[0m \u001b[0;32mas\u001b[0m \u001b[0me\u001b[0m\u001b[0;34m:\u001b[0m\u001b[0;34m\u001b[0m\u001b[0;34m\u001b[0m\u001b[0m\n\u001b[1;32m    152\u001b[0m       \u001b[0mfiltered_tb\u001b[0m \u001b[0;34m=\u001b[0m \u001b[0m_process_traceback_frames\u001b[0m\u001b[0;34m(\u001b[0m\u001b[0me\u001b[0m\u001b[0;34m.\u001b[0m\u001b[0m__traceback__\u001b[0m\u001b[0;34m)\u001b[0m\u001b[0;34m\u001b[0m\u001b[0;34m\u001b[0m\u001b[0m\n",
            "\u001b[0;32m~/anaconda3/envs/tf/lib/python3.9/site-packages/tensorflow/python/eager/def_function.py\u001b[0m in \u001b[0;36m__call__\u001b[0;34m(self, *args, **kwds)\u001b[0m\n\u001b[1;32m    908\u001b[0m \u001b[0;34m\u001b[0m\u001b[0m\n\u001b[1;32m    909\u001b[0m       \u001b[0;32mwith\u001b[0m \u001b[0mOptionalXlaContext\u001b[0m\u001b[0;34m(\u001b[0m\u001b[0mself\u001b[0m\u001b[0;34m.\u001b[0m\u001b[0m_jit_compile\u001b[0m\u001b[0;34m)\u001b[0m\u001b[0;34m:\u001b[0m\u001b[0;34m\u001b[0m\u001b[0;34m\u001b[0m\u001b[0m\n\u001b[0;32m--> 910\u001b[0;31m         \u001b[0mresult\u001b[0m \u001b[0;34m=\u001b[0m \u001b[0mself\u001b[0m\u001b[0;34m.\u001b[0m\u001b[0m_call\u001b[0m\u001b[0;34m(\u001b[0m\u001b[0;34m*\u001b[0m\u001b[0margs\u001b[0m\u001b[0;34m,\u001b[0m \u001b[0;34m**\u001b[0m\u001b[0mkwds\u001b[0m\u001b[0;34m)\u001b[0m\u001b[0;34m\u001b[0m\u001b[0;34m\u001b[0m\u001b[0m\n\u001b[0m\u001b[1;32m    911\u001b[0m \u001b[0;34m\u001b[0m\u001b[0m\n\u001b[1;32m    912\u001b[0m       \u001b[0mnew_tracing_count\u001b[0m \u001b[0;34m=\u001b[0m \u001b[0mself\u001b[0m\u001b[0;34m.\u001b[0m\u001b[0mexperimental_get_tracing_count\u001b[0m\u001b[0;34m(\u001b[0m\u001b[0;34m)\u001b[0m\u001b[0;34m\u001b[0m\u001b[0;34m\u001b[0m\u001b[0m\n",
            "\u001b[0;32m~/anaconda3/envs/tf/lib/python3.9/site-packages/tensorflow/python/eager/def_function.py\u001b[0m in \u001b[0;36m_call\u001b[0;34m(self, *args, **kwds)\u001b[0m\n\u001b[1;32m    940\u001b[0m       \u001b[0;31m# In this case we have created variables on the first call, so we run the\u001b[0m\u001b[0;34m\u001b[0m\u001b[0;34m\u001b[0m\u001b[0m\n\u001b[1;32m    941\u001b[0m       \u001b[0;31m# defunned version which is guaranteed to never create variables.\u001b[0m\u001b[0;34m\u001b[0m\u001b[0;34m\u001b[0m\u001b[0m\n\u001b[0;32m--> 942\u001b[0;31m       \u001b[0;32mreturn\u001b[0m \u001b[0mself\u001b[0m\u001b[0;34m.\u001b[0m\u001b[0m_stateless_fn\u001b[0m\u001b[0;34m(\u001b[0m\u001b[0;34m*\u001b[0m\u001b[0margs\u001b[0m\u001b[0;34m,\u001b[0m \u001b[0;34m**\u001b[0m\u001b[0mkwds\u001b[0m\u001b[0;34m)\u001b[0m  \u001b[0;31m# pylint: disable=not-callable\u001b[0m\u001b[0;34m\u001b[0m\u001b[0;34m\u001b[0m\u001b[0m\n\u001b[0m\u001b[1;32m    943\u001b[0m     \u001b[0;32melif\u001b[0m \u001b[0mself\u001b[0m\u001b[0;34m.\u001b[0m\u001b[0m_stateful_fn\u001b[0m \u001b[0;32mis\u001b[0m \u001b[0;32mnot\u001b[0m \u001b[0;32mNone\u001b[0m\u001b[0;34m:\u001b[0m\u001b[0;34m\u001b[0m\u001b[0;34m\u001b[0m\u001b[0m\n\u001b[1;32m    944\u001b[0m       \u001b[0;31m# Release the lock early so that multiple threads can perform the call\u001b[0m\u001b[0;34m\u001b[0m\u001b[0;34m\u001b[0m\u001b[0m\n",
            "\u001b[0;32m~/anaconda3/envs/tf/lib/python3.9/site-packages/tensorflow/python/eager/function.py\u001b[0m in \u001b[0;36m__call__\u001b[0;34m(self, *args, **kwargs)\u001b[0m\n\u001b[1;32m   3128\u001b[0m       (graph_function,\n\u001b[1;32m   3129\u001b[0m        filtered_flat_args) = self._maybe_define_function(args, kwargs)\n\u001b[0;32m-> 3130\u001b[0;31m     return graph_function._call_flat(\n\u001b[0m\u001b[1;32m   3131\u001b[0m         filtered_flat_args, captured_inputs=graph_function.captured_inputs)  # pylint: disable=protected-access\n\u001b[1;32m   3132\u001b[0m \u001b[0;34m\u001b[0m\u001b[0m\n",
            "\u001b[0;32m~/anaconda3/envs/tf/lib/python3.9/site-packages/tensorflow/python/eager/function.py\u001b[0m in \u001b[0;36m_call_flat\u001b[0;34m(self, args, captured_inputs, cancellation_manager)\u001b[0m\n\u001b[1;32m   1957\u001b[0m         and executing_eagerly):\n\u001b[1;32m   1958\u001b[0m       \u001b[0;31m# No tape is watching; skip to running the function.\u001b[0m\u001b[0;34m\u001b[0m\u001b[0;34m\u001b[0m\u001b[0m\n\u001b[0;32m-> 1959\u001b[0;31m       return self._build_call_outputs(self._inference_function.call(\n\u001b[0m\u001b[1;32m   1960\u001b[0m           ctx, args, cancellation_manager=cancellation_manager))\n\u001b[1;32m   1961\u001b[0m     forward_backward = self._select_forward_and_backward_functions(\n",
            "\u001b[0;32m~/anaconda3/envs/tf/lib/python3.9/site-packages/tensorflow/python/eager/function.py\u001b[0m in \u001b[0;36mcall\u001b[0;34m(self, ctx, args, cancellation_manager)\u001b[0m\n\u001b[1;32m    596\u001b[0m       \u001b[0;32mwith\u001b[0m \u001b[0m_InterpolateFunctionError\u001b[0m\u001b[0;34m(\u001b[0m\u001b[0mself\u001b[0m\u001b[0;34m)\u001b[0m\u001b[0;34m:\u001b[0m\u001b[0;34m\u001b[0m\u001b[0;34m\u001b[0m\u001b[0m\n\u001b[1;32m    597\u001b[0m         \u001b[0;32mif\u001b[0m \u001b[0mcancellation_manager\u001b[0m \u001b[0;32mis\u001b[0m \u001b[0;32mNone\u001b[0m\u001b[0;34m:\u001b[0m\u001b[0;34m\u001b[0m\u001b[0;34m\u001b[0m\u001b[0m\n\u001b[0;32m--> 598\u001b[0;31m           outputs = execute.execute(\n\u001b[0m\u001b[1;32m    599\u001b[0m               \u001b[0mstr\u001b[0m\u001b[0;34m(\u001b[0m\u001b[0mself\u001b[0m\u001b[0;34m.\u001b[0m\u001b[0msignature\u001b[0m\u001b[0;34m.\u001b[0m\u001b[0mname\u001b[0m\u001b[0;34m)\u001b[0m\u001b[0;34m,\u001b[0m\u001b[0;34m\u001b[0m\u001b[0;34m\u001b[0m\u001b[0m\n\u001b[1;32m    600\u001b[0m               \u001b[0mnum_outputs\u001b[0m\u001b[0;34m=\u001b[0m\u001b[0mself\u001b[0m\u001b[0;34m.\u001b[0m\u001b[0m_num_outputs\u001b[0m\u001b[0;34m,\u001b[0m\u001b[0;34m\u001b[0m\u001b[0;34m\u001b[0m\u001b[0m\n",
            "\u001b[0;32m~/anaconda3/envs/tf/lib/python3.9/site-packages/tensorflow/python/eager/execute.py\u001b[0m in \u001b[0;36mquick_execute\u001b[0;34m(op_name, num_outputs, inputs, attrs, ctx, name)\u001b[0m\n\u001b[1;32m     56\u001b[0m   \u001b[0;32mtry\u001b[0m\u001b[0;34m:\u001b[0m\u001b[0;34m\u001b[0m\u001b[0;34m\u001b[0m\u001b[0m\n\u001b[1;32m     57\u001b[0m     \u001b[0mctx\u001b[0m\u001b[0;34m.\u001b[0m\u001b[0mensure_initialized\u001b[0m\u001b[0;34m(\u001b[0m\u001b[0;34m)\u001b[0m\u001b[0;34m\u001b[0m\u001b[0;34m\u001b[0m\u001b[0m\n\u001b[0;32m---> 58\u001b[0;31m     tensors = pywrap_tfe.TFE_Py_Execute(ctx._handle, device_name, op_name,\n\u001b[0m\u001b[1;32m     59\u001b[0m                                         inputs, attrs, num_outputs)\n\u001b[1;32m     60\u001b[0m   \u001b[0;32mexcept\u001b[0m \u001b[0mcore\u001b[0m\u001b[0;34m.\u001b[0m\u001b[0m_NotOkStatusException\u001b[0m \u001b[0;32mas\u001b[0m \u001b[0me\u001b[0m\u001b[0;34m:\u001b[0m\u001b[0;34m\u001b[0m\u001b[0;34m\u001b[0m\u001b[0m\n",
            "\u001b[0;31mKeyboardInterrupt\u001b[0m: "
          ]
        }
      ],
      "metadata": {
        "colab": {
          "base_uri": "https://localhost:8080/"
        },
        "id": "ByXROXBeSjNv",
        "outputId": "51c37a07-a8c6-451b-a8f2-a5cd9940c981"
      }
    }
  ],
  "metadata": {
    "colab": {
      "collapsed_sections": [],
      "name": "Copy of timeseries_transformer_classification",
      "provenance": []
    },
    "kernelspec": {
      "name": "python3",
      "display_name": "Python 3.9.7 64-bit ('tf': conda)"
    },
    "language_info": {
      "codemirror_mode": {
        "name": "ipython",
        "version": 3
      },
      "file_extension": ".py",
      "mimetype": "text/x-python",
      "name": "python",
      "nbconvert_exporter": "python",
      "pygments_lexer": "ipython3",
      "version": "3.9.7"
    },
    "accelerator": "GPU",
    "interpreter": {
      "hash": "03ca22c6d6d40835e149a115b42423f5eef12d1ffe1b81219c8386ff45d860ad"
    }
  },
  "nbformat": 4,
  "nbformat_minor": 2
}