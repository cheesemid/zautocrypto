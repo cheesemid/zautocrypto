{
 "cells": [
  {
   "cell_type": "markdown",
   "source": [
    "## ZBTCNN TANH\n",
    "Predicts percentage price increase  \n",
    "Uses technicals aswell from csv_formatter.ipynb"
   ],
   "metadata": {}
  },
  {
   "cell_type": "code",
   "execution_count": 2,
   "source": [
    "!source /etc/profile\n",
    "\n",
    "import os\n",
    "import sys\n",
    "import random\n",
    "import time\n",
    "from collections import deque\n",
    "import pandas as pd\n",
    "import numpy as np\n",
    "import tensorflow as tf\n",
    "from sklearn import preprocessing\n",
    "from tensorflow.keras.models import Sequential\n",
    "from tensorflow.keras.layers import Dense, Dropout, LSTM, BatchNormalization, Activation, Flatten, MaxPooling2D, Conv2D\n",
    "from tensorflow.keras.callbacks import ModelCheckpoint, TensorBoard\n",
    "from tensorflow.keras import optimizers\n",
    "from tensorflow.keras import utils\n",
    "import joblib\n",
    "\n",
    "# Check GPU\n",
    "print(\"Num GPUs Available: \", len(tf.config.list_physical_devices('GPU')))\n",
    "# tf.config.list_physical_devices()"
   ],
   "outputs": [
    {
     "output_type": "stream",
     "name": "stdout",
     "text": [
      "Num GPUs Available:  1\n"
     ]
    },
    {
     "output_type": "stream",
     "name": "stderr",
     "text": [
      "2022-02-07 06:17:04.563111: I tensorflow/stream_executor/cuda/cuda_gpu_executor.cc:939] successful NUMA node read from SysFS had negative value (-1), but there must be at least one NUMA node, so returning NUMA node zero\n",
      "2022-02-07 06:17:04.571505: I tensorflow/stream_executor/cuda/cuda_gpu_executor.cc:939] successful NUMA node read from SysFS had negative value (-1), but there must be at least one NUMA node, so returning NUMA node zero\n",
      "2022-02-07 06:17:04.571857: I tensorflow/stream_executor/cuda/cuda_gpu_executor.cc:939] successful NUMA node read from SysFS had negative value (-1), but there must be at least one NUMA node, so returning NUMA node zero\n"
     ]
    }
   ],
   "metadata": {}
  },
  {
   "cell_type": "code",
   "execution_count": 3,
   "source": [
    "SEQ_LEN = 24 #hours\n",
    "FUTURE_PERIOD_PREDICT = 1 #hours\n",
    "\n",
    "# Model parameters\n",
    "EPOCHS = 20\n",
    "BATCH_SIZE = 64\n",
    "NAME = f\"TANH-e{EPOCHS}-b{BATCH_SIZE}-s{SEQ_LEN}-fpp{FUTURE_PERIOD_PREDICT}-{int(time.time())}\""
   ],
   "outputs": [],
   "metadata": {}
  },
  {
   "cell_type": "code",
   "execution_count": 5,
   "source": [
    "## Import data\n",
    "# DATA MUST BE FORMATTED USING CSV_FORMATTER.IPYNB\n",
    "\n",
    "csv_file = \"data/formatted/BTCUSDT-1h-data.csv\"\n",
    "\n",
    "data = pd.read_csv(csv_file, skiprows=[0], names=[\"timestamp\", \"open\", \"high\", \"low\", \"close\", \"volume\", \"rsi\", \"ema\"])\n",
    "\n",
    "data.set_index(\"timestamp\", inplace=True)\n",
    "\n",
    "data.head()"
   ],
   "outputs": [
    {
     "output_type": "execute_result",
     "data": {
      "text/html": [
       "<div>\n",
       "<style scoped>\n",
       "    .dataframe tbody tr th:only-of-type {\n",
       "        vertical-align: middle;\n",
       "    }\n",
       "\n",
       "    .dataframe tbody tr th {\n",
       "        vertical-align: top;\n",
       "    }\n",
       "\n",
       "    .dataframe thead th {\n",
       "        text-align: right;\n",
       "    }\n",
       "</style>\n",
       "<table border=\"1\" class=\"dataframe\">\n",
       "  <thead>\n",
       "    <tr style=\"text-align: right;\">\n",
       "      <th></th>\n",
       "      <th>open</th>\n",
       "      <th>high</th>\n",
       "      <th>low</th>\n",
       "      <th>close</th>\n",
       "      <th>volume</th>\n",
       "      <th>rsi</th>\n",
       "      <th>ema</th>\n",
       "    </tr>\n",
       "    <tr>\n",
       "      <th>timestamp</th>\n",
       "      <th></th>\n",
       "      <th></th>\n",
       "      <th></th>\n",
       "      <th></th>\n",
       "      <th></th>\n",
       "      <th></th>\n",
       "      <th></th>\n",
       "    </tr>\n",
       "  </thead>\n",
       "  <tbody>\n",
       "    <tr>\n",
       "      <th>1503064800</th>\n",
       "      <td>4304.15</td>\n",
       "      <td>4371.52</td>\n",
       "      <td>4296.04</td>\n",
       "      <td>4356.31</td>\n",
       "      <td>51.563675</td>\n",
       "      <td>52.623958</td>\n",
       "      <td>4327.151560</td>\n",
       "    </tr>\n",
       "    <tr>\n",
       "      <th>1503068400</th>\n",
       "      <td>4356.31</td>\n",
       "      <td>4357.37</td>\n",
       "      <td>4302.72</td>\n",
       "      <td>4340.31</td>\n",
       "      <td>24.093449</td>\n",
       "      <td>51.678528</td>\n",
       "      <td>4327.804777</td>\n",
       "    </tr>\n",
       "    <tr>\n",
       "      <th>1503072000</th>\n",
       "      <td>4320.52</td>\n",
       "      <td>4340.31</td>\n",
       "      <td>4287.79</td>\n",
       "      <td>4331.71</td>\n",
       "      <td>15.118957</td>\n",
       "      <td>51.167386</td>\n",
       "      <td>4327.995329</td>\n",
       "    </tr>\n",
       "    <tr>\n",
       "      <th>1503075600</th>\n",
       "      <td>4302.97</td>\n",
       "      <td>4318.16</td>\n",
       "      <td>4221.05</td>\n",
       "      <td>4293.09</td>\n",
       "      <td>46.533767</td>\n",
       "      <td>48.919621</td>\n",
       "      <td>4326.319858</td>\n",
       "    </tr>\n",
       "    <tr>\n",
       "      <th>1503079200</th>\n",
       "      <td>4293.09</td>\n",
       "      <td>4293.09</td>\n",
       "      <td>4193.70</td>\n",
       "      <td>4259.40</td>\n",
       "      <td>74.368943</td>\n",
       "      <td>47.054235</td>\n",
       "      <td>4323.157459</td>\n",
       "    </tr>\n",
       "  </tbody>\n",
       "</table>\n",
       "</div>"
      ],
      "text/plain": [
       "               open     high      low    close     volume        rsi  \\\n",
       "timestamp                                                              \n",
       "1503064800  4304.15  4371.52  4296.04  4356.31  51.563675  52.623958   \n",
       "1503068400  4356.31  4357.37  4302.72  4340.31  24.093449  51.678528   \n",
       "1503072000  4320.52  4340.31  4287.79  4331.71  15.118957  51.167386   \n",
       "1503075600  4302.97  4318.16  4221.05  4293.09  46.533767  48.919621   \n",
       "1503079200  4293.09  4293.09  4193.70  4259.40  74.368943  47.054235   \n",
       "\n",
       "                    ema  \n",
       "timestamp                \n",
       "1503064800  4327.151560  \n",
       "1503068400  4327.804777  \n",
       "1503072000  4327.995329  \n",
       "1503075600  4326.319858  \n",
       "1503079200  4323.157459  "
      ]
     },
     "metadata": {},
     "execution_count": 5
    }
   ],
   "metadata": {}
  },
  {
   "cell_type": "code",
   "execution_count": 19,
   "source": [
    "## Formatting data\n",
    "\n",
    "def classify(current, future):\n",
    "    return float((future - current) / current)\n",
    "\n",
    "\n",
    "data[\"future\"] = data[\"close\"].shift(-FUTURE_PERIOD_PREDICT)\n",
    "\n",
    "# Cut off NaNs\n",
    "# data = data[:-FUTURE_PERIOD_PREDICT]\n",
    "data.dropna(inplace=True)\n",
    "\n",
    "data[\"target\"] = list(map(classify, data[\"close\"], data[\"future\"]))\n",
    "# data[[\"close\", \"future\", \"target\"]].tail()\n",
    "data = data.drop(\"future\", 1)\n",
    "\n",
    "# Split dataset\n",
    "last_5_pct = int(len(data) * .95)\n",
    "\n",
    "train_data = data[:last_5_pct]\n",
    "validation_data = data[last_5_pct:]\n",
    "\n",
    "print(f\"{len(train_data)} :: {len(validation_data)}\")\n",
    "\n",
    "data.head()"
   ],
   "outputs": [
    {
     "output_type": "stream",
     "name": "stdout",
     "text": [
      "36695 :: 1932\n"
     ]
    },
    {
     "output_type": "stream",
     "name": "stderr",
     "text": [
      "/tmp/ipykernel_14263/1604648129.py:15: FutureWarning: In a future version of pandas all arguments of DataFrame.drop except for the argument 'labels' will be keyword-only\n",
      "  data = data.drop(\"future\", 1)\n"
     ]
    },
    {
     "output_type": "execute_result",
     "data": {
      "text/html": [
       "<div>\n",
       "<style scoped>\n",
       "    .dataframe tbody tr th:only-of-type {\n",
       "        vertical-align: middle;\n",
       "    }\n",
       "\n",
       "    .dataframe tbody tr th {\n",
       "        vertical-align: top;\n",
       "    }\n",
       "\n",
       "    .dataframe thead th {\n",
       "        text-align: right;\n",
       "    }\n",
       "</style>\n",
       "<table border=\"1\" class=\"dataframe\">\n",
       "  <thead>\n",
       "    <tr style=\"text-align: right;\">\n",
       "      <th></th>\n",
       "      <th>open</th>\n",
       "      <th>high</th>\n",
       "      <th>low</th>\n",
       "      <th>close</th>\n",
       "      <th>volume</th>\n",
       "      <th>rsi</th>\n",
       "      <th>ema</th>\n",
       "      <th>target</th>\n",
       "    </tr>\n",
       "    <tr>\n",
       "      <th>timestamp</th>\n",
       "      <th></th>\n",
       "      <th></th>\n",
       "      <th></th>\n",
       "      <th></th>\n",
       "      <th></th>\n",
       "      <th></th>\n",
       "      <th></th>\n",
       "      <th></th>\n",
       "    </tr>\n",
       "  </thead>\n",
       "  <tbody>\n",
       "    <tr>\n",
       "      <th>1503064800</th>\n",
       "      <td>4304.15</td>\n",
       "      <td>4371.52</td>\n",
       "      <td>4296.04</td>\n",
       "      <td>4356.31</td>\n",
       "      <td>51.563675</td>\n",
       "      <td>52.623958</td>\n",
       "      <td>4327.151560</td>\n",
       "      <td>-0.003673</td>\n",
       "    </tr>\n",
       "    <tr>\n",
       "      <th>1503068400</th>\n",
       "      <td>4356.31</td>\n",
       "      <td>4357.37</td>\n",
       "      <td>4302.72</td>\n",
       "      <td>4340.31</td>\n",
       "      <td>24.093449</td>\n",
       "      <td>51.678528</td>\n",
       "      <td>4327.804777</td>\n",
       "      <td>-0.001981</td>\n",
       "    </tr>\n",
       "    <tr>\n",
       "      <th>1503072000</th>\n",
       "      <td>4320.52</td>\n",
       "      <td>4340.31</td>\n",
       "      <td>4287.79</td>\n",
       "      <td>4331.71</td>\n",
       "      <td>15.118957</td>\n",
       "      <td>51.167386</td>\n",
       "      <td>4327.995329</td>\n",
       "      <td>-0.008916</td>\n",
       "    </tr>\n",
       "    <tr>\n",
       "      <th>1503075600</th>\n",
       "      <td>4302.97</td>\n",
       "      <td>4318.16</td>\n",
       "      <td>4221.05</td>\n",
       "      <td>4293.09</td>\n",
       "      <td>46.533767</td>\n",
       "      <td>48.919621</td>\n",
       "      <td>4326.319858</td>\n",
       "      <td>-0.007847</td>\n",
       "    </tr>\n",
       "    <tr>\n",
       "      <th>1503079200</th>\n",
       "      <td>4293.09</td>\n",
       "      <td>4293.09</td>\n",
       "      <td>4193.70</td>\n",
       "      <td>4259.40</td>\n",
       "      <td>74.368943</td>\n",
       "      <td>47.054235</td>\n",
       "      <td>4323.157459</td>\n",
       "      <td>-0.005285</td>\n",
       "    </tr>\n",
       "  </tbody>\n",
       "</table>\n",
       "</div>"
      ],
      "text/plain": [
       "               open     high      low    close     volume        rsi  \\\n",
       "timestamp                                                              \n",
       "1503064800  4304.15  4371.52  4296.04  4356.31  51.563675  52.623958   \n",
       "1503068400  4356.31  4357.37  4302.72  4340.31  24.093449  51.678528   \n",
       "1503072000  4320.52  4340.31  4287.79  4331.71  15.118957  51.167386   \n",
       "1503075600  4302.97  4318.16  4221.05  4293.09  46.533767  48.919621   \n",
       "1503079200  4293.09  4293.09  4193.70  4259.40  74.368943  47.054235   \n",
       "\n",
       "                    ema    target  \n",
       "timestamp                          \n",
       "1503064800  4327.151560 -0.003673  \n",
       "1503068400  4327.804777 -0.001981  \n",
       "1503072000  4327.995329 -0.008916  \n",
       "1503075600  4326.319858 -0.007847  \n",
       "1503079200  4323.157459 -0.005285  "
      ]
     },
     "metadata": {},
     "execution_count": 19
    }
   ],
   "metadata": {}
  },
  {
   "cell_type": "code",
   "execution_count": 7,
   "source": [
    "## Helper\n",
    "## Ratios of buy to sell targets\n",
    "\n",
    "## See how balances the input data is\n",
    "\n",
    "sell_counter = len([x for x in list(data[\"target\"]) if x < 0])\n",
    "buy_counter = len([x for x in list(data[\"target\"]) if x > 0])\n",
    "\n",
    "pct_sell = sell_counter / len(data)\n",
    "pct_buy = buy_counter / len(data)\n",
    "\n",
    "print(f\"{pct_sell} :: {pct_buy}\")"
   ],
   "outputs": [
    {
     "output_type": "error",
     "ename": "KeyError",
     "evalue": "'target'",
     "traceback": [
      "\u001b[0;31m---------------------------------------------------------------------------\u001b[0m",
      "\u001b[0;31mKeyError\u001b[0m                                  Traceback (most recent call last)",
      "\u001b[0;32m/opt/anaconda/envs/tf/lib/python3.9/site-packages/pandas/core/indexes/base.py\u001b[0m in \u001b[0;36mget_loc\u001b[0;34m(self, key, method, tolerance)\u001b[0m\n\u001b[1;32m   3360\u001b[0m             \u001b[0;32mtry\u001b[0m\u001b[0;34m:\u001b[0m\u001b[0;34m\u001b[0m\u001b[0;34m\u001b[0m\u001b[0m\n\u001b[0;32m-> 3361\u001b[0;31m                 \u001b[0;32mreturn\u001b[0m \u001b[0mself\u001b[0m\u001b[0;34m.\u001b[0m\u001b[0m_engine\u001b[0m\u001b[0;34m.\u001b[0m\u001b[0mget_loc\u001b[0m\u001b[0;34m(\u001b[0m\u001b[0mcasted_key\u001b[0m\u001b[0;34m)\u001b[0m\u001b[0;34m\u001b[0m\u001b[0;34m\u001b[0m\u001b[0m\n\u001b[0m\u001b[1;32m   3362\u001b[0m             \u001b[0;32mexcept\u001b[0m \u001b[0mKeyError\u001b[0m \u001b[0;32mas\u001b[0m \u001b[0merr\u001b[0m\u001b[0;34m:\u001b[0m\u001b[0;34m\u001b[0m\u001b[0;34m\u001b[0m\u001b[0m\n",
      "\u001b[0;32m/opt/anaconda/envs/tf/lib/python3.9/site-packages/pandas/_libs/index.pyx\u001b[0m in \u001b[0;36mpandas._libs.index.IndexEngine.get_loc\u001b[0;34m()\u001b[0m\n",
      "\u001b[0;32m/opt/anaconda/envs/tf/lib/python3.9/site-packages/pandas/_libs/index.pyx\u001b[0m in \u001b[0;36mpandas._libs.index.IndexEngine.get_loc\u001b[0;34m()\u001b[0m\n",
      "\u001b[0;32mpandas/_libs/hashtable_class_helper.pxi\u001b[0m in \u001b[0;36mpandas._libs.hashtable.PyObjectHashTable.get_item\u001b[0;34m()\u001b[0m\n",
      "\u001b[0;32mpandas/_libs/hashtable_class_helper.pxi\u001b[0m in \u001b[0;36mpandas._libs.hashtable.PyObjectHashTable.get_item\u001b[0;34m()\u001b[0m\n",
      "\u001b[0;31mKeyError\u001b[0m: 'target'",
      "\nThe above exception was the direct cause of the following exception:\n",
      "\u001b[0;31mKeyError\u001b[0m                                  Traceback (most recent call last)",
      "\u001b[0;32m/tmp/ipykernel_24655/3752982541.py\u001b[0m in \u001b[0;36m<module>\u001b[0;34m\u001b[0m\n\u001b[1;32m      4\u001b[0m \u001b[0;31m## See how balances the input data is\u001b[0m\u001b[0;34m\u001b[0m\u001b[0;34m\u001b[0m\u001b[0m\n\u001b[1;32m      5\u001b[0m \u001b[0;34m\u001b[0m\u001b[0m\n\u001b[0;32m----> 6\u001b[0;31m \u001b[0msell_counter\u001b[0m \u001b[0;34m=\u001b[0m \u001b[0mlen\u001b[0m\u001b[0;34m(\u001b[0m\u001b[0;34m[\u001b[0m\u001b[0mx\u001b[0m \u001b[0;32mfor\u001b[0m \u001b[0mx\u001b[0m \u001b[0;32min\u001b[0m \u001b[0mlist\u001b[0m\u001b[0;34m(\u001b[0m\u001b[0mdata\u001b[0m\u001b[0;34m[\u001b[0m\u001b[0;34m\"target\"\u001b[0m\u001b[0;34m]\u001b[0m\u001b[0;34m)\u001b[0m \u001b[0;32mif\u001b[0m \u001b[0mx\u001b[0m \u001b[0;34m<\u001b[0m \u001b[0;36m0\u001b[0m\u001b[0;34m]\u001b[0m\u001b[0;34m)\u001b[0m\u001b[0;34m\u001b[0m\u001b[0;34m\u001b[0m\u001b[0m\n\u001b[0m\u001b[1;32m      7\u001b[0m \u001b[0mbuy_counter\u001b[0m \u001b[0;34m=\u001b[0m \u001b[0mlen\u001b[0m\u001b[0;34m(\u001b[0m\u001b[0;34m[\u001b[0m\u001b[0mx\u001b[0m \u001b[0;32mfor\u001b[0m \u001b[0mx\u001b[0m \u001b[0;32min\u001b[0m \u001b[0mlist\u001b[0m\u001b[0;34m(\u001b[0m\u001b[0mdata\u001b[0m\u001b[0;34m[\u001b[0m\u001b[0;34m\"target\"\u001b[0m\u001b[0;34m]\u001b[0m\u001b[0;34m)\u001b[0m \u001b[0;32mif\u001b[0m \u001b[0mx\u001b[0m \u001b[0;34m>\u001b[0m \u001b[0;36m0\u001b[0m\u001b[0;34m]\u001b[0m\u001b[0;34m)\u001b[0m\u001b[0;34m\u001b[0m\u001b[0;34m\u001b[0m\u001b[0m\n\u001b[1;32m      8\u001b[0m \u001b[0;34m\u001b[0m\u001b[0m\n",
      "\u001b[0;32m/opt/anaconda/envs/tf/lib/python3.9/site-packages/pandas/core/frame.py\u001b[0m in \u001b[0;36m__getitem__\u001b[0;34m(self, key)\u001b[0m\n\u001b[1;32m   3456\u001b[0m             \u001b[0;32mif\u001b[0m \u001b[0mself\u001b[0m\u001b[0;34m.\u001b[0m\u001b[0mcolumns\u001b[0m\u001b[0;34m.\u001b[0m\u001b[0mnlevels\u001b[0m \u001b[0;34m>\u001b[0m \u001b[0;36m1\u001b[0m\u001b[0;34m:\u001b[0m\u001b[0;34m\u001b[0m\u001b[0;34m\u001b[0m\u001b[0m\n\u001b[1;32m   3457\u001b[0m                 \u001b[0;32mreturn\u001b[0m \u001b[0mself\u001b[0m\u001b[0;34m.\u001b[0m\u001b[0m_getitem_multilevel\u001b[0m\u001b[0;34m(\u001b[0m\u001b[0mkey\u001b[0m\u001b[0;34m)\u001b[0m\u001b[0;34m\u001b[0m\u001b[0;34m\u001b[0m\u001b[0m\n\u001b[0;32m-> 3458\u001b[0;31m             \u001b[0mindexer\u001b[0m \u001b[0;34m=\u001b[0m \u001b[0mself\u001b[0m\u001b[0;34m.\u001b[0m\u001b[0mcolumns\u001b[0m\u001b[0;34m.\u001b[0m\u001b[0mget_loc\u001b[0m\u001b[0;34m(\u001b[0m\u001b[0mkey\u001b[0m\u001b[0;34m)\u001b[0m\u001b[0;34m\u001b[0m\u001b[0;34m\u001b[0m\u001b[0m\n\u001b[0m\u001b[1;32m   3459\u001b[0m             \u001b[0;32mif\u001b[0m \u001b[0mis_integer\u001b[0m\u001b[0;34m(\u001b[0m\u001b[0mindexer\u001b[0m\u001b[0;34m)\u001b[0m\u001b[0;34m:\u001b[0m\u001b[0;34m\u001b[0m\u001b[0;34m\u001b[0m\u001b[0m\n\u001b[1;32m   3460\u001b[0m                 \u001b[0mindexer\u001b[0m \u001b[0;34m=\u001b[0m \u001b[0;34m[\u001b[0m\u001b[0mindexer\u001b[0m\u001b[0;34m]\u001b[0m\u001b[0;34m\u001b[0m\u001b[0;34m\u001b[0m\u001b[0m\n",
      "\u001b[0;32m/opt/anaconda/envs/tf/lib/python3.9/site-packages/pandas/core/indexes/base.py\u001b[0m in \u001b[0;36mget_loc\u001b[0;34m(self, key, method, tolerance)\u001b[0m\n\u001b[1;32m   3361\u001b[0m                 \u001b[0;32mreturn\u001b[0m \u001b[0mself\u001b[0m\u001b[0;34m.\u001b[0m\u001b[0m_engine\u001b[0m\u001b[0;34m.\u001b[0m\u001b[0mget_loc\u001b[0m\u001b[0;34m(\u001b[0m\u001b[0mcasted_key\u001b[0m\u001b[0;34m)\u001b[0m\u001b[0;34m\u001b[0m\u001b[0;34m\u001b[0m\u001b[0m\n\u001b[1;32m   3362\u001b[0m             \u001b[0;32mexcept\u001b[0m \u001b[0mKeyError\u001b[0m \u001b[0;32mas\u001b[0m \u001b[0merr\u001b[0m\u001b[0;34m:\u001b[0m\u001b[0;34m\u001b[0m\u001b[0;34m\u001b[0m\u001b[0m\n\u001b[0;32m-> 3363\u001b[0;31m                 \u001b[0;32mraise\u001b[0m \u001b[0mKeyError\u001b[0m\u001b[0;34m(\u001b[0m\u001b[0mkey\u001b[0m\u001b[0;34m)\u001b[0m \u001b[0;32mfrom\u001b[0m \u001b[0merr\u001b[0m\u001b[0;34m\u001b[0m\u001b[0;34m\u001b[0m\u001b[0m\n\u001b[0m\u001b[1;32m   3364\u001b[0m \u001b[0;34m\u001b[0m\u001b[0m\n\u001b[1;32m   3365\u001b[0m         \u001b[0;32mif\u001b[0m \u001b[0mis_scalar\u001b[0m\u001b[0;34m(\u001b[0m\u001b[0mkey\u001b[0m\u001b[0;34m)\u001b[0m \u001b[0;32mand\u001b[0m \u001b[0misna\u001b[0m\u001b[0;34m(\u001b[0m\u001b[0mkey\u001b[0m\u001b[0;34m)\u001b[0m \u001b[0;32mand\u001b[0m \u001b[0;32mnot\u001b[0m \u001b[0mself\u001b[0m\u001b[0;34m.\u001b[0m\u001b[0mhasnans\u001b[0m\u001b[0;34m:\u001b[0m\u001b[0;34m\u001b[0m\u001b[0;34m\u001b[0m\u001b[0m\n",
      "\u001b[0;31mKeyError\u001b[0m: 'target'"
     ]
    }
   ],
   "metadata": {}
  },
  {
   "cell_type": "code",
   "execution_count": 21,
   "source": [
    "## Preprocess Data\n",
    "\n",
    "def preprocess_df(df_p):\n",
    "\n",
    "    df = pd.DataFrame()\n",
    "    for col in df_p.columns:\n",
    "        df[col] = df_p[col]\n",
    "\n",
    "    for col in df.columns:\n",
    "        if col != \"target\":\n",
    "            df[col] = df[col].pct_change()\n",
    "            df.replace([np.inf, -np.inf], np.nan, inplace=True)\n",
    "            df.dropna(inplace=True)\n",
    "            df[col] = preprocessing.scale(df[col])\n",
    "        else:\n",
    "            scaler = preprocessing.Sta\n",
    "            df[col] = scaler.fit_transform(np.array(df[col]).reshape(-1, 1))\n",
    "            joblib.dump(scaler, f\"scalers/{NAME}\")\n",
    "\n",
    "    df.dropna(inplace=True)\n",
    "\n",
    "    sequential_data = []\n",
    "    prev_periods = deque(maxlen=SEQ_LEN)\n",
    "\n",
    "    for i in df.values:\n",
    "        prev_periods.append([n for n in i[:-1]])\n",
    "        if len(prev_periods) == SEQ_LEN:\n",
    "            sequential_data.append([np.array(prev_periods), i[-1]])\n",
    "\n",
    "    # random.shuffle(sequential_data)\n",
    "\n",
    "    # Balance buys and sells\n",
    "    buys = []\n",
    "    sells = []\n",
    "\n",
    "    for seq, target in sequential_data:\n",
    "\n",
    "        if target < 0.0:\n",
    "            sells.append([seq, target])\n",
    "        elif target > 0.0:\n",
    "            buys.append([seq, target])\n",
    "\n",
    "    lower = min(len(buys), len(sells))\n",
    "\n",
    "    buys = buys[:lower]\n",
    "    sells = sells[:lower]\n",
    "\n",
    "    sequential_data = buys + sells\n",
    "\n",
    "    random.shuffle(sequential_data)\n",
    "\n",
    "    X = [d[0] for d in sequential_data]\n",
    "    Y = [d[1] for d in sequential_data]\n",
    "\n",
    "    return np.array(X), np.array(Y)\n",
    "    \n",
    "\n",
    "train_x, train_y = preprocess_df(train_data)\n",
    "validation_x, validation_y = preprocess_df(validation_data)"
   ],
   "outputs": [],
   "metadata": {}
  },
  {
   "cell_type": "code",
   "execution_count": 22,
   "source": [
    "## Dataset metrics\n",
    "\n",
    "print(f\"Train : Validation == {len(train_x)} : {len(validation_x)}\")\n",
    "print(f\"Train\\t\\tBuys : Sells == {len([x for x in list(train_y) if x > 0])} : {len([x for x in list(train_y) if x < 0])}\")\n",
    "print(f\"Validation\\tBuys : Sells == {len([x for x in list(validation_y) if x > 0])} : {len([x for x in list(validation_y) if x < 0])}\")"
   ],
   "outputs": [
    {
     "output_type": "stream",
     "name": "stdout",
     "text": [
      "Train : Validation == 36568 : 1898\n",
      "Train\t\tBuys : Sells == 18284 : 18284\n",
      "Validation\tBuys : Sells == 949 : 949\n"
     ]
    }
   ],
   "metadata": {}
  },
  {
   "cell_type": "code",
   "execution_count": 23,
   "source": [
    "## Make model\n",
    "\n",
    "model = Sequential()\n",
    "optimizer = tf.keras.optimizers.Adam(learning_rate=0.001, decay=1e-6)\n",
    "\n",
    "\n",
    "model.add(LSTM(128, input_shape=(train_x.shape[1:]), activation=\"tanh\", return_sequences=True))\n",
    "model.add(Dropout(0.2))\n",
    "model.add(BatchNormalization())\n",
    "\n",
    "model.add(LSTM(128, input_shape=(train_x.shape[1:]), activation=\"tanh\", return_sequences=True))\n",
    "model.add(Dropout(0.1))\n",
    "model.add(BatchNormalization())\n",
    "\n",
    "model.add(LSTM(128, input_shape=(train_x.shape[1:]), activation=\"tanh\"))\n",
    "model.add(Dropout(0.2))\n",
    "model.add(BatchNormalization())\n",
    "\n",
    "model.add(Dense(32, activation=\"relu\"))\n",
    "model.add(Dropout(0.2))\n",
    "\n",
    "model.add(Dense(1, activation=\"tanh\"))\n",
    "\n",
    "\n",
    "\n",
    "model.compile(loss=tf.keras.losses.MeanSquaredError(), optimizer=optimizer, metrics=[\"mse\"])\n",
    "\n",
    "tb = TensorBoard(log_dir=f\"logs/{NAME}\")\n",
    "\n",
    "filepath = NAME + \"-e{epoch:02d}-vacc{mse:.3f}-\" + str(int(time.time()))\n",
    "checkpoint = ModelCheckpoint(\"models/{}.model\".format(filepath, monitor=\"mse\", verbose=1, save_best_only=True, mode=\"max\"))"
   ],
   "outputs": [
    {
     "output_type": "stream",
     "name": "stderr",
     "text": [
      "2022-02-07 04:51:41.623429: I tensorflow/stream_executor/cuda/cuda_gpu_executor.cc:939] successful NUMA node read from SysFS had negative value (-1), but there must be at least one NUMA node, so returning NUMA node zero\n",
      "2022-02-07 04:51:41.623911: I tensorflow/stream_executor/cuda/cuda_gpu_executor.cc:939] successful NUMA node read from SysFS had negative value (-1), but there must be at least one NUMA node, so returning NUMA node zero\n",
      "2022-02-07 04:51:41.624313: I tensorflow/stream_executor/cuda/cuda_gpu_executor.cc:939] successful NUMA node read from SysFS had negative value (-1), but there must be at least one NUMA node, so returning NUMA node zero\n",
      "2022-02-07 04:51:41.956431: I tensorflow/stream_executor/cuda/cuda_gpu_executor.cc:939] successful NUMA node read from SysFS had negative value (-1), but there must be at least one NUMA node, so returning NUMA node zero\n",
      "2022-02-07 04:51:41.956842: I tensorflow/stream_executor/cuda/cuda_gpu_executor.cc:939] successful NUMA node read from SysFS had negative value (-1), but there must be at least one NUMA node, so returning NUMA node zero\n",
      "2022-02-07 04:51:41.957212: I tensorflow/stream_executor/cuda/cuda_gpu_executor.cc:939] successful NUMA node read from SysFS had negative value (-1), but there must be at least one NUMA node, so returning NUMA node zero\n",
      "2022-02-07 04:51:41.957551: I tensorflow/core/common_runtime/gpu/gpu_device.cc:1525] Created device /job:localhost/replica:0/task:0/device:GPU:0 with 5335 MB memory:  -> device: 0, name: NVIDIA GeForce GTX TITAN Black, pci bus id: 0000:02:00.0, compute capability: 3.5\n"
     ]
    }
   ],
   "metadata": {}
  },
  {
   "cell_type": "code",
   "execution_count": 24,
   "source": [
    "with tf.device(\"/device:GPU:0\"):\n",
    "    history = model.fit(x=train_x, y=train_y,\n",
    "                        batch_size=BATCH_SIZE,\n",
    "                        epochs=EPOCHS,\n",
    "                        validation_data=(validation_x, validation_y),\n",
    "                        callbacks=[tb, checkpoint]\n",
    "                        )"
   ],
   "outputs": [
    {
     "output_type": "stream",
     "name": "stdout",
     "text": [
      "Epoch 1/20\n"
     ]
    },
    {
     "output_type": "stream",
     "name": "stderr",
     "text": [
      "2022-02-07 04:51:53.205065: I tensorflow/stream_executor/cuda/cuda_dnn.cc:366] Loaded cuDNN version 8204\n"
     ]
    },
    {
     "output_type": "stream",
     "name": "stdout",
     "text": [
      "571/572 [============================>.] - ETA: 0s - loss: 1.1815 - mse: 1.1815"
     ]
    },
    {
     "output_type": "stream",
     "name": "stderr",
     "text": [
      "2022-02-07 04:52:12.903380: W tensorflow/python/util/util.cc:368] Sets are not currently considered sequences, but this may change in the future, so consider avoiding using them.\n",
      "WARNING:absl:Found untraced functions such as lstm_cell_layer_call_fn, lstm_cell_layer_call_and_return_conditional_losses, lstm_cell_1_layer_call_fn, lstm_cell_1_layer_call_and_return_conditional_losses, lstm_cell_2_layer_call_fn while saving (showing 5 of 15). These functions will not be directly callable after loading.\n"
     ]
    },
    {
     "output_type": "stream",
     "name": "stdout",
     "text": [
      "INFO:tensorflow:Assets written to: models/TANH-e20-b64-s24-fpp1-1644209479-e01-vacc1.181-1644209502.model/assets\n"
     ]
    },
    {
     "output_type": "stream",
     "name": "stderr",
     "text": [
      "INFO:tensorflow:Assets written to: models/TANH-e20-b64-s24-fpp1-1644209479-e01-vacc1.181-1644209502.model/assets\n",
      "WARNING:absl:<keras.layers.recurrent.LSTMCell object at 0x7ff9ac89e7c0> has the same name 'LSTMCell' as a built-in Keras object. Consider renaming <class 'keras.layers.recurrent.LSTMCell'> to avoid naming conflicts when loading with `tf.keras.models.load_model`. If renaming is not possible, pass the object in the `custom_objects` parameter of the load function.\n",
      "WARNING:absl:<keras.layers.recurrent.LSTMCell object at 0x7ffa1ffc0eb0> has the same name 'LSTMCell' as a built-in Keras object. Consider renaming <class 'keras.layers.recurrent.LSTMCell'> to avoid naming conflicts when loading with `tf.keras.models.load_model`. If renaming is not possible, pass the object in the `custom_objects` parameter of the load function.\n",
      "WARNING:absl:<keras.layers.recurrent.LSTMCell object at 0x7ffa247f77f0> has the same name 'LSTMCell' as a built-in Keras object. Consider renaming <class 'keras.layers.recurrent.LSTMCell'> to avoid naming conflicts when loading with `tf.keras.models.load_model`. If renaming is not possible, pass the object in the `custom_objects` parameter of the load function.\n"
     ]
    },
    {
     "output_type": "stream",
     "name": "stdout",
     "text": [
      "572/572 [==============================] - 31s 45ms/step - loss: 1.1810 - mse: 1.1810 - val_loss: 1.0176 - val_mse: 1.0176\n",
      "Epoch 2/20\n",
      "570/572 [============================>.] - ETA: 0s - loss: 1.0175 - mse: 1.0175"
     ]
    },
    {
     "output_type": "stream",
     "name": "stderr",
     "text": [
      "WARNING:absl:Found untraced functions such as lstm_cell_layer_call_fn, lstm_cell_layer_call_and_return_conditional_losses, lstm_cell_1_layer_call_fn, lstm_cell_1_layer_call_and_return_conditional_losses, lstm_cell_2_layer_call_fn while saving (showing 5 of 15). These functions will not be directly callable after loading.\n"
     ]
    },
    {
     "output_type": "stream",
     "name": "stdout",
     "text": [
      "INFO:tensorflow:Assets written to: models/TANH-e20-b64-s24-fpp1-1644209479-e02-vacc1.020-1644209502.model/assets\n"
     ]
    },
    {
     "output_type": "stream",
     "name": "stderr",
     "text": [
      "INFO:tensorflow:Assets written to: models/TANH-e20-b64-s24-fpp1-1644209479-e02-vacc1.020-1644209502.model/assets\n",
      "WARNING:absl:<keras.layers.recurrent.LSTMCell object at 0x7ff9ac89e7c0> has the same name 'LSTMCell' as a built-in Keras object. Consider renaming <class 'keras.layers.recurrent.LSTMCell'> to avoid naming conflicts when loading with `tf.keras.models.load_model`. If renaming is not possible, pass the object in the `custom_objects` parameter of the load function.\n",
      "WARNING:absl:<keras.layers.recurrent.LSTMCell object at 0x7ffa1ffc0eb0> has the same name 'LSTMCell' as a built-in Keras object. Consider renaming <class 'keras.layers.recurrent.LSTMCell'> to avoid naming conflicts when loading with `tf.keras.models.load_model`. If renaming is not possible, pass the object in the `custom_objects` parameter of the load function.\n",
      "WARNING:absl:<keras.layers.recurrent.LSTMCell object at 0x7ffa247f77f0> has the same name 'LSTMCell' as a built-in Keras object. Consider renaming <class 'keras.layers.recurrent.LSTMCell'> to avoid naming conflicts when loading with `tf.keras.models.load_model`. If renaming is not possible, pass the object in the `custom_objects` parameter of the load function.\n"
     ]
    },
    {
     "output_type": "stream",
     "name": "stdout",
     "text": [
      "572/572 [==============================] - 25s 44ms/step - loss: 1.0199 - mse: 1.0199 - val_loss: 1.0125 - val_mse: 1.0125\n",
      "Epoch 3/20\n",
      "571/572 [============================>.] - ETA: 0s - loss: 1.0057 - mse: 1.0057"
     ]
    },
    {
     "output_type": "stream",
     "name": "stderr",
     "text": [
      "WARNING:absl:Found untraced functions such as lstm_cell_layer_call_fn, lstm_cell_layer_call_and_return_conditional_losses, lstm_cell_1_layer_call_fn, lstm_cell_1_layer_call_and_return_conditional_losses, lstm_cell_2_layer_call_fn while saving (showing 5 of 15). These functions will not be directly callable after loading.\n"
     ]
    },
    {
     "output_type": "stream",
     "name": "stdout",
     "text": [
      "INFO:tensorflow:Assets written to: models/TANH-e20-b64-s24-fpp1-1644209479-e03-vacc1.005-1644209502.model/assets\n"
     ]
    },
    {
     "output_type": "stream",
     "name": "stderr",
     "text": [
      "INFO:tensorflow:Assets written to: models/TANH-e20-b64-s24-fpp1-1644209479-e03-vacc1.005-1644209502.model/assets\n",
      "WARNING:absl:<keras.layers.recurrent.LSTMCell object at 0x7ff9ac89e7c0> has the same name 'LSTMCell' as a built-in Keras object. Consider renaming <class 'keras.layers.recurrent.LSTMCell'> to avoid naming conflicts when loading with `tf.keras.models.load_model`. If renaming is not possible, pass the object in the `custom_objects` parameter of the load function.\n",
      "WARNING:absl:<keras.layers.recurrent.LSTMCell object at 0x7ffa1ffc0eb0> has the same name 'LSTMCell' as a built-in Keras object. Consider renaming <class 'keras.layers.recurrent.LSTMCell'> to avoid naming conflicts when loading with `tf.keras.models.load_model`. If renaming is not possible, pass the object in the `custom_objects` parameter of the load function.\n",
      "WARNING:absl:<keras.layers.recurrent.LSTMCell object at 0x7ffa247f77f0> has the same name 'LSTMCell' as a built-in Keras object. Consider renaming <class 'keras.layers.recurrent.LSTMCell'> to avoid naming conflicts when loading with `tf.keras.models.load_model`. If renaming is not possible, pass the object in the `custom_objects` parameter of the load function.\n"
     ]
    },
    {
     "output_type": "stream",
     "name": "stdout",
     "text": [
      "572/572 [==============================] - 25s 44ms/step - loss: 1.0053 - mse: 1.0053 - val_loss: 1.0116 - val_mse: 1.0116\n",
      "Epoch 4/20\n",
      "571/572 [============================>.] - ETA: 0s - loss: 1.0017 - mse: 1.0017"
     ]
    },
    {
     "output_type": "stream",
     "name": "stderr",
     "text": [
      "WARNING:absl:Found untraced functions such as lstm_cell_layer_call_fn, lstm_cell_layer_call_and_return_conditional_losses, lstm_cell_1_layer_call_fn, lstm_cell_1_layer_call_and_return_conditional_losses, lstm_cell_2_layer_call_fn while saving (showing 5 of 15). These functions will not be directly callable after loading.\n"
     ]
    },
    {
     "output_type": "stream",
     "name": "stdout",
     "text": [
      "INFO:tensorflow:Assets written to: models/TANH-e20-b64-s24-fpp1-1644209479-e04-vacc1.002-1644209502.model/assets\n"
     ]
    },
    {
     "output_type": "stream",
     "name": "stderr",
     "text": [
      "INFO:tensorflow:Assets written to: models/TANH-e20-b64-s24-fpp1-1644209479-e04-vacc1.002-1644209502.model/assets\n",
      "WARNING:absl:<keras.layers.recurrent.LSTMCell object at 0x7ff9ac89e7c0> has the same name 'LSTMCell' as a built-in Keras object. Consider renaming <class 'keras.layers.recurrent.LSTMCell'> to avoid naming conflicts when loading with `tf.keras.models.load_model`. If renaming is not possible, pass the object in the `custom_objects` parameter of the load function.\n",
      "WARNING:absl:<keras.layers.recurrent.LSTMCell object at 0x7ffa1ffc0eb0> has the same name 'LSTMCell' as a built-in Keras object. Consider renaming <class 'keras.layers.recurrent.LSTMCell'> to avoid naming conflicts when loading with `tf.keras.models.load_model`. If renaming is not possible, pass the object in the `custom_objects` parameter of the load function.\n",
      "WARNING:absl:<keras.layers.recurrent.LSTMCell object at 0x7ffa247f77f0> has the same name 'LSTMCell' as a built-in Keras object. Consider renaming <class 'keras.layers.recurrent.LSTMCell'> to avoid naming conflicts when loading with `tf.keras.models.load_model`. If renaming is not possible, pass the object in the `custom_objects` parameter of the load function.\n"
     ]
    },
    {
     "output_type": "stream",
     "name": "stdout",
     "text": [
      "572/572 [==============================] - 25s 44ms/step - loss: 1.0018 - mse: 1.0018 - val_loss: 1.0130 - val_mse: 1.0130\n",
      "Epoch 5/20\n",
      "572/572 [==============================] - ETA: 0s - loss: 1.0008 - mse: 1.0008"
     ]
    },
    {
     "output_type": "stream",
     "name": "stderr",
     "text": [
      "WARNING:absl:Found untraced functions such as lstm_cell_layer_call_fn, lstm_cell_layer_call_and_return_conditional_losses, lstm_cell_1_layer_call_fn, lstm_cell_1_layer_call_and_return_conditional_losses, lstm_cell_2_layer_call_fn while saving (showing 5 of 15). These functions will not be directly callable after loading.\n"
     ]
    },
    {
     "output_type": "stream",
     "name": "stdout",
     "text": [
      "INFO:tensorflow:Assets written to: models/TANH-e20-b64-s24-fpp1-1644209479-e05-vacc1.001-1644209502.model/assets\n"
     ]
    },
    {
     "output_type": "stream",
     "name": "stderr",
     "text": [
      "INFO:tensorflow:Assets written to: models/TANH-e20-b64-s24-fpp1-1644209479-e05-vacc1.001-1644209502.model/assets\n",
      "WARNING:absl:<keras.layers.recurrent.LSTMCell object at 0x7ff9ac89e7c0> has the same name 'LSTMCell' as a built-in Keras object. Consider renaming <class 'keras.layers.recurrent.LSTMCell'> to avoid naming conflicts when loading with `tf.keras.models.load_model`. If renaming is not possible, pass the object in the `custom_objects` parameter of the load function.\n",
      "WARNING:absl:<keras.layers.recurrent.LSTMCell object at 0x7ffa1ffc0eb0> has the same name 'LSTMCell' as a built-in Keras object. Consider renaming <class 'keras.layers.recurrent.LSTMCell'> to avoid naming conflicts when loading with `tf.keras.models.load_model`. If renaming is not possible, pass the object in the `custom_objects` parameter of the load function.\n",
      "WARNING:absl:<keras.layers.recurrent.LSTMCell object at 0x7ffa247f77f0> has the same name 'LSTMCell' as a built-in Keras object. Consider renaming <class 'keras.layers.recurrent.LSTMCell'> to avoid naming conflicts when loading with `tf.keras.models.load_model`. If renaming is not possible, pass the object in the `custom_objects` parameter of the load function.\n"
     ]
    },
    {
     "output_type": "stream",
     "name": "stdout",
     "text": [
      "572/572 [==============================] - 25s 44ms/step - loss: 1.0008 - mse: 1.0008 - val_loss: 1.0092 - val_mse: 1.0092\n",
      "Epoch 6/20\n",
      "572/572 [==============================] - ETA: 0s - loss: 1.0011 - mse: 1.0011"
     ]
    },
    {
     "output_type": "stream",
     "name": "stderr",
     "text": [
      "WARNING:absl:Found untraced functions such as lstm_cell_layer_call_fn, lstm_cell_layer_call_and_return_conditional_losses, lstm_cell_1_layer_call_fn, lstm_cell_1_layer_call_and_return_conditional_losses, lstm_cell_2_layer_call_fn while saving (showing 5 of 15). These functions will not be directly callable after loading.\n"
     ]
    },
    {
     "output_type": "stream",
     "name": "stdout",
     "text": [
      "INFO:tensorflow:Assets written to: models/TANH-e20-b64-s24-fpp1-1644209479-e06-vacc1.001-1644209502.model/assets\n"
     ]
    },
    {
     "output_type": "stream",
     "name": "stderr",
     "text": [
      "INFO:tensorflow:Assets written to: models/TANH-e20-b64-s24-fpp1-1644209479-e06-vacc1.001-1644209502.model/assets\n",
      "WARNING:absl:<keras.layers.recurrent.LSTMCell object at 0x7ff9ac89e7c0> has the same name 'LSTMCell' as a built-in Keras object. Consider renaming <class 'keras.layers.recurrent.LSTMCell'> to avoid naming conflicts when loading with `tf.keras.models.load_model`. If renaming is not possible, pass the object in the `custom_objects` parameter of the load function.\n",
      "WARNING:absl:<keras.layers.recurrent.LSTMCell object at 0x7ffa1ffc0eb0> has the same name 'LSTMCell' as a built-in Keras object. Consider renaming <class 'keras.layers.recurrent.LSTMCell'> to avoid naming conflicts when loading with `tf.keras.models.load_model`. If renaming is not possible, pass the object in the `custom_objects` parameter of the load function.\n",
      "WARNING:absl:<keras.layers.recurrent.LSTMCell object at 0x7ffa247f77f0> has the same name 'LSTMCell' as a built-in Keras object. Consider renaming <class 'keras.layers.recurrent.LSTMCell'> to avoid naming conflicts when loading with `tf.keras.models.load_model`. If renaming is not possible, pass the object in the `custom_objects` parameter of the load function.\n"
     ]
    },
    {
     "output_type": "stream",
     "name": "stdout",
     "text": [
      "572/572 [==============================] - 25s 44ms/step - loss: 1.0011 - mse: 1.0011 - val_loss: 1.0103 - val_mse: 1.0103\n",
      "Epoch 7/20\n",
      "572/572 [==============================] - ETA: 0s - loss: 0.9989 - mse: 0.9989"
     ]
    },
    {
     "output_type": "stream",
     "name": "stderr",
     "text": [
      "WARNING:absl:Found untraced functions such as lstm_cell_layer_call_fn, lstm_cell_layer_call_and_return_conditional_losses, lstm_cell_1_layer_call_fn, lstm_cell_1_layer_call_and_return_conditional_losses, lstm_cell_2_layer_call_fn while saving (showing 5 of 15). These functions will not be directly callable after loading.\n"
     ]
    },
    {
     "output_type": "stream",
     "name": "stdout",
     "text": [
      "INFO:tensorflow:Assets written to: models/TANH-e20-b64-s24-fpp1-1644209479-e07-vacc0.999-1644209502.model/assets\n"
     ]
    },
    {
     "output_type": "stream",
     "name": "stderr",
     "text": [
      "INFO:tensorflow:Assets written to: models/TANH-e20-b64-s24-fpp1-1644209479-e07-vacc0.999-1644209502.model/assets\n",
      "WARNING:absl:<keras.layers.recurrent.LSTMCell object at 0x7ff9ac89e7c0> has the same name 'LSTMCell' as a built-in Keras object. Consider renaming <class 'keras.layers.recurrent.LSTMCell'> to avoid naming conflicts when loading with `tf.keras.models.load_model`. If renaming is not possible, pass the object in the `custom_objects` parameter of the load function.\n",
      "WARNING:absl:<keras.layers.recurrent.LSTMCell object at 0x7ffa1ffc0eb0> has the same name 'LSTMCell' as a built-in Keras object. Consider renaming <class 'keras.layers.recurrent.LSTMCell'> to avoid naming conflicts when loading with `tf.keras.models.load_model`. If renaming is not possible, pass the object in the `custom_objects` parameter of the load function.\n",
      "WARNING:absl:<keras.layers.recurrent.LSTMCell object at 0x7ffa247f77f0> has the same name 'LSTMCell' as a built-in Keras object. Consider renaming <class 'keras.layers.recurrent.LSTMCell'> to avoid naming conflicts when loading with `tf.keras.models.load_model`. If renaming is not possible, pass the object in the `custom_objects` parameter of the load function.\n"
     ]
    },
    {
     "output_type": "stream",
     "name": "stdout",
     "text": [
      "572/572 [==============================] - 25s 44ms/step - loss: 0.9989 - mse: 0.9989 - val_loss: 1.0105 - val_mse: 1.0105\n",
      "Epoch 8/20\n",
      "572/572 [==============================] - ETA: 0s - loss: 0.9982 - mse: 0.9982"
     ]
    },
    {
     "output_type": "stream",
     "name": "stderr",
     "text": [
      "WARNING:absl:Found untraced functions such as lstm_cell_layer_call_fn, lstm_cell_layer_call_and_return_conditional_losses, lstm_cell_1_layer_call_fn, lstm_cell_1_layer_call_and_return_conditional_losses, lstm_cell_2_layer_call_fn while saving (showing 5 of 15). These functions will not be directly callable after loading.\n"
     ]
    },
    {
     "output_type": "stream",
     "name": "stdout",
     "text": [
      "INFO:tensorflow:Assets written to: models/TANH-e20-b64-s24-fpp1-1644209479-e08-vacc0.998-1644209502.model/assets\n"
     ]
    },
    {
     "output_type": "stream",
     "name": "stderr",
     "text": [
      "INFO:tensorflow:Assets written to: models/TANH-e20-b64-s24-fpp1-1644209479-e08-vacc0.998-1644209502.model/assets\n",
      "WARNING:absl:<keras.layers.recurrent.LSTMCell object at 0x7ff9ac89e7c0> has the same name 'LSTMCell' as a built-in Keras object. Consider renaming <class 'keras.layers.recurrent.LSTMCell'> to avoid naming conflicts when loading with `tf.keras.models.load_model`. If renaming is not possible, pass the object in the `custom_objects` parameter of the load function.\n",
      "WARNING:absl:<keras.layers.recurrent.LSTMCell object at 0x7ffa1ffc0eb0> has the same name 'LSTMCell' as a built-in Keras object. Consider renaming <class 'keras.layers.recurrent.LSTMCell'> to avoid naming conflicts when loading with `tf.keras.models.load_model`. If renaming is not possible, pass the object in the `custom_objects` parameter of the load function.\n",
      "WARNING:absl:<keras.layers.recurrent.LSTMCell object at 0x7ffa247f77f0> has the same name 'LSTMCell' as a built-in Keras object. Consider renaming <class 'keras.layers.recurrent.LSTMCell'> to avoid naming conflicts when loading with `tf.keras.models.load_model`. If renaming is not possible, pass the object in the `custom_objects` parameter of the load function.\n"
     ]
    },
    {
     "output_type": "stream",
     "name": "stdout",
     "text": [
      "572/572 [==============================] - 25s 44ms/step - loss: 0.9982 - mse: 0.9982 - val_loss: 1.0117 - val_mse: 1.0117\n",
      "Epoch 9/20\n",
      "572/572 [==============================] - ETA: 0s - loss: 1.0006 - mse: 1.0006"
     ]
    },
    {
     "output_type": "stream",
     "name": "stderr",
     "text": [
      "WARNING:absl:Found untraced functions such as lstm_cell_layer_call_fn, lstm_cell_layer_call_and_return_conditional_losses, lstm_cell_1_layer_call_fn, lstm_cell_1_layer_call_and_return_conditional_losses, lstm_cell_2_layer_call_fn while saving (showing 5 of 15). These functions will not be directly callable after loading.\n"
     ]
    },
    {
     "output_type": "stream",
     "name": "stdout",
     "text": [
      "INFO:tensorflow:Assets written to: models/TANH-e20-b64-s24-fpp1-1644209479-e09-vacc1.001-1644209502.model/assets\n"
     ]
    },
    {
     "output_type": "stream",
     "name": "stderr",
     "text": [
      "INFO:tensorflow:Assets written to: models/TANH-e20-b64-s24-fpp1-1644209479-e09-vacc1.001-1644209502.model/assets\n",
      "WARNING:absl:<keras.layers.recurrent.LSTMCell object at 0x7ff9ac89e7c0> has the same name 'LSTMCell' as a built-in Keras object. Consider renaming <class 'keras.layers.recurrent.LSTMCell'> to avoid naming conflicts when loading with `tf.keras.models.load_model`. If renaming is not possible, pass the object in the `custom_objects` parameter of the load function.\n",
      "WARNING:absl:<keras.layers.recurrent.LSTMCell object at 0x7ffa1ffc0eb0> has the same name 'LSTMCell' as a built-in Keras object. Consider renaming <class 'keras.layers.recurrent.LSTMCell'> to avoid naming conflicts when loading with `tf.keras.models.load_model`. If renaming is not possible, pass the object in the `custom_objects` parameter of the load function.\n",
      "WARNING:absl:<keras.layers.recurrent.LSTMCell object at 0x7ffa247f77f0> has the same name 'LSTMCell' as a built-in Keras object. Consider renaming <class 'keras.layers.recurrent.LSTMCell'> to avoid naming conflicts when loading with `tf.keras.models.load_model`. If renaming is not possible, pass the object in the `custom_objects` parameter of the load function.\n"
     ]
    },
    {
     "output_type": "stream",
     "name": "stdout",
     "text": [
      "572/572 [==============================] - 25s 44ms/step - loss: 1.0006 - mse: 1.0006 - val_loss: 1.0104 - val_mse: 1.0104\n",
      "Epoch 10/20\n",
      "572/572 [==============================] - ETA: 0s - loss: 1.0008 - mse: 1.0008"
     ]
    },
    {
     "output_type": "stream",
     "name": "stderr",
     "text": [
      "WARNING:absl:Found untraced functions such as lstm_cell_layer_call_fn, lstm_cell_layer_call_and_return_conditional_losses, lstm_cell_1_layer_call_fn, lstm_cell_1_layer_call_and_return_conditional_losses, lstm_cell_2_layer_call_fn while saving (showing 5 of 15). These functions will not be directly callable after loading.\n"
     ]
    },
    {
     "output_type": "stream",
     "name": "stdout",
     "text": [
      "INFO:tensorflow:Assets written to: models/TANH-e20-b64-s24-fpp1-1644209479-e10-vacc1.001-1644209502.model/assets\n"
     ]
    },
    {
     "output_type": "stream",
     "name": "stderr",
     "text": [
      "INFO:tensorflow:Assets written to: models/TANH-e20-b64-s24-fpp1-1644209479-e10-vacc1.001-1644209502.model/assets\n",
      "WARNING:absl:<keras.layers.recurrent.LSTMCell object at 0x7ff9ac89e7c0> has the same name 'LSTMCell' as a built-in Keras object. Consider renaming <class 'keras.layers.recurrent.LSTMCell'> to avoid naming conflicts when loading with `tf.keras.models.load_model`. If renaming is not possible, pass the object in the `custom_objects` parameter of the load function.\n",
      "WARNING:absl:<keras.layers.recurrent.LSTMCell object at 0x7ffa1ffc0eb0> has the same name 'LSTMCell' as a built-in Keras object. Consider renaming <class 'keras.layers.recurrent.LSTMCell'> to avoid naming conflicts when loading with `tf.keras.models.load_model`. If renaming is not possible, pass the object in the `custom_objects` parameter of the load function.\n",
      "WARNING:absl:<keras.layers.recurrent.LSTMCell object at 0x7ffa247f77f0> has the same name 'LSTMCell' as a built-in Keras object. Consider renaming <class 'keras.layers.recurrent.LSTMCell'> to avoid naming conflicts when loading with `tf.keras.models.load_model`. If renaming is not possible, pass the object in the `custom_objects` parameter of the load function.\n"
     ]
    },
    {
     "output_type": "stream",
     "name": "stdout",
     "text": [
      "572/572 [==============================] - 25s 44ms/step - loss: 1.0008 - mse: 1.0008 - val_loss: 1.0107 - val_mse: 1.0107\n",
      "Epoch 11/20\n",
      "570/572 [============================>.] - ETA: 0s - loss: 1.0016 - mse: 1.0016"
     ]
    },
    {
     "output_type": "stream",
     "name": "stderr",
     "text": [
      "WARNING:absl:Found untraced functions such as lstm_cell_layer_call_fn, lstm_cell_layer_call_and_return_conditional_losses, lstm_cell_1_layer_call_fn, lstm_cell_1_layer_call_and_return_conditional_losses, lstm_cell_2_layer_call_fn while saving (showing 5 of 15). These functions will not be directly callable after loading.\n"
     ]
    },
    {
     "output_type": "stream",
     "name": "stdout",
     "text": [
      "INFO:tensorflow:Assets written to: models/TANH-e20-b64-s24-fpp1-1644209479-e11-vacc1.001-1644209502.model/assets\n"
     ]
    },
    {
     "output_type": "stream",
     "name": "stderr",
     "text": [
      "INFO:tensorflow:Assets written to: models/TANH-e20-b64-s24-fpp1-1644209479-e11-vacc1.001-1644209502.model/assets\n",
      "WARNING:absl:<keras.layers.recurrent.LSTMCell object at 0x7ff9ac89e7c0> has the same name 'LSTMCell' as a built-in Keras object. Consider renaming <class 'keras.layers.recurrent.LSTMCell'> to avoid naming conflicts when loading with `tf.keras.models.load_model`. If renaming is not possible, pass the object in the `custom_objects` parameter of the load function.\n",
      "WARNING:absl:<keras.layers.recurrent.LSTMCell object at 0x7ffa1ffc0eb0> has the same name 'LSTMCell' as a built-in Keras object. Consider renaming <class 'keras.layers.recurrent.LSTMCell'> to avoid naming conflicts when loading with `tf.keras.models.load_model`. If renaming is not possible, pass the object in the `custom_objects` parameter of the load function.\n",
      "WARNING:absl:<keras.layers.recurrent.LSTMCell object at 0x7ffa247f77f0> has the same name 'LSTMCell' as a built-in Keras object. Consider renaming <class 'keras.layers.recurrent.LSTMCell'> to avoid naming conflicts when loading with `tf.keras.models.load_model`. If renaming is not possible, pass the object in the `custom_objects` parameter of the load function.\n"
     ]
    },
    {
     "output_type": "stream",
     "name": "stdout",
     "text": [
      "572/572 [==============================] - 25s 44ms/step - loss: 1.0006 - mse: 1.0006 - val_loss: 1.0099 - val_mse: 1.0099\n",
      "Epoch 12/20\n",
      "571/572 [============================>.] - ETA: 0s - loss: 1.0001 - mse: 1.0001"
     ]
    },
    {
     "output_type": "stream",
     "name": "stderr",
     "text": [
      "WARNING:absl:Found untraced functions such as lstm_cell_layer_call_fn, lstm_cell_layer_call_and_return_conditional_losses, lstm_cell_1_layer_call_fn, lstm_cell_1_layer_call_and_return_conditional_losses, lstm_cell_2_layer_call_fn while saving (showing 5 of 15). These functions will not be directly callable after loading.\n"
     ]
    },
    {
     "output_type": "stream",
     "name": "stdout",
     "text": [
      "INFO:tensorflow:Assets written to: models/TANH-e20-b64-s24-fpp1-1644209479-e12-vacc1.000-1644209502.model/assets\n"
     ]
    },
    {
     "output_type": "stream",
     "name": "stderr",
     "text": [
      "INFO:tensorflow:Assets written to: models/TANH-e20-b64-s24-fpp1-1644209479-e12-vacc1.000-1644209502.model/assets\n",
      "WARNING:absl:<keras.layers.recurrent.LSTMCell object at 0x7ff9ac89e7c0> has the same name 'LSTMCell' as a built-in Keras object. Consider renaming <class 'keras.layers.recurrent.LSTMCell'> to avoid naming conflicts when loading with `tf.keras.models.load_model`. If renaming is not possible, pass the object in the `custom_objects` parameter of the load function.\n",
      "WARNING:absl:<keras.layers.recurrent.LSTMCell object at 0x7ffa1ffc0eb0> has the same name 'LSTMCell' as a built-in Keras object. Consider renaming <class 'keras.layers.recurrent.LSTMCell'> to avoid naming conflicts when loading with `tf.keras.models.load_model`. If renaming is not possible, pass the object in the `custom_objects` parameter of the load function.\n",
      "WARNING:absl:<keras.layers.recurrent.LSTMCell object at 0x7ffa247f77f0> has the same name 'LSTMCell' as a built-in Keras object. Consider renaming <class 'keras.layers.recurrent.LSTMCell'> to avoid naming conflicts when loading with `tf.keras.models.load_model`. If renaming is not possible, pass the object in the `custom_objects` parameter of the load function.\n"
     ]
    },
    {
     "output_type": "stream",
     "name": "stdout",
     "text": [
      "572/572 [==============================] - 25s 44ms/step - loss: 1.0004 - mse: 1.0004 - val_loss: 1.0100 - val_mse: 1.0100\n",
      "Epoch 13/20\n",
      "572/572 [==============================] - ETA: 0s - loss: 1.0007 - mse: 1.0007"
     ]
    },
    {
     "output_type": "stream",
     "name": "stderr",
     "text": [
      "WARNING:absl:Found untraced functions such as lstm_cell_layer_call_fn, lstm_cell_layer_call_and_return_conditional_losses, lstm_cell_1_layer_call_fn, lstm_cell_1_layer_call_and_return_conditional_losses, lstm_cell_2_layer_call_fn while saving (showing 5 of 15). These functions will not be directly callable after loading.\n"
     ]
    },
    {
     "output_type": "stream",
     "name": "stdout",
     "text": [
      "INFO:tensorflow:Assets written to: models/TANH-e20-b64-s24-fpp1-1644209479-e13-vacc1.001-1644209502.model/assets\n"
     ]
    },
    {
     "output_type": "stream",
     "name": "stderr",
     "text": [
      "INFO:tensorflow:Assets written to: models/TANH-e20-b64-s24-fpp1-1644209479-e13-vacc1.001-1644209502.model/assets\n",
      "WARNING:absl:<keras.layers.recurrent.LSTMCell object at 0x7ff9ac89e7c0> has the same name 'LSTMCell' as a built-in Keras object. Consider renaming <class 'keras.layers.recurrent.LSTMCell'> to avoid naming conflicts when loading with `tf.keras.models.load_model`. If renaming is not possible, pass the object in the `custom_objects` parameter of the load function.\n",
      "WARNING:absl:<keras.layers.recurrent.LSTMCell object at 0x7ffa1ffc0eb0> has the same name 'LSTMCell' as a built-in Keras object. Consider renaming <class 'keras.layers.recurrent.LSTMCell'> to avoid naming conflicts when loading with `tf.keras.models.load_model`. If renaming is not possible, pass the object in the `custom_objects` parameter of the load function.\n",
      "WARNING:absl:<keras.layers.recurrent.LSTMCell object at 0x7ffa247f77f0> has the same name 'LSTMCell' as a built-in Keras object. Consider renaming <class 'keras.layers.recurrent.LSTMCell'> to avoid naming conflicts when loading with `tf.keras.models.load_model`. If renaming is not possible, pass the object in the `custom_objects` parameter of the load function.\n"
     ]
    },
    {
     "output_type": "stream",
     "name": "stdout",
     "text": [
      "572/572 [==============================] - 25s 44ms/step - loss: 1.0007 - mse: 1.0007 - val_loss: 1.0099 - val_mse: 1.0099\n",
      "Epoch 14/20\n",
      "571/572 [============================>.] - ETA: 0s - loss: 1.0007 - mse: 1.0007"
     ]
    },
    {
     "output_type": "stream",
     "name": "stderr",
     "text": [
      "WARNING:absl:Found untraced functions such as lstm_cell_layer_call_fn, lstm_cell_layer_call_and_return_conditional_losses, lstm_cell_1_layer_call_fn, lstm_cell_1_layer_call_and_return_conditional_losses, lstm_cell_2_layer_call_fn while saving (showing 5 of 15). These functions will not be directly callable after loading.\n"
     ]
    },
    {
     "output_type": "stream",
     "name": "stdout",
     "text": [
      "INFO:tensorflow:Assets written to: models/TANH-e20-b64-s24-fpp1-1644209479-e14-vacc1.000-1644209502.model/assets\n"
     ]
    },
    {
     "output_type": "stream",
     "name": "stderr",
     "text": [
      "INFO:tensorflow:Assets written to: models/TANH-e20-b64-s24-fpp1-1644209479-e14-vacc1.000-1644209502.model/assets\n",
      "WARNING:absl:<keras.layers.recurrent.LSTMCell object at 0x7ff9ac89e7c0> has the same name 'LSTMCell' as a built-in Keras object. Consider renaming <class 'keras.layers.recurrent.LSTMCell'> to avoid naming conflicts when loading with `tf.keras.models.load_model`. If renaming is not possible, pass the object in the `custom_objects` parameter of the load function.\n",
      "WARNING:absl:<keras.layers.recurrent.LSTMCell object at 0x7ffa1ffc0eb0> has the same name 'LSTMCell' as a built-in Keras object. Consider renaming <class 'keras.layers.recurrent.LSTMCell'> to avoid naming conflicts when loading with `tf.keras.models.load_model`. If renaming is not possible, pass the object in the `custom_objects` parameter of the load function.\n",
      "WARNING:absl:<keras.layers.recurrent.LSTMCell object at 0x7ffa247f77f0> has the same name 'LSTMCell' as a built-in Keras object. Consider renaming <class 'keras.layers.recurrent.LSTMCell'> to avoid naming conflicts when loading with `tf.keras.models.load_model`. If renaming is not possible, pass the object in the `custom_objects` parameter of the load function.\n"
     ]
    },
    {
     "output_type": "stream",
     "name": "stdout",
     "text": [
      "572/572 [==============================] - 25s 44ms/step - loss: 1.0003 - mse: 1.0003 - val_loss: 1.0101 - val_mse: 1.0101\n",
      "Epoch 15/20\n",
      "572/572 [==============================] - ETA: 0s - loss: 1.0001 - mse: 1.0001"
     ]
    },
    {
     "output_type": "stream",
     "name": "stderr",
     "text": [
      "WARNING:absl:Found untraced functions such as lstm_cell_layer_call_fn, lstm_cell_layer_call_and_return_conditional_losses, lstm_cell_1_layer_call_fn, lstm_cell_1_layer_call_and_return_conditional_losses, lstm_cell_2_layer_call_fn while saving (showing 5 of 15). These functions will not be directly callable after loading.\n"
     ]
    },
    {
     "output_type": "stream",
     "name": "stdout",
     "text": [
      "INFO:tensorflow:Assets written to: models/TANH-e20-b64-s24-fpp1-1644209479-e15-vacc1.000-1644209502.model/assets\n"
     ]
    },
    {
     "output_type": "stream",
     "name": "stderr",
     "text": [
      "INFO:tensorflow:Assets written to: models/TANH-e20-b64-s24-fpp1-1644209479-e15-vacc1.000-1644209502.model/assets\n",
      "WARNING:absl:<keras.layers.recurrent.LSTMCell object at 0x7ff9ac89e7c0> has the same name 'LSTMCell' as a built-in Keras object. Consider renaming <class 'keras.layers.recurrent.LSTMCell'> to avoid naming conflicts when loading with `tf.keras.models.load_model`. If renaming is not possible, pass the object in the `custom_objects` parameter of the load function.\n",
      "WARNING:absl:<keras.layers.recurrent.LSTMCell object at 0x7ffa1ffc0eb0> has the same name 'LSTMCell' as a built-in Keras object. Consider renaming <class 'keras.layers.recurrent.LSTMCell'> to avoid naming conflicts when loading with `tf.keras.models.load_model`. If renaming is not possible, pass the object in the `custom_objects` parameter of the load function.\n",
      "WARNING:absl:<keras.layers.recurrent.LSTMCell object at 0x7ffa247f77f0> has the same name 'LSTMCell' as a built-in Keras object. Consider renaming <class 'keras.layers.recurrent.LSTMCell'> to avoid naming conflicts when loading with `tf.keras.models.load_model`. If renaming is not possible, pass the object in the `custom_objects` parameter of the load function.\n"
     ]
    },
    {
     "output_type": "stream",
     "name": "stdout",
     "text": [
      "572/572 [==============================] - 25s 43ms/step - loss: 1.0001 - mse: 1.0001 - val_loss: 1.0105 - val_mse: 1.0105\n",
      "Epoch 16/20\n",
      "570/572 [============================>.] - ETA: 0s - loss: 1.0002 - mse: 1.0002"
     ]
    },
    {
     "output_type": "stream",
     "name": "stderr",
     "text": [
      "WARNING:absl:Found untraced functions such as lstm_cell_layer_call_fn, lstm_cell_layer_call_and_return_conditional_losses, lstm_cell_1_layer_call_fn, lstm_cell_1_layer_call_and_return_conditional_losses, lstm_cell_2_layer_call_fn while saving (showing 5 of 15). These functions will not be directly callable after loading.\n"
     ]
    },
    {
     "output_type": "stream",
     "name": "stdout",
     "text": [
      "INFO:tensorflow:Assets written to: models/TANH-e20-b64-s24-fpp1-1644209479-e16-vacc1.000-1644209502.model/assets\n"
     ]
    },
    {
     "output_type": "stream",
     "name": "stderr",
     "text": [
      "INFO:tensorflow:Assets written to: models/TANH-e20-b64-s24-fpp1-1644209479-e16-vacc1.000-1644209502.model/assets\n",
      "WARNING:absl:<keras.layers.recurrent.LSTMCell object at 0x7ff9ac89e7c0> has the same name 'LSTMCell' as a built-in Keras object. Consider renaming <class 'keras.layers.recurrent.LSTMCell'> to avoid naming conflicts when loading with `tf.keras.models.load_model`. If renaming is not possible, pass the object in the `custom_objects` parameter of the load function.\n",
      "WARNING:absl:<keras.layers.recurrent.LSTMCell object at 0x7ffa1ffc0eb0> has the same name 'LSTMCell' as a built-in Keras object. Consider renaming <class 'keras.layers.recurrent.LSTMCell'> to avoid naming conflicts when loading with `tf.keras.models.load_model`. If renaming is not possible, pass the object in the `custom_objects` parameter of the load function.\n",
      "WARNING:absl:<keras.layers.recurrent.LSTMCell object at 0x7ffa247f77f0> has the same name 'LSTMCell' as a built-in Keras object. Consider renaming <class 'keras.layers.recurrent.LSTMCell'> to avoid naming conflicts when loading with `tf.keras.models.load_model`. If renaming is not possible, pass the object in the `custom_objects` parameter of the load function.\n"
     ]
    },
    {
     "output_type": "stream",
     "name": "stdout",
     "text": [
      "572/572 [==============================] - 25s 44ms/step - loss: 1.0003 - mse: 1.0003 - val_loss: 1.0100 - val_mse: 1.0100\n",
      "Epoch 17/20\n",
      "571/572 [============================>.] - ETA: 0s - loss: 0.9992 - mse: 0.9992"
     ]
    },
    {
     "output_type": "stream",
     "name": "stderr",
     "text": [
      "WARNING:absl:Found untraced functions such as lstm_cell_layer_call_fn, lstm_cell_layer_call_and_return_conditional_losses, lstm_cell_1_layer_call_fn, lstm_cell_1_layer_call_and_return_conditional_losses, lstm_cell_2_layer_call_fn while saving (showing 5 of 15). These functions will not be directly callable after loading.\n"
     ]
    },
    {
     "output_type": "stream",
     "name": "stdout",
     "text": [
      "INFO:tensorflow:Assets written to: models/TANH-e20-b64-s24-fpp1-1644209479-e17-vacc1.000-1644209502.model/assets\n"
     ]
    },
    {
     "output_type": "stream",
     "name": "stderr",
     "text": [
      "INFO:tensorflow:Assets written to: models/TANH-e20-b64-s24-fpp1-1644209479-e17-vacc1.000-1644209502.model/assets\n",
      "WARNING:absl:<keras.layers.recurrent.LSTMCell object at 0x7ff9ac89e7c0> has the same name 'LSTMCell' as a built-in Keras object. Consider renaming <class 'keras.layers.recurrent.LSTMCell'> to avoid naming conflicts when loading with `tf.keras.models.load_model`. If renaming is not possible, pass the object in the `custom_objects` parameter of the load function.\n",
      "WARNING:absl:<keras.layers.recurrent.LSTMCell object at 0x7ffa1ffc0eb0> has the same name 'LSTMCell' as a built-in Keras object. Consider renaming <class 'keras.layers.recurrent.LSTMCell'> to avoid naming conflicts when loading with `tf.keras.models.load_model`. If renaming is not possible, pass the object in the `custom_objects` parameter of the load function.\n",
      "WARNING:absl:<keras.layers.recurrent.LSTMCell object at 0x7ffa247f77f0> has the same name 'LSTMCell' as a built-in Keras object. Consider renaming <class 'keras.layers.recurrent.LSTMCell'> to avoid naming conflicts when loading with `tf.keras.models.load_model`. If renaming is not possible, pass the object in the `custom_objects` parameter of the load function.\n"
     ]
    },
    {
     "output_type": "stream",
     "name": "stdout",
     "text": [
      "572/572 [==============================] - 25s 44ms/step - loss: 1.0004 - mse: 1.0004 - val_loss: 1.0099 - val_mse: 1.0099\n",
      "Epoch 18/20\n",
      "572/572 [==============================] - ETA: 0s - loss: 1.0002 - mse: 1.0002"
     ]
    },
    {
     "output_type": "stream",
     "name": "stderr",
     "text": [
      "WARNING:absl:Found untraced functions such as lstm_cell_layer_call_fn, lstm_cell_layer_call_and_return_conditional_losses, lstm_cell_1_layer_call_fn, lstm_cell_1_layer_call_and_return_conditional_losses, lstm_cell_2_layer_call_fn while saving (showing 5 of 15). These functions will not be directly callable after loading.\n"
     ]
    },
    {
     "output_type": "stream",
     "name": "stdout",
     "text": [
      "INFO:tensorflow:Assets written to: models/TANH-e20-b64-s24-fpp1-1644209479-e18-vacc1.000-1644209502.model/assets\n"
     ]
    },
    {
     "output_type": "stream",
     "name": "stderr",
     "text": [
      "INFO:tensorflow:Assets written to: models/TANH-e20-b64-s24-fpp1-1644209479-e18-vacc1.000-1644209502.model/assets\n",
      "WARNING:absl:<keras.layers.recurrent.LSTMCell object at 0x7ff9ac89e7c0> has the same name 'LSTMCell' as a built-in Keras object. Consider renaming <class 'keras.layers.recurrent.LSTMCell'> to avoid naming conflicts when loading with `tf.keras.models.load_model`. If renaming is not possible, pass the object in the `custom_objects` parameter of the load function.\n",
      "WARNING:absl:<keras.layers.recurrent.LSTMCell object at 0x7ffa1ffc0eb0> has the same name 'LSTMCell' as a built-in Keras object. Consider renaming <class 'keras.layers.recurrent.LSTMCell'> to avoid naming conflicts when loading with `tf.keras.models.load_model`. If renaming is not possible, pass the object in the `custom_objects` parameter of the load function.\n",
      "WARNING:absl:<keras.layers.recurrent.LSTMCell object at 0x7ffa247f77f0> has the same name 'LSTMCell' as a built-in Keras object. Consider renaming <class 'keras.layers.recurrent.LSTMCell'> to avoid naming conflicts when loading with `tf.keras.models.load_model`. If renaming is not possible, pass the object in the `custom_objects` parameter of the load function.\n"
     ]
    },
    {
     "output_type": "stream",
     "name": "stdout",
     "text": [
      "572/572 [==============================] - 25s 44ms/step - loss: 1.0002 - mse: 1.0002 - val_loss: 1.0100 - val_mse: 1.0100\n",
      "Epoch 19/20\n",
      "571/572 [============================>.] - ETA: 0s - loss: 1.0005 - mse: 1.0005"
     ]
    },
    {
     "output_type": "stream",
     "name": "stderr",
     "text": [
      "WARNING:absl:Found untraced functions such as lstm_cell_layer_call_fn, lstm_cell_layer_call_and_return_conditional_losses, lstm_cell_1_layer_call_fn, lstm_cell_1_layer_call_and_return_conditional_losses, lstm_cell_2_layer_call_fn while saving (showing 5 of 15). These functions will not be directly callable after loading.\n"
     ]
    },
    {
     "output_type": "stream",
     "name": "stdout",
     "text": [
      "INFO:tensorflow:Assets written to: models/TANH-e20-b64-s24-fpp1-1644209479-e19-vacc1.000-1644209502.model/assets\n"
     ]
    },
    {
     "output_type": "stream",
     "name": "stderr",
     "text": [
      "INFO:tensorflow:Assets written to: models/TANH-e20-b64-s24-fpp1-1644209479-e19-vacc1.000-1644209502.model/assets\n",
      "WARNING:absl:<keras.layers.recurrent.LSTMCell object at 0x7ff9ac89e7c0> has the same name 'LSTMCell' as a built-in Keras object. Consider renaming <class 'keras.layers.recurrent.LSTMCell'> to avoid naming conflicts when loading with `tf.keras.models.load_model`. If renaming is not possible, pass the object in the `custom_objects` parameter of the load function.\n",
      "WARNING:absl:<keras.layers.recurrent.LSTMCell object at 0x7ffa1ffc0eb0> has the same name 'LSTMCell' as a built-in Keras object. Consider renaming <class 'keras.layers.recurrent.LSTMCell'> to avoid naming conflicts when loading with `tf.keras.models.load_model`. If renaming is not possible, pass the object in the `custom_objects` parameter of the load function.\n",
      "WARNING:absl:<keras.layers.recurrent.LSTMCell object at 0x7ffa247f77f0> has the same name 'LSTMCell' as a built-in Keras object. Consider renaming <class 'keras.layers.recurrent.LSTMCell'> to avoid naming conflicts when loading with `tf.keras.models.load_model`. If renaming is not possible, pass the object in the `custom_objects` parameter of the load function.\n"
     ]
    },
    {
     "output_type": "stream",
     "name": "stdout",
     "text": [
      "572/572 [==============================] - 25s 44ms/step - loss: 1.0004 - mse: 1.0004 - val_loss: 1.0162 - val_mse: 1.0162\n",
      "Epoch 20/20\n",
      "571/572 [============================>.] - ETA: 0s - loss: 1.0006 - mse: 1.0006"
     ]
    },
    {
     "output_type": "stream",
     "name": "stderr",
     "text": [
      "WARNING:absl:Found untraced functions such as lstm_cell_layer_call_fn, lstm_cell_layer_call_and_return_conditional_losses, lstm_cell_1_layer_call_fn, lstm_cell_1_layer_call_and_return_conditional_losses, lstm_cell_2_layer_call_fn while saving (showing 5 of 15). These functions will not be directly callable after loading.\n"
     ]
    },
    {
     "output_type": "stream",
     "name": "stdout",
     "text": [
      "INFO:tensorflow:Assets written to: models/TANH-e20-b64-s24-fpp1-1644209479-e20-vacc1.001-1644209502.model/assets\n"
     ]
    },
    {
     "output_type": "stream",
     "name": "stderr",
     "text": [
      "INFO:tensorflow:Assets written to: models/TANH-e20-b64-s24-fpp1-1644209479-e20-vacc1.001-1644209502.model/assets\n",
      "WARNING:absl:<keras.layers.recurrent.LSTMCell object at 0x7ff9ac89e7c0> has the same name 'LSTMCell' as a built-in Keras object. Consider renaming <class 'keras.layers.recurrent.LSTMCell'> to avoid naming conflicts when loading with `tf.keras.models.load_model`. If renaming is not possible, pass the object in the `custom_objects` parameter of the load function.\n",
      "WARNING:absl:<keras.layers.recurrent.LSTMCell object at 0x7ffa1ffc0eb0> has the same name 'LSTMCell' as a built-in Keras object. Consider renaming <class 'keras.layers.recurrent.LSTMCell'> to avoid naming conflicts when loading with `tf.keras.models.load_model`. If renaming is not possible, pass the object in the `custom_objects` parameter of the load function.\n",
      "WARNING:absl:<keras.layers.recurrent.LSTMCell object at 0x7ffa247f77f0> has the same name 'LSTMCell' as a built-in Keras object. Consider renaming <class 'keras.layers.recurrent.LSTMCell'> to avoid naming conflicts when loading with `tf.keras.models.load_model`. If renaming is not possible, pass the object in the `custom_objects` parameter of the load function.\n"
     ]
    },
    {
     "output_type": "stream",
     "name": "stdout",
     "text": [
      "572/572 [==============================] - 25s 44ms/step - loss: 1.0006 - mse: 1.0006 - val_loss: 1.0100 - val_mse: 1.0100\n"
     ]
    }
   ],
   "metadata": {}
  },
  {
   "cell_type": "code",
   "execution_count": 25,
   "source": [
    "from pushbullet import Pushbullet\n",
    "pb = Pushbullet(\"o.nyntgspLep97yl0oPDbp0nAbMIDUGiO5\")\n",
    "push = pb.push_note(f\"{time.asctime()}\", \"ML Training Done\")"
   ],
   "outputs": [],
   "metadata": {}
  }
 ],
 "metadata": {
  "orig_nbformat": 4,
  "kernelspec": {
   "name": "python3",
   "display_name": "Python 3.9.7 64-bit ('tf': conda)"
  },
  "interpreter": {
   "hash": "74525063f419452417b08d2d0dc1a8b80d67c65890b260775acd53665bc846af"
  },
  "language_info": {
   "name": "python",
   "version": "3.9.7",
   "mimetype": "text/x-python",
   "codemirror_mode": {
    "name": "ipython",
    "version": 3
   },
   "pygments_lexer": "ipython3",
   "nbconvert_exporter": "python",
   "file_extension": ".py"
  }
 },
 "nbformat": 4,
 "nbformat_minor": 2
}